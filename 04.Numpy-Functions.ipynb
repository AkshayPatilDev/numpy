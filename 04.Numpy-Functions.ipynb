{
 "cells": [
  {
   "cell_type": "markdown",
   "id": "23eacf89",
   "metadata": {},
   "source": [
    "# Numpy Functions"
   ]
  },
  {
   "cell_type": "code",
   "execution_count": 1,
   "id": "35c01f39",
   "metadata": {},
   "outputs": [],
   "source": [
    "import numpy as np\n",
    "import pandas as pd"
   ]
  },
  {
   "cell_type": "markdown",
   "id": "70f22827",
   "metadata": {},
   "source": [
    "## 1.reshape()\n"
   ]
  },
  {
   "cell_type": "code",
   "execution_count": 2,
   "id": "8cbaf7d0",
   "metadata": {},
   "outputs": [
    {
     "data": {
      "text/plain": [
       "array([1, 2, 3, 4, 5, 6])"
      ]
     },
     "execution_count": 2,
     "metadata": {},
     "output_type": "execute_result"
    }
   ],
   "source": [
    "arr = np.array([1,2,3,4,5,6])\n",
    "arr"
   ]
  },
  {
   "cell_type": "code",
   "execution_count": 3,
   "id": "47223789",
   "metadata": {},
   "outputs": [
    {
     "data": {
      "text/plain": [
       "array([[1, 2, 3],\n",
       "       [4, 5, 6]])"
      ]
     },
     "execution_count": 3,
     "metadata": {},
     "output_type": "execute_result"
    }
   ],
   "source": [
    "arr.reshape(2,3)"
   ]
  },
  {
   "cell_type": "code",
   "execution_count": 4,
   "id": "d7966f93",
   "metadata": {},
   "outputs": [
    {
     "data": {
      "text/plain": [
       "array([[1, 2],\n",
       "       [3, 4],\n",
       "       [5, 6]])"
      ]
     },
     "execution_count": 4,
     "metadata": {},
     "output_type": "execute_result"
    }
   ],
   "source": [
    "arr.reshape(3,2)"
   ]
  },
  {
   "cell_type": "code",
   "execution_count": 5,
   "id": "6decbc9f",
   "metadata": {},
   "outputs": [
    {
     "data": {
      "text/plain": [
       "array([[1, 2, 3, 4, 5, 6]])"
      ]
     },
     "execution_count": 5,
     "metadata": {},
     "output_type": "execute_result"
    }
   ],
   "source": [
    "arr.reshape(1,6)"
   ]
  },
  {
   "cell_type": "code",
   "execution_count": 6,
   "id": "3e658aab",
   "metadata": {},
   "outputs": [
    {
     "data": {
      "text/plain": [
       "array([[1],\n",
       "       [2],\n",
       "       [3],\n",
       "       [4],\n",
       "       [5],\n",
       "       [6]])"
      ]
     },
     "execution_count": 6,
     "metadata": {},
     "output_type": "execute_result"
    }
   ],
   "source": [
    "arr.reshape(6,1)"
   ]
  },
  {
   "cell_type": "markdown",
   "id": "c0604a28",
   "metadata": {},
   "source": [
    "## 2.np.nditer()"
   ]
  },
  {
   "cell_type": "code",
   "execution_count": 8,
   "id": "31233940",
   "metadata": {},
   "outputs": [
    {
     "data": {
      "text/plain": [
       "array([[1, 2, 3],\n",
       "       [4, 5, 6]])"
      ]
     },
     "execution_count": 8,
     "metadata": {},
     "output_type": "execute_result"
    }
   ],
   "source": [
    "arr = np.array(\n",
    "    [[1,2,3],\n",
    "    [4,5,6]]\n",
    ")\n",
    "arr"
   ]
  },
  {
   "cell_type": "code",
   "execution_count": 10,
   "id": "57fd8c2d",
   "metadata": {},
   "outputs": [
    {
     "name": "stdout",
     "output_type": "stream",
     "text": [
      "[1 2 3]\n",
      "[4 5 6]\n"
     ]
    }
   ],
   "source": [
    "for i in arr:\n",
    "    print(i)"
   ]
  },
  {
   "cell_type": "code",
   "execution_count": 11,
   "id": "1dbedf4a",
   "metadata": {},
   "outputs": [
    {
     "name": "stdout",
     "output_type": "stream",
     "text": [
      "1\n",
      "2\n",
      "3\n",
      "4\n",
      "5\n",
      "6\n"
     ]
    }
   ],
   "source": [
    "for i in arr:\n",
    "    for j in i:\n",
    "        print(j)"
   ]
  },
  {
   "cell_type": "code",
   "execution_count": 12,
   "id": "77642e4a",
   "metadata": {},
   "outputs": [
    {
     "data": {
      "text/plain": [
       "array([[1, 2, 3],\n",
       "       [4, 5, 6]])"
      ]
     },
     "execution_count": 12,
     "metadata": {},
     "output_type": "execute_result"
    }
   ],
   "source": [
    "arr"
   ]
  },
  {
   "cell_type": "code",
   "execution_count": 13,
   "id": "3c4f8f8c",
   "metadata": {},
   "outputs": [
    {
     "name": "stdout",
     "output_type": "stream",
     "text": [
      "1\n",
      "2\n",
      "3\n",
      "4\n",
      "5\n",
      "6\n"
     ]
    }
   ],
   "source": [
    "for i in np.nditer(arr):\n",
    "    print(i)"
   ]
  },
  {
   "cell_type": "code",
   "execution_count": 14,
   "id": "2b884c8d",
   "metadata": {},
   "outputs": [
    {
     "data": {
      "text/plain": [
       "<numpy.nditer at 0x1ee51b0ce90>"
      ]
     },
     "execution_count": 14,
     "metadata": {},
     "output_type": "execute_result"
    }
   ],
   "source": [
    "xyz = np.nditer(arr)\n",
    "xyz"
   ]
  },
  {
   "cell_type": "code",
   "execution_count": 15,
   "id": "819fc5f4",
   "metadata": {},
   "outputs": [
    {
     "data": {
      "text/plain": [
       "array(1)"
      ]
     },
     "execution_count": 15,
     "metadata": {},
     "output_type": "execute_result"
    }
   ],
   "source": [
    "next(xyz)"
   ]
  },
  {
   "cell_type": "code",
   "execution_count": 16,
   "id": "13510f72",
   "metadata": {},
   "outputs": [
    {
     "data": {
      "text/plain": [
       "array(2)"
      ]
     },
     "execution_count": 16,
     "metadata": {},
     "output_type": "execute_result"
    }
   ],
   "source": [
    "next(xyz)"
   ]
  },
  {
   "cell_type": "code",
   "execution_count": 17,
   "id": "1b3bc27c",
   "metadata": {},
   "outputs": [
    {
     "data": {
      "text/plain": [
       "array(3)"
      ]
     },
     "execution_count": 17,
     "metadata": {},
     "output_type": "execute_result"
    }
   ],
   "source": [
    "next(xyz)"
   ]
  },
  {
   "cell_type": "code",
   "execution_count": 18,
   "id": "3c3d9d9e",
   "metadata": {},
   "outputs": [
    {
     "data": {
      "text/plain": [
       "array(4)"
      ]
     },
     "execution_count": 18,
     "metadata": {},
     "output_type": "execute_result"
    }
   ],
   "source": [
    "next(xyz)"
   ]
  },
  {
   "cell_type": "code",
   "execution_count": 19,
   "id": "be0c640b",
   "metadata": {},
   "outputs": [
    {
     "data": {
      "text/plain": [
       "array(5)"
      ]
     },
     "execution_count": 19,
     "metadata": {},
     "output_type": "execute_result"
    }
   ],
   "source": [
    "next(xyz)"
   ]
  },
  {
   "cell_type": "code",
   "execution_count": 20,
   "id": "6876a964",
   "metadata": {},
   "outputs": [
    {
     "data": {
      "text/plain": [
       "array(6)"
      ]
     },
     "execution_count": 20,
     "metadata": {},
     "output_type": "execute_result"
    }
   ],
   "source": [
    "next(xyz)"
   ]
  },
  {
   "cell_type": "code",
   "execution_count": 21,
   "id": "611eef09",
   "metadata": {},
   "outputs": [
    {
     "ename": "StopIteration",
     "evalue": "",
     "output_type": "error",
     "traceback": [
      "\u001b[1;31m---------------------------------------------------------------------------\u001b[0m",
      "\u001b[1;31mStopIteration\u001b[0m                             Traceback (most recent call last)",
      "Cell \u001b[1;32mIn [21], line 1\u001b[0m\n\u001b[1;32m----> 1\u001b[0m \u001b[38;5;28;43mnext\u001b[39;49m\u001b[43m(\u001b[49m\u001b[43mxyz\u001b[49m\u001b[43m)\u001b[49m\n",
      "\u001b[1;31mStopIteration\u001b[0m: "
     ]
    }
   ],
   "source": [
    "next(xyz)"
   ]
  },
  {
   "cell_type": "markdown",
   "id": "52ee5ab9",
   "metadata": {},
   "source": [
    "## 3.np.ndenumerate()"
   ]
  },
  {
   "cell_type": "code",
   "execution_count": 25,
   "id": "9de32b42",
   "metadata": {},
   "outputs": [
    {
     "data": {
      "text/plain": [
       "array([[1, 2, 3],\n",
       "       [4, 5, 6]])"
      ]
     },
     "execution_count": 25,
     "metadata": {},
     "output_type": "execute_result"
    }
   ],
   "source": [
    "arr"
   ]
  },
  {
   "cell_type": "code",
   "execution_count": 26,
   "id": "f7f5d17a",
   "metadata": {},
   "outputs": [
    {
     "name": "stdout",
     "output_type": "stream",
     "text": [
      "0 [1 2 3]\n",
      "1 [4 5 6]\n"
     ]
    }
   ],
   "source": [
    "for i,j in enumerate(arr):\n",
    "    print(i,j)"
   ]
  },
  {
   "cell_type": "code",
   "execution_count": 27,
   "id": "71f5ac5b",
   "metadata": {},
   "outputs": [
    {
     "name": "stdout",
     "output_type": "stream",
     "text": [
      "(0, 0) 1\n",
      "(0, 1) 2\n",
      "(0, 2) 3\n",
      "(1, 0) 4\n",
      "(1, 1) 5\n",
      "(1, 2) 6\n"
     ]
    }
   ],
   "source": [
    "for i,j in np.ndenumerate(arr):\n",
    "    print(i,j)"
   ]
  },
  {
   "cell_type": "markdown",
   "id": "d43a30c2",
   "metadata": {},
   "source": [
    "## 4.zeros()"
   ]
  },
  {
   "cell_type": "code",
   "execution_count": 29,
   "id": "34375aa8",
   "metadata": {},
   "outputs": [
    {
     "data": {
      "text/plain": [
       "array([0., 0., 0., 0., 0.])"
      ]
     },
     "execution_count": 29,
     "metadata": {},
     "output_type": "execute_result"
    }
   ],
   "source": [
    "arr = np.zeros(5)\n",
    "arr"
   ]
  },
  {
   "cell_type": "code",
   "execution_count": 30,
   "id": "47c9d4fb",
   "metadata": {},
   "outputs": [
    {
     "data": {
      "text/plain": [
       "array([0, 0, 0, 0, 0])"
      ]
     },
     "execution_count": 30,
     "metadata": {},
     "output_type": "execute_result"
    }
   ],
   "source": [
    "arr = np.zeros(5,int)\n",
    "arr"
   ]
  },
  {
   "cell_type": "code",
   "execution_count": 34,
   "id": "fc6a7895",
   "metadata": {},
   "outputs": [
    {
     "data": {
      "text/plain": [
       "array([[0, 0, 0, 0, 0],\n",
       "       [0, 0, 0, 0, 0],\n",
       "       [0, 0, 0, 0, 0],\n",
       "       [0, 0, 0, 0, 0],\n",
       "       [0, 0, 0, 0, 0]])"
      ]
     },
     "execution_count": 34,
     "metadata": {},
     "output_type": "execute_result"
    }
   ],
   "source": [
    "arr = np.zeros((5,5),int)\n",
    "arr"
   ]
  },
  {
   "cell_type": "markdown",
   "id": "825c3f66",
   "metadata": {},
   "source": [
    "## 5.ones()"
   ]
  },
  {
   "cell_type": "code",
   "execution_count": 35,
   "id": "7860e238",
   "metadata": {},
   "outputs": [
    {
     "data": {
      "text/plain": [
       "array([1., 1., 1., 1., 1.])"
      ]
     },
     "execution_count": 35,
     "metadata": {},
     "output_type": "execute_result"
    }
   ],
   "source": [
    "arr = np.ones(5)\n",
    "arr"
   ]
  },
  {
   "cell_type": "code",
   "execution_count": 36,
   "id": "f2f7a0d7",
   "metadata": {},
   "outputs": [
    {
     "data": {
      "text/plain": [
       "array([1, 1, 1, 1, 1])"
      ]
     },
     "execution_count": 36,
     "metadata": {},
     "output_type": "execute_result"
    }
   ],
   "source": [
    "arr = np.ones(5,int)\n",
    "arr"
   ]
  },
  {
   "cell_type": "code",
   "execution_count": 37,
   "id": "c9da6e56",
   "metadata": {},
   "outputs": [
    {
     "data": {
      "text/plain": [
       "array([[1, 1, 1, 1, 1],\n",
       "       [1, 1, 1, 1, 1],\n",
       "       [1, 1, 1, 1, 1],\n",
       "       [1, 1, 1, 1, 1],\n",
       "       [1, 1, 1, 1, 1]])"
      ]
     },
     "execution_count": 37,
     "metadata": {},
     "output_type": "execute_result"
    }
   ],
   "source": [
    "arr = np.ones((5,5),int)\n",
    "arr"
   ]
  },
  {
   "cell_type": "markdown",
   "id": "14e71721",
   "metadata": {},
   "source": [
    "## 6.arange()"
   ]
  },
  {
   "cell_type": "code",
   "execution_count": 38,
   "id": "6b459747",
   "metadata": {},
   "outputs": [
    {
     "data": {
      "text/plain": [
       "range(1, 11)"
      ]
     },
     "execution_count": 38,
     "metadata": {},
     "output_type": "execute_result"
    }
   ],
   "source": [
    "range(1,11)"
   ]
  },
  {
   "cell_type": "code",
   "execution_count": 39,
   "id": "dba918d4",
   "metadata": {},
   "outputs": [
    {
     "data": {
      "text/plain": [
       "[1, 2, 3, 4, 5, 6, 7, 8, 9, 10]"
      ]
     },
     "execution_count": 39,
     "metadata": {},
     "output_type": "execute_result"
    }
   ],
   "source": [
    "list(range(1,11))"
   ]
  },
  {
   "cell_type": "code",
   "execution_count": 43,
   "id": "6e0d3e92",
   "metadata": {},
   "outputs": [
    {
     "data": {
      "text/plain": [
       "array([ 1,  2,  3,  4,  5,  6,  7,  8,  9, 10])"
      ]
     },
     "execution_count": 43,
     "metadata": {},
     "output_type": "execute_result"
    }
   ],
   "source": [
    "arr = np.arange(1,11)\n",
    "arr"
   ]
  },
  {
   "cell_type": "code",
   "execution_count": 44,
   "id": "aa0c719e",
   "metadata": {},
   "outputs": [
    {
     "data": {
      "text/plain": [
       "[1, 3, 5, 7, 9]"
      ]
     },
     "execution_count": 44,
     "metadata": {},
     "output_type": "execute_result"
    }
   ],
   "source": [
    "list(range(1,11,2))"
   ]
  },
  {
   "cell_type": "code",
   "execution_count": 46,
   "id": "68882159",
   "metadata": {},
   "outputs": [
    {
     "data": {
      "text/plain": [
       "array([1, 3, 5, 7, 9])"
      ]
     },
     "execution_count": 46,
     "metadata": {},
     "output_type": "execute_result"
    }
   ],
   "source": [
    "arr = np.arange(1,11,2)\n",
    "arr"
   ]
  },
  {
   "cell_type": "code",
   "execution_count": 49,
   "id": "da72de28",
   "metadata": {},
   "outputs": [
    {
     "data": {
      "text/plain": [
       "array([10,  9,  8,  7,  6,  5,  4,  3,  2,  1])"
      ]
     },
     "execution_count": 49,
     "metadata": {},
     "output_type": "execute_result"
    }
   ],
   "source": [
    "arr = np.arange(10,0,-1)\n",
    "arr"
   ]
  },
  {
   "cell_type": "code",
   "execution_count": 50,
   "id": "4c8dedbf",
   "metadata": {},
   "outputs": [
    {
     "data": {
      "text/plain": [
       "[]"
      ]
     },
     "execution_count": 50,
     "metadata": {},
     "output_type": "execute_result"
    }
   ],
   "source": [
    "list(range(5,-1))"
   ]
  },
  {
   "cell_type": "code",
   "execution_count": 51,
   "id": "dc7e8661",
   "metadata": {},
   "outputs": [
    {
     "data": {
      "text/plain": [
       "array([], dtype=int32)"
      ]
     },
     "execution_count": 51,
     "metadata": {},
     "output_type": "execute_result"
    }
   ],
   "source": [
    "arr = np.arange(5,-1)\n",
    "arr"
   ]
  },
  {
   "cell_type": "code",
   "execution_count": 54,
   "id": "1a8f3870",
   "metadata": {},
   "outputs": [
    {
     "data": {
      "text/plain": [
       "array([5, 4, 3, 2, 1, 0])"
      ]
     },
     "execution_count": 54,
     "metadata": {},
     "output_type": "execute_result"
    }
   ],
   "source": [
    "arr = np.arange(5,-1,-1)\n",
    "arr"
   ]
  },
  {
   "cell_type": "markdown",
   "id": "5d93c0f3",
   "metadata": {},
   "source": [
    "## 7.linspace()\n",
    "- Return evenly spaced values\n",
    "- syntax --> np.linspace(start,end,num=50)"
   ]
  },
  {
   "cell_type": "code",
   "execution_count": 56,
   "id": "d41e1d66",
   "metadata": {},
   "outputs": [
    {
     "data": {
      "text/plain": [
       "array([ 1.,  2.,  3.,  4.,  5.,  6.,  7.,  8.,  9., 10., 11., 12., 13.,\n",
       "       14., 15., 16., 17., 18., 19., 20., 21., 22., 23., 24., 25., 26.,\n",
       "       27., 28., 29., 30., 31., 32., 33., 34., 35., 36., 37., 38., 39.,\n",
       "       40., 41., 42., 43., 44., 45., 46., 47., 48., 49., 50.])"
      ]
     },
     "execution_count": 56,
     "metadata": {},
     "output_type": "execute_result"
    }
   ],
   "source": [
    "arr = np.linspace(1,50,num=50)\n",
    "arr"
   ]
  },
  {
   "cell_type": "code",
   "execution_count": 57,
   "id": "4feb1e50",
   "metadata": {},
   "outputs": [
    {
     "data": {
      "text/plain": [
       "array([ 1.        ,  3.04166667,  5.08333333,  7.125     ,  9.16666667,\n",
       "       11.20833333, 13.25      , 15.29166667, 17.33333333, 19.375     ,\n",
       "       21.41666667, 23.45833333, 25.5       , 27.54166667, 29.58333333,\n",
       "       31.625     , 33.66666667, 35.70833333, 37.75      , 39.79166667,\n",
       "       41.83333333, 43.875     , 45.91666667, 47.95833333, 50.        ])"
      ]
     },
     "execution_count": 57,
     "metadata": {},
     "output_type": "execute_result"
    }
   ],
   "source": [
    "arr = np.linspace(1,50,num=25)\n",
    "arr"
   ]
  },
  {
   "cell_type": "code",
   "execution_count": 59,
   "id": "09cb371d",
   "metadata": {},
   "outputs": [
    {
     "data": {
      "text/plain": [
       "array([ 1.        ,  6.44444444, 11.88888889, 17.33333333, 22.77777778,\n",
       "       28.22222222, 33.66666667, 39.11111111, 44.55555556, 50.        ])"
      ]
     },
     "execution_count": 59,
     "metadata": {},
     "output_type": "execute_result"
    }
   ],
   "source": [
    "arr = np.linspace(1,50,num=10)\n",
    "arr"
   ]
  },
  {
   "cell_type": "code",
   "execution_count": 60,
   "id": "12b7f29a",
   "metadata": {},
   "outputs": [
    {
     "data": {
      "text/plain": [
       "5.44444444"
      ]
     },
     "execution_count": 60,
     "metadata": {},
     "output_type": "execute_result"
    }
   ],
   "source": [
    "6.44444444 - 1"
   ]
  },
  {
   "cell_type": "code",
   "execution_count": 61,
   "id": "4a6100ab",
   "metadata": {},
   "outputs": [
    {
     "data": {
      "text/plain": [
       "5.444444450000001"
      ]
     },
     "execution_count": 61,
     "metadata": {},
     "output_type": "execute_result"
    }
   ],
   "source": [
    "11.88888889 - 6.44444444"
   ]
  },
  {
   "cell_type": "code",
   "execution_count": 66,
   "id": "5da4c5c0",
   "metadata": {},
   "outputs": [
    {
     "data": {
      "text/plain": [
       "(array([ 1.        ,  6.44444444, 11.88888889, 17.33333333, 22.77777778,\n",
       "        28.22222222, 33.66666667, 39.11111111, 44.55555556, 50.        ]),\n",
       " 5.444444444444445)"
      ]
     },
     "execution_count": 66,
     "metadata": {},
     "output_type": "execute_result"
    }
   ],
   "source": [
    "arr = np.linspace(1,50,num=10,retstep=True)\n",
    "arr"
   ]
  },
  {
   "cell_type": "code",
   "execution_count": 67,
   "id": "541f37bb",
   "metadata": {},
   "outputs": [
    {
     "data": {
      "text/plain": [
       "2"
      ]
     },
     "execution_count": 67,
     "metadata": {},
     "output_type": "execute_result"
    }
   ],
   "source": [
    "len(arr)"
   ]
  },
  {
   "cell_type": "code",
   "execution_count": 68,
   "id": "8ff6ea22",
   "metadata": {},
   "outputs": [
    {
     "data": {
      "text/plain": [
       "array([ 1.        ,  6.44444444, 11.88888889, 17.33333333, 22.77777778,\n",
       "       28.22222222, 33.66666667, 39.11111111, 44.55555556, 50.        ])"
      ]
     },
     "execution_count": 68,
     "metadata": {},
     "output_type": "execute_result"
    }
   ],
   "source": [
    "arr[0]"
   ]
  },
  {
   "cell_type": "code",
   "execution_count": 69,
   "id": "e6aaee10",
   "metadata": {},
   "outputs": [
    {
     "data": {
      "text/plain": [
       "5.444444444444445"
      ]
     },
     "execution_count": 69,
     "metadata": {},
     "output_type": "execute_result"
    }
   ],
   "source": [
    "arr[1]"
   ]
  },
  {
   "cell_type": "code",
   "execution_count": 70,
   "id": "e19b58b8",
   "metadata": {},
   "outputs": [
    {
     "name": "stdout",
     "output_type": "stream",
     "text": [
      "The evenly spaced array --> \n",
      "\n",
      "[ 1.          6.44444444 11.88888889 17.33333333 22.77777778 28.22222222\n",
      " 33.66666667 39.11111111 44.55555556 50.        ]\n",
      "\n",
      "the step size --> \n",
      "\n",
      "5.444444444444445\n"
     ]
    }
   ],
   "source": [
    "print(f\"The evenly spaced array --> \\n\\n{arr[0]}\\n\\nthe step size --> \\n\\n{arr[1]}\")"
   ]
  },
  {
   "cell_type": "code",
   "execution_count": 72,
   "id": "d25101fa",
   "metadata": {},
   "outputs": [
    {
     "data": {
      "text/plain": [
       "array([  1.,  12.,  23.,  34.,  45.,  56.,  67.,  78.,  89., 100.])"
      ]
     },
     "execution_count": 72,
     "metadata": {},
     "output_type": "execute_result"
    }
   ],
   "source": [
    "arr = np.linspace(1,100,num=10)\n",
    "arr"
   ]
  },
  {
   "cell_type": "code",
   "execution_count": 73,
   "id": "7b5e873d",
   "metadata": {},
   "outputs": [
    {
     "data": {
      "text/plain": [
       "11"
      ]
     },
     "execution_count": 73,
     "metadata": {},
     "output_type": "execute_result"
    }
   ],
   "source": [
    "23 - 12"
   ]
  },
  {
   "cell_type": "code",
   "execution_count": 74,
   "id": "db379998",
   "metadata": {},
   "outputs": [
    {
     "data": {
      "text/plain": [
       "11"
      ]
     },
     "execution_count": 74,
     "metadata": {},
     "output_type": "execute_result"
    }
   ],
   "source": [
    "34 - 23"
   ]
  },
  {
   "cell_type": "code",
   "execution_count": 75,
   "id": "3fd2dcbf",
   "metadata": {},
   "outputs": [
    {
     "data": {
      "text/plain": [
       "11"
      ]
     },
     "execution_count": 75,
     "metadata": {},
     "output_type": "execute_result"
    }
   ],
   "source": [
    "45 - 34"
   ]
  },
  {
   "cell_type": "code",
   "execution_count": 77,
   "id": "529065ea",
   "metadata": {},
   "outputs": [
    {
     "data": {
      "text/plain": [
       "(array([  1.,  12.,  23.,  34.,  45.,  56.,  67.,  78.,  89., 100.]), 11.0)"
      ]
     },
     "execution_count": 77,
     "metadata": {},
     "output_type": "execute_result"
    }
   ],
   "source": [
    "arr = np.linspace(1,100,num=10,retstep=True)\n",
    "arr"
   ]
  },
  {
   "cell_type": "code",
   "execution_count": 78,
   "id": "b7bbfc12",
   "metadata": {},
   "outputs": [
    {
     "data": {
      "text/plain": [
       "(array([  1.        ,  12.11111111,  23.22222222,  34.33333333,\n",
       "         45.44444444,  56.55555556,  67.66666667,  78.77777778,\n",
       "         89.88888889, 101.        ]),\n",
       " 11.11111111111111)"
      ]
     },
     "execution_count": 78,
     "metadata": {},
     "output_type": "execute_result"
    }
   ],
   "source": [
    "arr = np.linspace(1,101,num=10,retstep=True)\n",
    "arr"
   ]
  },
  {
   "cell_type": "code",
   "execution_count": 79,
   "id": "bbc159aa",
   "metadata": {},
   "outputs": [
    {
     "name": "stdout",
     "output_type": "stream",
     "text": [
      "The evenly spaced array --> \n",
      "\n",
      "[ 1.  2.  3.  4.  5.  6.  7.  8.  9. 10. 11. 12. 13. 14. 15. 16. 17. 18.\n",
      " 19. 20. 21. 22. 23. 24. 25. 26. 27. 28. 29. 30. 31. 32. 33. 34. 35. 36.\n",
      " 37. 38. 39. 40. 41. 42. 43. 44. 45. 46. 47. 48. 49. 50.]\n",
      "\n",
      "The step size --> \n",
      "\n",
      "1.0\n"
     ]
    }
   ],
   "source": [
    "arr = np.linspace(1,50,num=50,retstep=True)\n",
    "print(f\"The evenly spaced array --> \\n\\n{arr[0]}\\n\\nThe step size --> \\n\\n{arr[1]}\")"
   ]
  },
  {
   "cell_type": "code",
   "execution_count": 80,
   "id": "ac37f2ff",
   "metadata": {},
   "outputs": [
    {
     "name": "stdout",
     "output_type": "stream",
     "text": [
      "The evenly spaced array --> \n",
      "\n",
      "[  1.           3.02040816   5.04081633   7.06122449   9.08163265\n",
      "  11.10204082  13.12244898  15.14285714  17.16326531  19.18367347\n",
      "  21.20408163  23.2244898   25.24489796  27.26530612  29.28571429\n",
      "  31.30612245  33.32653061  35.34693878  37.36734694  39.3877551\n",
      "  41.40816327  43.42857143  45.44897959  47.46938776  49.48979592\n",
      "  51.51020408  53.53061224  55.55102041  57.57142857  59.59183673\n",
      "  61.6122449   63.63265306  65.65306122  67.67346939  69.69387755\n",
      "  71.71428571  73.73469388  75.75510204  77.7755102   79.79591837\n",
      "  81.81632653  83.83673469  85.85714286  87.87755102  89.89795918\n",
      "  91.91836735  93.93877551  95.95918367  97.97959184 100.        ]\n",
      "\n",
      "The step size --> \n",
      "\n",
      "2.020408163265306\n"
     ]
    }
   ],
   "source": [
    "arr = np.linspace(1,100,num=50,retstep=True)\n",
    "print(f\"The evenly spaced array --> \\n\\n{arr[0]}\\n\\nThe step size --> \\n\\n{arr[1]}\")"
   ]
  },
  {
   "cell_type": "markdown",
   "id": "d50e33b8",
   "metadata": {},
   "source": [
    "## 8.eye()\n",
    "- It will return an array with ones on diagonal and zeros elsewhere\n",
    "- np.eye(shape,dtype)"
   ]
  },
  {
   "cell_type": "code",
   "execution_count": 83,
   "id": "297ff4a0",
   "metadata": {},
   "outputs": [
    {
     "data": {
      "text/plain": [
       "array([[1., 0., 0., 0., 0.],\n",
       "       [0., 1., 0., 0., 0.],\n",
       "       [0., 0., 1., 0., 0.],\n",
       "       [0., 0., 0., 1., 0.],\n",
       "       [0., 0., 0., 0., 1.]])"
      ]
     },
     "execution_count": 83,
     "metadata": {},
     "output_type": "execute_result"
    }
   ],
   "source": [
    "arr = np.eye(5)\n",
    "arr"
   ]
  },
  {
   "cell_type": "code",
   "execution_count": 84,
   "id": "47a1b115",
   "metadata": {},
   "outputs": [
    {
     "data": {
      "text/plain": [
       "array([[1., 0., 0.],\n",
       "       [0., 1., 0.],\n",
       "       [0., 0., 1.]])"
      ]
     },
     "execution_count": 84,
     "metadata": {},
     "output_type": "execute_result"
    }
   ],
   "source": [
    "arr = np.eye(3)\n",
    "arr"
   ]
  },
  {
   "cell_type": "code",
   "execution_count": 86,
   "id": "aa61c5d9",
   "metadata": {},
   "outputs": [
    {
     "data": {
      "text/plain": [
       "array([[1, 0, 0, 0, 0],\n",
       "       [0, 1, 0, 0, 0],\n",
       "       [0, 0, 1, 0, 0]])"
      ]
     },
     "execution_count": 86,
     "metadata": {},
     "output_type": "execute_result"
    }
   ],
   "source": [
    "arr = np.eye(3,5,dtype=int)\n",
    "arr"
   ]
  },
  {
   "cell_type": "code",
   "execution_count": 87,
   "id": "b73616f5",
   "metadata": {},
   "outputs": [
    {
     "data": {
      "text/plain": [
       "array([[1, 0, 0, 0, 0],\n",
       "       [0, 1, 0, 0, 0],\n",
       "       [0, 0, 1, 0, 0],\n",
       "       [0, 0, 0, 1, 0]])"
      ]
     },
     "execution_count": 87,
     "metadata": {},
     "output_type": "execute_result"
    }
   ],
   "source": [
    "arr = np.eye(4,5,dtype=int)\n",
    "arr"
   ]
  },
  {
   "cell_type": "code",
   "execution_count": 88,
   "id": "b61247e4",
   "metadata": {},
   "outputs": [
    {
     "data": {
      "text/plain": [
       "array([[1, 0, 0, 0, 0, 0, 0, 0, 0, 0, 0, 0, 0, 0, 0],\n",
       "       [0, 1, 0, 0, 0, 0, 0, 0, 0, 0, 0, 0, 0, 0, 0],\n",
       "       [0, 0, 1, 0, 0, 0, 0, 0, 0, 0, 0, 0, 0, 0, 0],\n",
       "       [0, 0, 0, 1, 0, 0, 0, 0, 0, 0, 0, 0, 0, 0, 0]])"
      ]
     },
     "execution_count": 88,
     "metadata": {},
     "output_type": "execute_result"
    }
   ],
   "source": [
    "arr = np.eye(4,15,dtype=int)\n",
    "arr"
   ]
  },
  {
   "cell_type": "code",
   "execution_count": 89,
   "id": "06bc8d41",
   "metadata": {},
   "outputs": [
    {
     "data": {
      "text/plain": [
       "array([[1, 0, 0, 0, 0, 0, 0, 0, 0, 0, 0, 0, 0, 0, 0],\n",
       "       [0, 1, 0, 0, 0, 0, 0, 0, 0, 0, 0, 0, 0, 0, 0],\n",
       "       [0, 0, 1, 0, 0, 0, 0, 0, 0, 0, 0, 0, 0, 0, 0],\n",
       "       [0, 0, 0, 1, 0, 0, 0, 0, 0, 0, 0, 0, 0, 0, 0],\n",
       "       [0, 0, 0, 0, 1, 0, 0, 0, 0, 0, 0, 0, 0, 0, 0],\n",
       "       [0, 0, 0, 0, 0, 1, 0, 0, 0, 0, 0, 0, 0, 0, 0],\n",
       "       [0, 0, 0, 0, 0, 0, 1, 0, 0, 0, 0, 0, 0, 0, 0],\n",
       "       [0, 0, 0, 0, 0, 0, 0, 1, 0, 0, 0, 0, 0, 0, 0],\n",
       "       [0, 0, 0, 0, 0, 0, 0, 0, 1, 0, 0, 0, 0, 0, 0],\n",
       "       [0, 0, 0, 0, 0, 0, 0, 0, 0, 1, 0, 0, 0, 0, 0]])"
      ]
     },
     "execution_count": 89,
     "metadata": {},
     "output_type": "execute_result"
    }
   ],
   "source": [
    "arr = np.eye(10,15,dtype=int)\n",
    "arr"
   ]
  },
  {
   "cell_type": "markdown",
   "id": "6a2c3187",
   "metadata": {},
   "source": [
    "## 9.identity()\n",
    "- Identity matrix will be returned\n",
    "- num of rows = num of column\n",
    "- np.identity(value)"
   ]
  },
  {
   "cell_type": "code",
   "execution_count": 90,
   "id": "5932175e",
   "metadata": {},
   "outputs": [
    {
     "data": {
      "text/plain": [
       "array([[1., 0., 0., 0., 0.],\n",
       "       [0., 1., 0., 0., 0.],\n",
       "       [0., 0., 1., 0., 0.],\n",
       "       [0., 0., 0., 1., 0.],\n",
       "       [0., 0., 0., 0., 1.]])"
      ]
     },
     "execution_count": 90,
     "metadata": {},
     "output_type": "execute_result"
    }
   ],
   "source": [
    "arr = np.identity(5)\n",
    "arr"
   ]
  },
  {
   "cell_type": "code",
   "execution_count": 91,
   "id": "35a5e807",
   "metadata": {},
   "outputs": [
    {
     "data": {
      "text/plain": [
       "array([[1., 0., 0.],\n",
       "       [0., 1., 0.],\n",
       "       [0., 0., 1.]])"
      ]
     },
     "execution_count": 91,
     "metadata": {},
     "output_type": "execute_result"
    }
   ],
   "source": [
    "arr = np.identity(3)\n",
    "arr"
   ]
  },
  {
   "cell_type": "code",
   "execution_count": 92,
   "id": "12b2cfef",
   "metadata": {},
   "outputs": [
    {
     "data": {
      "text/plain": [
       "array([[1, 0, 0, 0, 0, 0, 0, 0, 0, 0],\n",
       "       [0, 1, 0, 0, 0, 0, 0, 0, 0, 0],\n",
       "       [0, 0, 1, 0, 0, 0, 0, 0, 0, 0],\n",
       "       [0, 0, 0, 1, 0, 0, 0, 0, 0, 0],\n",
       "       [0, 0, 0, 0, 1, 0, 0, 0, 0, 0],\n",
       "       [0, 0, 0, 0, 0, 1, 0, 0, 0, 0],\n",
       "       [0, 0, 0, 0, 0, 0, 1, 0, 0, 0],\n",
       "       [0, 0, 0, 0, 0, 0, 0, 1, 0, 0],\n",
       "       [0, 0, 0, 0, 0, 0, 0, 0, 1, 0],\n",
       "       [0, 0, 0, 0, 0, 0, 0, 0, 0, 1]])"
      ]
     },
     "execution_count": 92,
     "metadata": {},
     "output_type": "execute_result"
    }
   ],
   "source": [
    "arr = np.identity(10,dtype=int)\n",
    "arr"
   ]
  },
  {
   "cell_type": "code",
   "execution_count": 93,
   "id": "786dad9f",
   "metadata": {},
   "outputs": [
    {
     "ename": "TypeError",
     "evalue": "identity() got multiple values for argument 'dtype'",
     "output_type": "error",
     "traceback": [
      "\u001b[1;31m---------------------------------------------------------------------------\u001b[0m",
      "\u001b[1;31mTypeError\u001b[0m                                 Traceback (most recent call last)",
      "Cell \u001b[1;32mIn [93], line 1\u001b[0m\n\u001b[1;32m----> 1\u001b[0m arr \u001b[38;5;241m=\u001b[39m \u001b[43mnp\u001b[49m\u001b[38;5;241;43m.\u001b[39;49m\u001b[43midentity\u001b[49m\u001b[43m(\u001b[49m\u001b[38;5;241;43m10\u001b[39;49m\u001b[43m,\u001b[49m\u001b[38;5;241;43m15\u001b[39;49m\u001b[43m,\u001b[49m\u001b[43mdtype\u001b[49m\u001b[38;5;241;43m=\u001b[39;49m\u001b[38;5;28;43mint\u001b[39;49m\u001b[43m)\u001b[49m\n\u001b[0;32m      2\u001b[0m arr\n",
      "\u001b[1;31mTypeError\u001b[0m: identity() got multiple values for argument 'dtype'"
     ]
    }
   ],
   "source": [
    "arr = np.identity(10,15,dtype=int)\n",
    "arr"
   ]
  },
  {
   "cell_type": "markdown",
   "id": "aa7d5faa",
   "metadata": {},
   "source": [
    "## 10.random()\n",
    "- Used to generate random valued array\n",
    "- 1.rand()\n",
    "- 2.randint()\n",
    "- 3.randn()\n",
    "- 4.ranf()"
   ]
  },
  {
   "cell_type": "markdown",
   "id": "1772f30b",
   "metadata": {},
   "source": [
    "### 10.1 rand()\n",
    "- It will return value between 0 and 1"
   ]
  },
  {
   "cell_type": "raw",
   "id": "74945ee0",
   "metadata": {},
   "source": [
    "syntax --> np.random.rand()"
   ]
  },
  {
   "cell_type": "code",
   "execution_count": 95,
   "id": "fff26a42",
   "metadata": {},
   "outputs": [
    {
     "data": {
      "text/plain": [
       "array([0.40552408, 0.70997237, 0.23244477, 0.74208353, 0.3486292 ])"
      ]
     },
     "execution_count": 95,
     "metadata": {},
     "output_type": "execute_result"
    }
   ],
   "source": [
    "arr = np.random.rand(5)\n",
    "arr"
   ]
  },
  {
   "cell_type": "code",
   "execution_count": 96,
   "id": "eff5ad6f",
   "metadata": {},
   "outputs": [
    {
     "data": {
      "text/plain": [
       "array([[0.74250605, 0.99233632, 0.78441429, 0.07129284, 0.41978957],\n",
       "       [0.1350555 , 0.14570929, 0.34471039, 0.27501159, 0.44064853],\n",
       "       [0.29384064, 0.5718123 , 0.19913585, 0.85177036, 0.30876057],\n",
       "       [0.74595875, 0.06390496, 0.04595185, 0.87381255, 0.23760142],\n",
       "       [0.82204481, 0.26148302, 0.04378899, 0.02446283, 0.40801246]])"
      ]
     },
     "execution_count": 96,
     "metadata": {},
     "output_type": "execute_result"
    }
   ],
   "source": [
    "arr = np.random.rand(5,5)\n",
    "arr"
   ]
  },
  {
   "cell_type": "code",
   "execution_count": 97,
   "id": "e9cdd15f",
   "metadata": {},
   "outputs": [
    {
     "data": {
      "text/html": [
       "<div>\n",
       "<style scoped>\n",
       "    .dataframe tbody tr th:only-of-type {\n",
       "        vertical-align: middle;\n",
       "    }\n",
       "\n",
       "    .dataframe tbody tr th {\n",
       "        vertical-align: top;\n",
       "    }\n",
       "\n",
       "    .dataframe thead th {\n",
       "        text-align: right;\n",
       "    }\n",
       "</style>\n",
       "<table border=\"1\" class=\"dataframe\">\n",
       "  <thead>\n",
       "    <tr style=\"text-align: right;\">\n",
       "      <th></th>\n",
       "      <th>0</th>\n",
       "      <th>1</th>\n",
       "      <th>2</th>\n",
       "      <th>3</th>\n",
       "      <th>4</th>\n",
       "    </tr>\n",
       "  </thead>\n",
       "  <tbody>\n",
       "    <tr>\n",
       "      <th>0</th>\n",
       "      <td>0.742506</td>\n",
       "      <td>0.992336</td>\n",
       "      <td>0.784414</td>\n",
       "      <td>0.071293</td>\n",
       "      <td>0.419790</td>\n",
       "    </tr>\n",
       "    <tr>\n",
       "      <th>1</th>\n",
       "      <td>0.135056</td>\n",
       "      <td>0.145709</td>\n",
       "      <td>0.344710</td>\n",
       "      <td>0.275012</td>\n",
       "      <td>0.440649</td>\n",
       "    </tr>\n",
       "    <tr>\n",
       "      <th>2</th>\n",
       "      <td>0.293841</td>\n",
       "      <td>0.571812</td>\n",
       "      <td>0.199136</td>\n",
       "      <td>0.851770</td>\n",
       "      <td>0.308761</td>\n",
       "    </tr>\n",
       "    <tr>\n",
       "      <th>3</th>\n",
       "      <td>0.745959</td>\n",
       "      <td>0.063905</td>\n",
       "      <td>0.045952</td>\n",
       "      <td>0.873813</td>\n",
       "      <td>0.237601</td>\n",
       "    </tr>\n",
       "    <tr>\n",
       "      <th>4</th>\n",
       "      <td>0.822045</td>\n",
       "      <td>0.261483</td>\n",
       "      <td>0.043789</td>\n",
       "      <td>0.024463</td>\n",
       "      <td>0.408012</td>\n",
       "    </tr>\n",
       "  </tbody>\n",
       "</table>\n",
       "</div>"
      ],
      "text/plain": [
       "          0         1         2         3         4\n",
       "0  0.742506  0.992336  0.784414  0.071293  0.419790\n",
       "1  0.135056  0.145709  0.344710  0.275012  0.440649\n",
       "2  0.293841  0.571812  0.199136  0.851770  0.308761\n",
       "3  0.745959  0.063905  0.045952  0.873813  0.237601\n",
       "4  0.822045  0.261483  0.043789  0.024463  0.408012"
      ]
     },
     "execution_count": 97,
     "metadata": {},
     "output_type": "execute_result"
    }
   ],
   "source": [
    "pd.DataFrame(arr)"
   ]
  },
  {
   "cell_type": "markdown",
   "id": "01fd0f2a",
   "metadata": {},
   "source": [
    "### 10.2 randint()"
   ]
  },
  {
   "cell_type": "code",
   "execution_count": 99,
   "id": "16f55030",
   "metadata": {},
   "outputs": [
    {
     "data": {
      "text/plain": [
       "1"
      ]
     },
     "execution_count": 99,
     "metadata": {},
     "output_type": "execute_result"
    }
   ],
   "source": [
    "arr = np.random.randint(5)\n",
    "arr"
   ]
  },
  {
   "cell_type": "code",
   "execution_count": 100,
   "id": "cdeee492",
   "metadata": {},
   "outputs": [
    {
     "data": {
      "text/plain": [
       "1"
      ]
     },
     "execution_count": 100,
     "metadata": {},
     "output_type": "execute_result"
    }
   ],
   "source": [
    "arr = np.random.randint(1,5)\n",
    "arr"
   ]
  },
  {
   "cell_type": "code",
   "execution_count": 101,
   "id": "23577950",
   "metadata": {},
   "outputs": [
    {
     "data": {
      "text/plain": [
       "12"
      ]
     },
     "execution_count": 101,
     "metadata": {},
     "output_type": "execute_result"
    }
   ],
   "source": [
    "arr = np.random.randint(1,50)\n",
    "arr"
   ]
  },
  {
   "cell_type": "code",
   "execution_count": 102,
   "id": "6d5241ad",
   "metadata": {},
   "outputs": [
    {
     "data": {
      "text/plain": [
       "array([ 8, 18, 24, 47, 18, 40, 28, 14, 30,  5])"
      ]
     },
     "execution_count": 102,
     "metadata": {},
     "output_type": "execute_result"
    }
   ],
   "source": [
    "arr = np.random.randint(1,50,size=10)\n",
    "arr"
   ]
  },
  {
   "cell_type": "code",
   "execution_count": 103,
   "id": "ec2cd112",
   "metadata": {},
   "outputs": [
    {
     "data": {
      "text/plain": [
       "array([[34, 48, 41, 19, 43, 12,  1, 30, 49, 46],\n",
       "       [ 6, 22, 25, 14,  6, 31, 19,  3,  4, 48],\n",
       "       [20, 37, 28, 28, 29, 31, 24, 17, 32, 19],\n",
       "       [37, 39, 48, 37, 39, 20, 20, 49, 40, 25],\n",
       "       [42, 12, 17, 19, 41, 27, 36, 25, 36, 22],\n",
       "       [49, 41, 15,  7, 26,  6, 47, 13, 11, 36],\n",
       "       [49, 46, 27, 19, 17, 22, 48, 49, 39, 26],\n",
       "       [49, 40, 18, 35, 17, 37, 21, 43,  3, 45],\n",
       "       [31, 26,  9,  8, 30, 41, 21, 14, 22, 28],\n",
       "       [34, 41, 28, 40, 46,  4, 40, 44,  9, 22]])"
      ]
     },
     "execution_count": 103,
     "metadata": {},
     "output_type": "execute_result"
    }
   ],
   "source": [
    "arr = np.random.randint(1,50,size=(10,10))\n",
    "arr"
   ]
  },
  {
   "cell_type": "markdown",
   "id": "6ba966cb",
   "metadata": {},
   "source": [
    "### 10.3 randn()\n",
    "- It will return values which are normally distributed\n",
    "- mean 0 and variance 1"
   ]
  },
  {
   "cell_type": "code",
   "execution_count": 104,
   "id": "af263774",
   "metadata": {},
   "outputs": [
    {
     "data": {
      "text/plain": [
       "array([-0.09176608, -0.08402765,  0.1035735 , -1.06756583,  1.17953065,\n",
       "        0.66317048,  1.3640488 , -0.63483939,  1.19673837,  0.07760316])"
      ]
     },
     "execution_count": 104,
     "metadata": {},
     "output_type": "execute_result"
    }
   ],
   "source": [
    "arr = np.random.randn(10)\n",
    "arr"
   ]
  },
  {
   "cell_type": "code",
   "execution_count": 106,
   "id": "7a6873d0",
   "metadata": {},
   "outputs": [
    {
     "data": {
      "text/plain": [
       "10"
      ]
     },
     "execution_count": 106,
     "metadata": {},
     "output_type": "execute_result"
    }
   ],
   "source": [
    "arr = np.random.randn(10,10)\n",
    "len(arr)"
   ]
  },
  {
   "cell_type": "code",
   "execution_count": 107,
   "id": "91341f1d",
   "metadata": {},
   "outputs": [
    {
     "name": "stdout",
     "output_type": "stream",
     "text": [
      "[ 0.0680703   1.51456013 -0.41722578  2.63609742  1.4045171  -0.93681053\n",
      "  1.90642741 -0.37853488  0.50149901 -0.71499094]\n",
      "[ 0.33639019 -0.09741344  1.00548655  0.07855756 -0.49710785 -0.96888419\n",
      " -0.45847086  0.57626488 -0.98934397 -0.21083279]\n",
      "[ 0.98233775  0.53588446 -0.76281739 -0.19751536  1.05937708  0.38757744\n",
      " -0.13684036 -0.2060965   0.52387652 -0.40113247]\n",
      "[-0.3243833  -0.2069141   0.65795783 -1.12317    -0.30019074  0.134578\n",
      " -0.09224708  0.15265105 -1.58043689 -0.70969338]\n",
      "[ 0.26874632 -1.35873455 -0.45079334  1.07595417 -0.49539065  0.22590665\n",
      " -1.01968122  1.58861867  1.36479651 -0.92506855]\n",
      "[ 0.00448398  0.3520507   0.06317972 -0.39522879  0.45067224 -0.72647598\n",
      " -0.27609064  0.76012188  0.6433538  -1.4235298 ]\n",
      "[-0.12709456 -1.07405803 -1.04267355  0.10703802  0.25771641  0.25316624\n",
      "  2.62632659  0.52516623 -0.67262443 -0.62323442]\n",
      "[-0.30934379  0.67891168  0.28084185 -1.1277375   0.12951206 -0.18326813\n",
      " -0.99781705 -1.8256593   1.31535112  1.93994635]\n",
      "[ 0.20910326 -1.04779695 -0.57299674  0.02583531 -0.1119462  -1.23772983\n",
      " -0.03477089 -1.54883554 -0.28706534 -2.58649642]\n",
      "[ 0.63363135  0.50667159  0.12522315 -0.43341645 -1.09003844 -0.14683898\n",
      "  0.57155961 -0.92935489  0.07490364 -1.40530584]\n"
     ]
    }
   ],
   "source": [
    "for i in arr:\n",
    "    print(i)"
   ]
  },
  {
   "cell_type": "code",
   "execution_count": 108,
   "id": "aaf6e5f4",
   "metadata": {},
   "outputs": [
    {
     "data": {
      "text/plain": [
       "array([[ 0.0680703 ,  1.51456013, -0.41722578,  2.63609742,  1.4045171 ,\n",
       "        -0.93681053,  1.90642741, -0.37853488,  0.50149901, -0.71499094],\n",
       "       [ 0.33639019, -0.09741344,  1.00548655,  0.07855756, -0.49710785,\n",
       "        -0.96888419, -0.45847086,  0.57626488, -0.98934397, -0.21083279],\n",
       "       [ 0.98233775,  0.53588446, -0.76281739, -0.19751536,  1.05937708,\n",
       "         0.38757744, -0.13684036, -0.2060965 ,  0.52387652, -0.40113247],\n",
       "       [-0.3243833 , -0.2069141 ,  0.65795783, -1.12317   , -0.30019074,\n",
       "         0.134578  , -0.09224708,  0.15265105, -1.58043689, -0.70969338],\n",
       "       [ 0.26874632, -1.35873455, -0.45079334,  1.07595417, -0.49539065,\n",
       "         0.22590665, -1.01968122,  1.58861867,  1.36479651, -0.92506855],\n",
       "       [ 0.00448398,  0.3520507 ,  0.06317972, -0.39522879,  0.45067224,\n",
       "        -0.72647598, -0.27609064,  0.76012188,  0.6433538 , -1.4235298 ],\n",
       "       [-0.12709456, -1.07405803, -1.04267355,  0.10703802,  0.25771641,\n",
       "         0.25316624,  2.62632659,  0.52516623, -0.67262443, -0.62323442],\n",
       "       [-0.30934379,  0.67891168,  0.28084185, -1.1277375 ,  0.12951206,\n",
       "        -0.18326813, -0.99781705, -1.8256593 ,  1.31535112,  1.93994635],\n",
       "       [ 0.20910326, -1.04779695, -0.57299674,  0.02583531, -0.1119462 ,\n",
       "        -1.23772983, -0.03477089, -1.54883554, -0.28706534, -2.58649642],\n",
       "       [ 0.63363135,  0.50667159,  0.12522315, -0.43341645, -1.09003844,\n",
       "        -0.14683898,  0.57155961, -0.92935489,  0.07490364, -1.40530584]])"
      ]
     },
     "execution_count": 108,
     "metadata": {},
     "output_type": "execute_result"
    }
   ],
   "source": [
    "arr"
   ]
  },
  {
   "cell_type": "markdown",
   "id": "a65c3c45",
   "metadata": {},
   "source": [
    "### 10.4 ranf()\n",
    "- Return values between 0 and 1\n"
   ]
  },
  {
   "cell_type": "code",
   "execution_count": 110,
   "id": "179c8053",
   "metadata": {},
   "outputs": [
    {
     "data": {
      "text/plain": [
       "array([0.91030992, 0.27830378, 0.0632082 , 0.89067828, 0.93795878,\n",
       "       0.4974667 , 0.18525554, 0.07211296, 0.86796098, 0.53155926])"
      ]
     },
     "execution_count": 110,
     "metadata": {},
     "output_type": "execute_result"
    }
   ],
   "source": [
    "arr = np.random.ranf(10)\n",
    "arr"
   ]
  },
  {
   "cell_type": "code",
   "execution_count": 111,
   "id": "2e92d13a",
   "metadata": {},
   "outputs": [
    {
     "data": {
      "text/plain": [
       "array([0.12373945, 0.34571832, 0.35015529, 0.38932469, 0.95818167])"
      ]
     },
     "execution_count": 111,
     "metadata": {},
     "output_type": "execute_result"
    }
   ],
   "source": [
    "arr = np.random.ranf(5)\n",
    "arr"
   ]
  },
  {
   "cell_type": "raw",
   "id": "0f6cd4f3",
   "metadata": {},
   "source": [
    "(0,1] --> 1 >= value > 0\n",
    "[0,1) --> 1 >  value >=0"
   ]
  },
  {
   "cell_type": "code",
   "execution_count": 112,
   "id": "8349cbde",
   "metadata": {},
   "outputs": [
    {
     "data": {
      "text/plain": [
       "{'Zeros': array([0, 0, 0, 0, 0, 0, 0, 0, 0, 0]),\n",
       " 'Ones': array([1, 1, 1, 1, 1, 1, 1, 1, 1, 1]),\n",
       " 'Arange': array([101, 102, 103, 104, 105, 106, 107, 108, 109, 110]),\n",
       " 'Linspace': array([10.        , 14.44444444, 18.88888889, 23.33333333, 27.77777778,\n",
       "        32.22222222, 36.66666667, 41.11111111, 45.55555556, 50.        ]),\n",
       " 'Randint': array([43, 41, 24, 31, 46, 14, 36, 43, 37, 28]),\n",
       " 'Randn': array([ 0.22577536, -0.93676221, -0.3376176 , -2.38887257,  0.82086075,\n",
       "         0.16927082,  0.91522713,  0.23965248,  1.36037835,  1.65997452])}"
      ]
     },
     "execution_count": 112,
     "metadata": {},
     "output_type": "execute_result"
    }
   ],
   "source": [
    "dict_np_functions = {\n",
    "    \"Zeros\" : np.zeros(10,int),\n",
    "    \"Ones\"  : np.ones(10,int),\n",
    "    \"Arange\": np.arange(101,111),\n",
    "    \"Linspace\" : np.linspace(10,50,num=10),\n",
    "    \"Randint\" : np.random.randint(10,50,size=10),\n",
    "    \"Randn\" : np.random.randn(10)\n",
    "}\n",
    "dict_np_functions"
   ]
  },
  {
   "cell_type": "code",
   "execution_count": 113,
   "id": "8adf6dd2",
   "metadata": {},
   "outputs": [
    {
     "data": {
      "text/html": [
       "<div>\n",
       "<style scoped>\n",
       "    .dataframe tbody tr th:only-of-type {\n",
       "        vertical-align: middle;\n",
       "    }\n",
       "\n",
       "    .dataframe tbody tr th {\n",
       "        vertical-align: top;\n",
       "    }\n",
       "\n",
       "    .dataframe thead th {\n",
       "        text-align: right;\n",
       "    }\n",
       "</style>\n",
       "<table border=\"1\" class=\"dataframe\">\n",
       "  <thead>\n",
       "    <tr style=\"text-align: right;\">\n",
       "      <th></th>\n",
       "      <th>Zeros</th>\n",
       "      <th>Ones</th>\n",
       "      <th>Arange</th>\n",
       "      <th>Linspace</th>\n",
       "      <th>Randint</th>\n",
       "      <th>Randn</th>\n",
       "    </tr>\n",
       "  </thead>\n",
       "  <tbody>\n",
       "    <tr>\n",
       "      <th>0</th>\n",
       "      <td>0</td>\n",
       "      <td>1</td>\n",
       "      <td>101</td>\n",
       "      <td>10.000000</td>\n",
       "      <td>43</td>\n",
       "      <td>0.225775</td>\n",
       "    </tr>\n",
       "    <tr>\n",
       "      <th>1</th>\n",
       "      <td>0</td>\n",
       "      <td>1</td>\n",
       "      <td>102</td>\n",
       "      <td>14.444444</td>\n",
       "      <td>41</td>\n",
       "      <td>-0.936762</td>\n",
       "    </tr>\n",
       "    <tr>\n",
       "      <th>2</th>\n",
       "      <td>0</td>\n",
       "      <td>1</td>\n",
       "      <td>103</td>\n",
       "      <td>18.888889</td>\n",
       "      <td>24</td>\n",
       "      <td>-0.337618</td>\n",
       "    </tr>\n",
       "    <tr>\n",
       "      <th>3</th>\n",
       "      <td>0</td>\n",
       "      <td>1</td>\n",
       "      <td>104</td>\n",
       "      <td>23.333333</td>\n",
       "      <td>31</td>\n",
       "      <td>-2.388873</td>\n",
       "    </tr>\n",
       "    <tr>\n",
       "      <th>4</th>\n",
       "      <td>0</td>\n",
       "      <td>1</td>\n",
       "      <td>105</td>\n",
       "      <td>27.777778</td>\n",
       "      <td>46</td>\n",
       "      <td>0.820861</td>\n",
       "    </tr>\n",
       "    <tr>\n",
       "      <th>5</th>\n",
       "      <td>0</td>\n",
       "      <td>1</td>\n",
       "      <td>106</td>\n",
       "      <td>32.222222</td>\n",
       "      <td>14</td>\n",
       "      <td>0.169271</td>\n",
       "    </tr>\n",
       "    <tr>\n",
       "      <th>6</th>\n",
       "      <td>0</td>\n",
       "      <td>1</td>\n",
       "      <td>107</td>\n",
       "      <td>36.666667</td>\n",
       "      <td>36</td>\n",
       "      <td>0.915227</td>\n",
       "    </tr>\n",
       "    <tr>\n",
       "      <th>7</th>\n",
       "      <td>0</td>\n",
       "      <td>1</td>\n",
       "      <td>108</td>\n",
       "      <td>41.111111</td>\n",
       "      <td>43</td>\n",
       "      <td>0.239652</td>\n",
       "    </tr>\n",
       "    <tr>\n",
       "      <th>8</th>\n",
       "      <td>0</td>\n",
       "      <td>1</td>\n",
       "      <td>109</td>\n",
       "      <td>45.555556</td>\n",
       "      <td>37</td>\n",
       "      <td>1.360378</td>\n",
       "    </tr>\n",
       "    <tr>\n",
       "      <th>9</th>\n",
       "      <td>0</td>\n",
       "      <td>1</td>\n",
       "      <td>110</td>\n",
       "      <td>50.000000</td>\n",
       "      <td>28</td>\n",
       "      <td>1.659975</td>\n",
       "    </tr>\n",
       "  </tbody>\n",
       "</table>\n",
       "</div>"
      ],
      "text/plain": [
       "   Zeros  Ones  Arange   Linspace  Randint     Randn\n",
       "0      0     1     101  10.000000       43  0.225775\n",
       "1      0     1     102  14.444444       41 -0.936762\n",
       "2      0     1     103  18.888889       24 -0.337618\n",
       "3      0     1     104  23.333333       31 -2.388873\n",
       "4      0     1     105  27.777778       46  0.820861\n",
       "5      0     1     106  32.222222       14  0.169271\n",
       "6      0     1     107  36.666667       36  0.915227\n",
       "7      0     1     108  41.111111       43  0.239652\n",
       "8      0     1     109  45.555556       37  1.360378\n",
       "9      0     1     110  50.000000       28  1.659975"
      ]
     },
     "execution_count": 113,
     "metadata": {},
     "output_type": "execute_result"
    }
   ],
   "source": [
    "pd.DataFrame(dict_np_functions)"
   ]
  },
  {
   "cell_type": "markdown",
   "id": "aac1f38e",
   "metadata": {},
   "source": [
    "## 11.sort()"
   ]
  },
  {
   "cell_type": "code",
   "execution_count": 114,
   "id": "2987b990",
   "metadata": {},
   "outputs": [
    {
     "data": {
      "text/plain": [
       "array([4, 2, 6, 8, 6])"
      ]
     },
     "execution_count": 114,
     "metadata": {},
     "output_type": "execute_result"
    }
   ],
   "source": [
    "arr = np.random.randint(1,10,size=5)\n",
    "arr"
   ]
  },
  {
   "cell_type": "code",
   "execution_count": 115,
   "id": "f8a6f2a4",
   "metadata": {},
   "outputs": [
    {
     "data": {
      "text/plain": [
       "array([2, 4, 6, 6, 8])"
      ]
     },
     "execution_count": 115,
     "metadata": {},
     "output_type": "execute_result"
    }
   ],
   "source": [
    "np.sort(arr)"
   ]
  },
  {
   "cell_type": "code",
   "execution_count": 117,
   "id": "5dcf638b",
   "metadata": {},
   "outputs": [
    {
     "data": {
      "text/plain": [
       "array([9, 9, 7, 6, 5, 1, 3, 1, 4, 6, 8, 7, 3, 2, 9])"
      ]
     },
     "execution_count": 117,
     "metadata": {},
     "output_type": "execute_result"
    }
   ],
   "source": [
    "arr = np.random.randint(1,10,size=15)\n",
    "arr"
   ]
  },
  {
   "cell_type": "code",
   "execution_count": 118,
   "id": "a2eb94ea",
   "metadata": {},
   "outputs": [
    {
     "data": {
      "text/plain": [
       "array([1, 1, 2, 3, 3, 4, 5, 6, 6, 7, 7, 8, 9, 9, 9])"
      ]
     },
     "execution_count": 118,
     "metadata": {},
     "output_type": "execute_result"
    }
   ],
   "source": [
    "np.sort(arr)"
   ]
  },
  {
   "cell_type": "code",
   "execution_count": 119,
   "id": "bed0ca0c",
   "metadata": {},
   "outputs": [
    {
     "data": {
      "text/plain": [
       "array([[14, 36, 46],\n",
       "       [11,  6, 45],\n",
       "       [37,  6, 10]])"
      ]
     },
     "execution_count": 119,
     "metadata": {},
     "output_type": "execute_result"
    }
   ],
   "source": [
    "arr = np.random.randint(1,50,size=(3,3))\n",
    "arr"
   ]
  },
  {
   "cell_type": "code",
   "execution_count": 121,
   "id": "f36cdfa1",
   "metadata": {},
   "outputs": [
    {
     "data": {
      "text/plain": [
       "array([[14, 36, 46],\n",
       "       [ 6, 11, 45],\n",
       "       [ 6, 10, 37]])"
      ]
     },
     "execution_count": 121,
     "metadata": {},
     "output_type": "execute_result"
    }
   ],
   "source": [
    "np.sort(arr)"
   ]
  },
  {
   "cell_type": "code",
   "execution_count": 123,
   "id": "1bfd2f9e",
   "metadata": {},
   "outputs": [
    {
     "data": {
      "text/plain": [
       "array([[14, 36, 46],\n",
       "       [ 6, 11, 45],\n",
       "       [ 6, 10, 37]])"
      ]
     },
     "execution_count": 123,
     "metadata": {},
     "output_type": "execute_result"
    }
   ],
   "source": [
    "np.sort(arr,axis=1) # Sort Rows"
   ]
  },
  {
   "cell_type": "code",
   "execution_count": 125,
   "id": "e415fae4",
   "metadata": {},
   "outputs": [
    {
     "data": {
      "text/plain": [
       "array([[11,  6, 10],\n",
       "       [14,  6, 45],\n",
       "       [37, 36, 46]])"
      ]
     },
     "execution_count": 125,
     "metadata": {},
     "output_type": "execute_result"
    }
   ],
   "source": [
    "np.sort(arr,axis=0) # Sort column"
   ]
  },
  {
   "cell_type": "markdown",
   "id": "3dd96cae",
   "metadata": {},
   "source": [
    "## 12.append()\n",
    "- syntax :- np.append(array1,array2,axis=None)\n",
    "   - axis 0 --> Rows\n",
    "   - axis 1 --> column"
   ]
  },
  {
   "cell_type": "code",
   "execution_count": 128,
   "id": "27f715fb",
   "metadata": {},
   "outputs": [
    {
     "data": {
      "text/plain": [
       "[1, 2, 3, 50]"
      ]
     },
     "execution_count": 128,
     "metadata": {},
     "output_type": "execute_result"
    }
   ],
   "source": [
    "li = [1,2,3]\n",
    "li.append(50)\n",
    "li"
   ]
  },
  {
   "cell_type": "code",
   "execution_count": 129,
   "id": "0533cc3c",
   "metadata": {},
   "outputs": [],
   "source": [
    "li.append([1,2,3])"
   ]
  },
  {
   "cell_type": "code",
   "execution_count": 130,
   "id": "68f50493",
   "metadata": {},
   "outputs": [
    {
     "data": {
      "text/plain": [
       "[1, 2, 3, 50, [1, 2, 3]]"
      ]
     },
     "execution_count": 130,
     "metadata": {},
     "output_type": "execute_result"
    }
   ],
   "source": [
    "li"
   ]
  },
  {
   "cell_type": "code",
   "execution_count": 131,
   "id": "db6cb5f3",
   "metadata": {},
   "outputs": [],
   "source": [
    "li.extend([11,22,33])"
   ]
  },
  {
   "cell_type": "code",
   "execution_count": 132,
   "id": "44acadf1",
   "metadata": {},
   "outputs": [
    {
     "data": {
      "text/plain": [
       "[1, 2, 3, 50, [1, 2, 3], 11, 22, 33]"
      ]
     },
     "execution_count": 132,
     "metadata": {},
     "output_type": "execute_result"
    }
   ],
   "source": [
    "li"
   ]
  },
  {
   "cell_type": "code",
   "execution_count": 133,
   "id": "fa042b16",
   "metadata": {},
   "outputs": [
    {
     "data": {
      "text/plain": [
       "array([ 1,  2,  3,  4,  5, 11, 22, 33, 44, 55])"
      ]
     },
     "execution_count": 133,
     "metadata": {},
     "output_type": "execute_result"
    }
   ],
   "source": [
    "arr1 = np.array([1,2,3,4,5])\n",
    "arr2 = np.array([11,22,33,44,55])\n",
    "new_arr = np.append(arr1,arr2)\n",
    "new_arr"
   ]
  },
  {
   "cell_type": "code",
   "execution_count": 134,
   "id": "d4dd589d",
   "metadata": {},
   "outputs": [
    {
     "data": {
      "text/plain": [
       "array([  1,   2,   3,   4,   5, 500])"
      ]
     },
     "execution_count": 134,
     "metadata": {},
     "output_type": "execute_result"
    }
   ],
   "source": [
    "arr1 = np.array([1,2,3,4,5])\n",
    "arr2 = np.array(500)\n",
    "new_arr = np.append(arr1,arr2)\n",
    "new_arr"
   ]
  },
  {
   "cell_type": "code",
   "execution_count": 135,
   "id": "269ed8d9",
   "metadata": {},
   "outputs": [
    {
     "data": {
      "text/plain": [
       "array([   1,    2,    3,    4,    5, 5000])"
      ]
     },
     "execution_count": 135,
     "metadata": {},
     "output_type": "execute_result"
    }
   ],
   "source": [
    "arr1 = np.array([1,2,3,4,5])\n",
    "# arr2 = np.array(500)\n",
    "new_arr = np.append(arr1,5000)\n",
    "new_arr"
   ]
  },
  {
   "cell_type": "code",
   "execution_count": 138,
   "id": "917cae68",
   "metadata": {},
   "outputs": [
    {
     "data": {
      "text/plain": [
       "array([[ 1,  2,  3,  4,  5],\n",
       "       [11, 22, 33, 44, 55]])"
      ]
     },
     "execution_count": 138,
     "metadata": {},
     "output_type": "execute_result"
    }
   ],
   "source": [
    "arr1 = np.array([[1,2,3,4,5]])\n",
    "arr2 = np.array([[11,22,33,44,55]])\n",
    "new_arr = np.append(arr1,arr2,axis=0)\n",
    "new_arr"
   ]
  },
  {
   "cell_type": "code",
   "execution_count": 139,
   "id": "87db0d60",
   "metadata": {},
   "outputs": [
    {
     "data": {
      "text/plain": [
       "array([[ 1,  2,  3,  4,  5, 11, 22, 33, 44, 55]])"
      ]
     },
     "execution_count": 139,
     "metadata": {},
     "output_type": "execute_result"
    }
   ],
   "source": [
    "arr1 = np.array([[1,2,3,4,5]])\n",
    "arr2 = np.array([[11,22,33,44,55]])\n",
    "new_arr = np.append(arr1,arr2,axis=1)\n",
    "new_arr"
   ]
  },
  {
   "cell_type": "code",
   "execution_count": 140,
   "id": "e005d3e1",
   "metadata": {},
   "outputs": [
    {
     "data": {
      "text/plain": [
       "array([[ 1,  2,  3,  4,  5, 11, 22, 33, 44, 55],\n",
       "       [ 1,  2,  3,  4,  5, 11, 22, 33, 44, 55]])"
      ]
     },
     "execution_count": 140,
     "metadata": {},
     "output_type": "execute_result"
    }
   ],
   "source": [
    "arr1 = np.array([[1,2,3,4,5],[1,2,3,4,5]])\n",
    "arr2 = np.array([[11,22,33,44,55],[11,22,33,44,55]])\n",
    "new_arr = np.append(arr1,arr2,axis=1)\n",
    "new_arr"
   ]
  },
  {
   "cell_type": "code",
   "execution_count": 141,
   "id": "18b91fe8",
   "metadata": {},
   "outputs": [
    {
     "data": {
      "text/plain": [
       "array([[ 1,  2,  3,  4,  5],\n",
       "       [ 1,  2,  3,  4,  5],\n",
       "       [11, 22, 33, 44, 55],\n",
       "       [11, 22, 33, 44, 55]])"
      ]
     },
     "execution_count": 141,
     "metadata": {},
     "output_type": "execute_result"
    }
   ],
   "source": [
    "arr1 = np.array([[1,2,3,4,5],[1,2,3,4,5]])\n",
    "arr2 = np.array([[11,22,33,44,55],[11,22,33,44,55]])\n",
    "new_arr = np.append(arr1,arr2,axis=0)\n",
    "new_arr"
   ]
  }
 ],
 "metadata": {
  "kernelspec": {
   "display_name": "Python 3 (ipykernel)",
   "language": "python",
   "name": "python3"
  },
  "language_info": {
   "codemirror_mode": {
    "name": "ipython",
    "version": 3
   },
   "file_extension": ".py",
   "mimetype": "text/x-python",
   "name": "python",
   "nbconvert_exporter": "python",
   "pygments_lexer": "ipython3",
   "version": "3.12.4"
  }
 },
 "nbformat": 4,
 "nbformat_minor": 5
}
