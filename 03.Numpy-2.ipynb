{
 "cells": [
  {
   "cell_type": "markdown",
   "id": "cb530004",
   "metadata": {},
   "source": [
    "# Numpy"
   ]
  },
  {
   "cell_type": "markdown",
   "id": "93f8f562",
   "metadata": {},
   "source": [
    "## Dimensions in Array"
   ]
  },
  {
   "cell_type": "markdown",
   "id": "0fcdd08d",
   "metadata": {},
   "source": [
    "### 1. 0-D Array"
   ]
  },
  {
   "cell_type": "code",
   "execution_count": 1,
   "id": "f3223682",
   "metadata": {},
   "outputs": [],
   "source": [
    "import numpy as np"
   ]
  },
  {
   "cell_type": "code",
   "execution_count": 2,
   "id": "21f4ff84",
   "metadata": {},
   "outputs": [
    {
     "name": "stdout",
     "output_type": "stream",
     "text": [
      "Array --> 1000\n",
      "Number of dimensions = 0\n"
     ]
    }
   ],
   "source": [
    "arr = np.array(1000)\n",
    "print(f\"Array --> {arr}\")\n",
    "print(f\"Number of dimensions = {arr.ndim}\")"
   ]
  },
  {
   "cell_type": "code",
   "execution_count": 3,
   "id": "a1d75460",
   "metadata": {},
   "outputs": [
    {
     "name": "stdout",
     "output_type": "stream",
     "text": [
      "Array --> Array 1\n",
      "Number of dimensions = 0\n"
     ]
    }
   ],
   "source": [
    "arr = np.array(\"Array 1\")\n",
    "print(f\"Array --> {arr}\")\n",
    "print(f\"Number of dimensions = {arr.ndim}\")"
   ]
  },
  {
   "cell_type": "code",
   "execution_count": 4,
   "id": "8528c90c",
   "metadata": {},
   "outputs": [
    {
     "name": "stdout",
     "output_type": "stream",
     "text": [
      "Array --> 1\n",
      "Number of dimensions = 0\n"
     ]
    }
   ],
   "source": [
    "arr = np.array(\"1\",int)\n",
    "print(f\"Array --> {arr}\")\n",
    "print(f\"Number of dimensions = {arr.ndim}\")"
   ]
  },
  {
   "cell_type": "code",
   "execution_count": 5,
   "id": "b131f90c",
   "metadata": {},
   "outputs": [
    {
     "name": "stdout",
     "output_type": "stream",
     "text": [
      "Array --> 100\n",
      "Number of dimensions = 0\n"
     ]
    }
   ],
   "source": [
    "arr = np.array(100.5,int)\n",
    "print(f\"Array --> {arr}\")\n",
    "print(f\"Number of dimensions = {arr.ndim}\")"
   ]
  },
  {
   "cell_type": "markdown",
   "id": "ee0f7a8d",
   "metadata": {},
   "source": [
    "### 2. 1-D Array\n",
    "- It is a collection of 0-dimensional arrays"
   ]
  },
  {
   "cell_type": "code",
   "execution_count": 6,
   "id": "096e91bf",
   "metadata": {},
   "outputs": [
    {
     "name": "stdout",
     "output_type": "stream",
     "text": [
      "Array --> [100 200 300 400 500]\n",
      "Number of dimensions = 1\n"
     ]
    }
   ],
   "source": [
    "arr = np.array([100.5,200,300,400,500],int)\n",
    "print(f\"Array --> {arr}\")\n",
    "print(f\"Number of dimensions = {arr.ndim}\")"
   ]
  },
  {
   "cell_type": "code",
   "execution_count": 7,
   "id": "da71effd",
   "metadata": {},
   "outputs": [
    {
     "name": "stdout",
     "output_type": "stream",
     "text": [
      "Array --> [100]\n",
      "Number of dimensions = 1\n"
     ]
    }
   ],
   "source": [
    "arr = np.array([100],int)\n",
    "print(f\"Array --> {arr}\")\n",
    "print(f\"Number of dimensions = {arr.ndim}\")"
   ]
  },
  {
   "cell_type": "code",
   "execution_count": 8,
   "id": "a1662bda",
   "metadata": {},
   "outputs": [
    {
     "name": "stdout",
     "output_type": "stream",
     "text": [
      "Array --> 100\n",
      "Number of dimensions = 0\n"
     ]
    }
   ],
   "source": [
    "arr = np.array(100,int)\n",
    "print(f\"Array --> {arr}\")\n",
    "print(f\"Number of dimensions = {arr.ndim}\")"
   ]
  },
  {
   "cell_type": "markdown",
   "id": "0d414135",
   "metadata": {},
   "source": [
    "### 3. 2-D Array\n",
    "- It is a collection of 1-dimemsional arrays"
   ]
  },
  {
   "cell_type": "code",
   "execution_count": 11,
   "id": "04bfcd2a",
   "metadata": {},
   "outputs": [
    {
     "name": "stdout",
     "output_type": "stream",
     "text": [
      "Array --> \n",
      "[[100 200 300 400 500]\n",
      " [100 200 300 400 500]\n",
      " [100 200 300 400 500]]\n",
      "Number of dimensions = 2\n",
      "Length --> 3\n",
      "Shape of an array --> (3, 5)\n"
     ]
    }
   ],
   "source": [
    "arr = np.array([[100.5,200,300,400,500],[100.5,200,300,400,500],[100.5,200,300,400,500]],int)\n",
    "print(f\"Array --> \\n{arr}\")\n",
    "print(f\"Number of dimensions = {arr.ndim}\")\n",
    "print(f\"Length --> {len(arr)}\")\n",
    "print(f\"Shape of an array --> {arr.shape}\")"
   ]
  },
  {
   "cell_type": "code",
   "execution_count": 12,
   "id": "639d1c9b",
   "metadata": {},
   "outputs": [
    {
     "name": "stdout",
     "output_type": "stream",
     "text": [
      "Array --> \n",
      "[[100 200 300]\n",
      " [100 200 300]\n",
      " [100 200 300]]\n",
      "Number of dimensions = 2\n",
      "Length --> 3\n",
      "Shape of an array --> (3, 3)\n"
     ]
    }
   ],
   "source": [
    "arr = np.array([[100,200,300],[100,200,300],[100,200,300]],int)\n",
    "print(f\"Array --> \\n{arr}\")\n",
    "print(f\"Number of dimensions = {arr.ndim}\")\n",
    "print(f\"Length --> {len(arr)}\")\n",
    "print(f\"Shape of an array --> {arr.shape}\")"
   ]
  },
  {
   "cell_type": "code",
   "execution_count": 13,
   "id": "760fc7e4",
   "metadata": {},
   "outputs": [
    {
     "ename": "ValueError",
     "evalue": "setting an array element with a sequence. The requested array has an inhomogeneous shape after 1 dimensions. The detected shape was (3,) + inhomogeneous part.",
     "output_type": "error",
     "traceback": [
      "\u001b[1;31m---------------------------------------------------------------------------\u001b[0m",
      "\u001b[1;31mValueError\u001b[0m                                Traceback (most recent call last)",
      "Cell \u001b[1;32mIn [13], line 1\u001b[0m\n\u001b[1;32m----> 1\u001b[0m arr \u001b[38;5;241m=\u001b[39m \u001b[43mnp\u001b[49m\u001b[38;5;241;43m.\u001b[39;49m\u001b[43marray\u001b[49m\u001b[43m(\u001b[49m\u001b[43m[\u001b[49m\u001b[43m[\u001b[49m\u001b[38;5;241;43m100\u001b[39;49m\u001b[43m,\u001b[49m\u001b[38;5;241;43m200\u001b[39;49m\u001b[43m,\u001b[49m\u001b[38;5;241;43m300\u001b[39;49m\u001b[43m]\u001b[49m\u001b[43m,\u001b[49m\u001b[43m[\u001b[49m\u001b[38;5;241;43m100\u001b[39;49m\u001b[43m,\u001b[49m\u001b[38;5;241;43m200\u001b[39;49m\u001b[43m,\u001b[49m\u001b[38;5;241;43m300\u001b[39;49m\u001b[43m]\u001b[49m\u001b[43m,\u001b[49m\u001b[43m[\u001b[49m\u001b[38;5;241;43m100\u001b[39;49m\u001b[43m,\u001b[49m\u001b[38;5;241;43m200\u001b[39;49m\u001b[43m,\u001b[49m\u001b[38;5;241;43m300\u001b[39;49m\u001b[43m,\u001b[49m\u001b[38;5;241;43m400\u001b[39;49m\u001b[43m]\u001b[49m\u001b[43m]\u001b[49m\u001b[43m,\u001b[49m\u001b[38;5;28;43mint\u001b[39;49m\u001b[43m)\u001b[49m\n\u001b[0;32m      2\u001b[0m \u001b[38;5;28mprint\u001b[39m(\u001b[38;5;124mf\u001b[39m\u001b[38;5;124m\"\u001b[39m\u001b[38;5;124mArray --> \u001b[39m\u001b[38;5;130;01m\\n\u001b[39;00m\u001b[38;5;132;01m{\u001b[39;00marr\u001b[38;5;132;01m}\u001b[39;00m\u001b[38;5;124m\"\u001b[39m)\n\u001b[0;32m      3\u001b[0m \u001b[38;5;28mprint\u001b[39m(\u001b[38;5;124mf\u001b[39m\u001b[38;5;124m\"\u001b[39m\u001b[38;5;124mNumber of dimensions = \u001b[39m\u001b[38;5;132;01m{\u001b[39;00marr\u001b[38;5;241m.\u001b[39mndim\u001b[38;5;132;01m}\u001b[39;00m\u001b[38;5;124m\"\u001b[39m)\n",
      "\u001b[1;31mValueError\u001b[0m: setting an array element with a sequence. The requested array has an inhomogeneous shape after 1 dimensions. The detected shape was (3,) + inhomogeneous part."
     ]
    }
   ],
   "source": [
    "arr = np.array([[100,200,300],[100,200,300],[100,200,300,400]],int)\n",
    "print(f\"Array --> \\n{arr}\")\n",
    "print(f\"Number of dimensions = {arr.ndim}\")\n",
    "print(f\"Length --> {len(arr)}\")\n",
    "print(f\"Shape of an array --> {arr.shape}\")"
   ]
  },
  {
   "cell_type": "code",
   "execution_count": 14,
   "id": "045766b6",
   "metadata": {},
   "outputs": [
    {
     "name": "stdout",
     "output_type": "stream",
     "text": [
      "Array --> \n",
      "[[200 300   1   2   3]\n",
      " [200 300   4   5   6]]\n",
      "Number of dimensions = 2\n",
      "Length --> 2\n",
      "Shape of an array --> (2, 5)\n"
     ]
    }
   ],
   "source": [
    "arr = np.array([[200,300,1,2,3],[200,300,4,5,6]],int)\n",
    "print(f\"Array --> \\n{arr}\")\n",
    "print(f\"Number of dimensions = {arr.ndim}\")\n",
    "print(f\"Length --> {len(arr)}\")\n",
    "print(f\"Shape of an array --> {arr.shape}\")"
   ]
  },
  {
   "cell_type": "code",
   "execution_count": 15,
   "id": "187fd5fb",
   "metadata": {},
   "outputs": [
    {
     "name": "stdout",
     "output_type": "stream",
     "text": [
      "Array --> \n",
      "[[200 300   1   2   3]]\n",
      "Number of dimensions = 2\n",
      "Length --> 1\n",
      "Shape of an array --> (1, 5)\n"
     ]
    }
   ],
   "source": [
    "arr = np.array([[200,300,1,2,3]],int)\n",
    "print(f\"Array --> \\n{arr}\")\n",
    "print(f\"Number of dimensions = {arr.ndim}\")\n",
    "print(f\"Length --> {len(arr)}\")\n",
    "print(f\"Shape of an array --> {arr.shape}\")"
   ]
  },
  {
   "cell_type": "markdown",
   "id": "19edf0fb",
   "metadata": {},
   "source": [
    "### 4. 3 - D Array\n",
    "- It is a collection of 2-dimensional arrays"
   ]
  },
  {
   "cell_type": "code",
   "execution_count": 18,
   "id": "bb46dcef",
   "metadata": {},
   "outputs": [
    {
     "name": "stdout",
     "output_type": "stream",
     "text": [
      "Array --> \n",
      "[[[200 300   1   2   3]\n",
      "  [200 300   4   5   6]]\n",
      "\n",
      " [[200 300   1   2   3]\n",
      "  [200 300   4   5   6]]]\n",
      "Number of dimensions = 3\n",
      "Length --> 2\n",
      "Shape of an array --> (2, 2, 5)\n"
     ]
    }
   ],
   "source": [
    "arr = np.array([[[200,300,1,2,3],[200,300,4,5,6]],[[200,300,1,2,3],[200,300,4,5,6]]],int)\n",
    "print(f\"Array --> \\n{arr}\")\n",
    "print(f\"Number of dimensions = {arr.ndim}\")\n",
    "print(f\"Length --> {len(arr)}\")\n",
    "print(f\"Shape of an array --> {arr.shape}\")"
   ]
  },
  {
   "cell_type": "code",
   "execution_count": 19,
   "id": "4dd327ee",
   "metadata": {},
   "outputs": [
    {
     "name": "stdout",
     "output_type": "stream",
     "text": [
      "Array --> \n",
      "[[[200 300   1   2   3]\n",
      "  [200 300   4   5   6]]\n",
      "\n",
      " [[200 300   1   2   3]\n",
      "  [200 300   4   5   6]]\n",
      "\n",
      " [[200 300   1   2   3]\n",
      "  [200 300   4   5   6]]]\n",
      "Number of dimensions = 3\n",
      "Length --> 3\n",
      "Shape of an array --> (3, 2, 5)\n"
     ]
    }
   ],
   "source": [
    "arr = np.array([[[200,300,1,2,3],[200,300,4,5,6]],[[200,300,1,2,3],[200,300,4,5,6]],[[200,300,1,2,3],[200,300,4,5,6]]],int)\n",
    "print(f\"Array --> \\n{arr}\")\n",
    "print(f\"Number of dimensions = {arr.ndim}\")\n",
    "print(f\"Length --> {len(arr)}\")\n",
    "print(f\"Shape of an array --> {arr.shape}\")"
   ]
  },
  {
   "cell_type": "code",
   "execution_count": 21,
   "id": "58220805",
   "metadata": {},
   "outputs": [
    {
     "name": "stdout",
     "output_type": "stream",
     "text": [
      "Array --> \n",
      "[[[200 300]\n",
      "  [200 300]]\n",
      "\n",
      " [[200 300]\n",
      "  [200 300]]]\n",
      "Number of dimensions = 3\n",
      "Length --> 2\n",
      "Shape of an array --> (2, 2, 2)\n"
     ]
    }
   ],
   "source": [
    "arr = np.array([[[200,300],[200,300]],[[200,300],[200,300]]],int)\n",
    "print(f\"Array --> \\n{arr}\")\n",
    "print(f\"Number of dimensions = {arr.ndim}\")\n",
    "print(f\"Length --> {len(arr)}\")\n",
    "print(f\"Shape of an array --> {arr.shape}\")"
   ]
  },
  {
   "cell_type": "code",
   "execution_count": 24,
   "id": "73ec89a2",
   "metadata": {},
   "outputs": [
    {
     "name": "stdout",
     "output_type": "stream",
     "text": [
      "Array --> \n",
      "[[[200]]\n",
      "\n",
      " [[200]]]\n",
      "Number of dimensions = 3\n",
      "Length --> 2\n",
      "Shape of an array --> (2, 1, 1)\n"
     ]
    }
   ],
   "source": [
    "arr = np.array([[[200]],[[200]]],int)\n",
    "print(f\"Array --> \\n{arr}\")\n",
    "print(f\"Number of dimensions = {arr.ndim}\")\n",
    "print(f\"Length --> {len(arr)}\")\n",
    "print(f\"Shape of an array --> {arr.shape}\")"
   ]
  },
  {
   "cell_type": "code",
   "execution_count": 26,
   "id": "675e0b7f",
   "metadata": {},
   "outputs": [
    {
     "name": "stdout",
     "output_type": "stream",
     "text": [
      "Array --> \n",
      "[[[1]]\n",
      "\n",
      " [[1]]\n",
      "\n",
      " [[1]]\n",
      "\n",
      " [[1]]\n",
      "\n",
      " [[1]]]\n",
      "Number of dimensions = 3\n",
      "Length --> 5\n",
      "Shape of an array --> (5, 1, 1)\n"
     ]
    }
   ],
   "source": [
    "arr = np.array([[[1]],[[1]],[[1]],[[1]],[[1]]],int)\n",
    "print(f\"Array --> \\n{arr}\")\n",
    "print(f\"Number of dimensions = {arr.ndim}\")\n",
    "print(f\"Length --> {len(arr)}\")\n",
    "print(f\"Shape of an array --> {arr.shape}\")"
   ]
  },
  {
   "cell_type": "code",
   "execution_count": 27,
   "id": "6a80b457",
   "metadata": {},
   "outputs": [
    {
     "name": "stdout",
     "output_type": "stream",
     "text": [
      "Array --> \n",
      "[[[1 2]]\n",
      "\n",
      " [[1 2]]\n",
      "\n",
      " [[1 2]]\n",
      "\n",
      " [[1 2]]\n",
      "\n",
      " [[1 2]]]\n",
      "Number of dimensions = 3\n",
      "Length --> 5\n",
      "Shape of an array --> (5, 1, 2)\n"
     ]
    }
   ],
   "source": [
    "arr = np.array([[[1,2]],[[1,2]],[[1,2]],[[1,2]],[[1,2]]],int)\n",
    "print(f\"Array --> \\n{arr}\")\n",
    "print(f\"Number of dimensions = {arr.ndim}\")\n",
    "print(f\"Length --> {len(arr)}\")\n",
    "print(f\"Shape of an array --> {arr.shape}\")"
   ]
  },
  {
   "cell_type": "markdown",
   "id": "2af0227d",
   "metadata": {},
   "source": [
    "## Indexing and Slicing"
   ]
  },
  {
   "cell_type": "code",
   "execution_count": 28,
   "id": "a2822514",
   "metadata": {},
   "outputs": [
    {
     "data": {
      "text/plain": [
       "2"
      ]
     },
     "execution_count": 28,
     "metadata": {},
     "output_type": "execute_result"
    }
   ],
   "source": [
    "li = [1,2,3,4,5]\n",
    "li[1]"
   ]
  },
  {
   "cell_type": "code",
   "execution_count": 29,
   "id": "18015433",
   "metadata": {},
   "outputs": [
    {
     "data": {
      "text/plain": [
       "5"
      ]
     },
     "execution_count": 29,
     "metadata": {},
     "output_type": "execute_result"
    }
   ],
   "source": [
    "li[4]"
   ]
  },
  {
   "cell_type": "code",
   "execution_count": 30,
   "id": "bf9ddc8e",
   "metadata": {},
   "outputs": [
    {
     "data": {
      "text/plain": [
       "4"
      ]
     },
     "execution_count": 30,
     "metadata": {},
     "output_type": "execute_result"
    }
   ],
   "source": [
    "li[-2]"
   ]
  },
  {
   "cell_type": "code",
   "execution_count": 31,
   "id": "a1722598",
   "metadata": {},
   "outputs": [
    {
     "data": {
      "text/plain": [
       "[3, 4]"
      ]
     },
     "execution_count": 31,
     "metadata": {},
     "output_type": "execute_result"
    }
   ],
   "source": [
    "li[2:4]"
   ]
  },
  {
   "cell_type": "code",
   "execution_count": 32,
   "id": "c9947080",
   "metadata": {},
   "outputs": [
    {
     "data": {
      "text/plain": [
       "array([ 100,  200,  300,  400,  500,  600,  700,  800,  900, 1000])"
      ]
     },
     "execution_count": 32,
     "metadata": {},
     "output_type": "execute_result"
    }
   ],
   "source": [
    "arr = np.array([100,200,300,400,500,600,700,800,900,1000])\n",
    "arr"
   ]
  },
  {
   "cell_type": "code",
   "execution_count": 33,
   "id": "d801f0fd",
   "metadata": {},
   "outputs": [
    {
     "data": {
      "text/plain": [
       "100"
      ]
     },
     "execution_count": 33,
     "metadata": {},
     "output_type": "execute_result"
    }
   ],
   "source": [
    "arr[0]"
   ]
  },
  {
   "cell_type": "code",
   "execution_count": 34,
   "id": "31a3d710",
   "metadata": {},
   "outputs": [
    {
     "data": {
      "text/plain": [
       "200"
      ]
     },
     "execution_count": 34,
     "metadata": {},
     "output_type": "execute_result"
    }
   ],
   "source": [
    "arr[1]"
   ]
  },
  {
   "cell_type": "code",
   "execution_count": 35,
   "id": "d916d0e2",
   "metadata": {},
   "outputs": [
    {
     "data": {
      "text/plain": [
       "1000"
      ]
     },
     "execution_count": 35,
     "metadata": {},
     "output_type": "execute_result"
    }
   ],
   "source": [
    "arr[-1]"
   ]
  },
  {
   "cell_type": "code",
   "execution_count": 36,
   "id": "f99ca4ee",
   "metadata": {},
   "outputs": [
    {
     "data": {
      "text/plain": [
       "900"
      ]
     },
     "execution_count": 36,
     "metadata": {},
     "output_type": "execute_result"
    }
   ],
   "source": [
    "arr[-2]"
   ]
  },
  {
   "cell_type": "code",
   "execution_count": 37,
   "id": "bf5ab8b1",
   "metadata": {},
   "outputs": [
    {
     "ename": "IndexError",
     "evalue": "index 10 is out of bounds for axis 0 with size 10",
     "output_type": "error",
     "traceback": [
      "\u001b[1;31m---------------------------------------------------------------------------\u001b[0m",
      "\u001b[1;31mIndexError\u001b[0m                                Traceback (most recent call last)",
      "Cell \u001b[1;32mIn [37], line 1\u001b[0m\n\u001b[1;32m----> 1\u001b[0m \u001b[43marr\u001b[49m\u001b[43m[\u001b[49m\u001b[38;5;241;43m10\u001b[39;49m\u001b[43m]\u001b[49m\n",
      "\u001b[1;31mIndexError\u001b[0m: index 10 is out of bounds for axis 0 with size 10"
     ]
    }
   ],
   "source": [
    "arr[10]"
   ]
  },
  {
   "cell_type": "code",
   "execution_count": 38,
   "id": "60ab2f6d",
   "metadata": {},
   "outputs": [
    {
     "data": {
      "text/plain": [
       "array([100, 200, 300, 400, 500])"
      ]
     },
     "execution_count": 38,
     "metadata": {},
     "output_type": "execute_result"
    }
   ],
   "source": [
    "arr[0:5]"
   ]
  },
  {
   "cell_type": "code",
   "execution_count": 39,
   "id": "ca0f8794",
   "metadata": {},
   "outputs": [
    {
     "data": {
      "text/plain": [
       "array([ 100,  200,  300,  400,  500,  600,  700,  800,  900, 1000])"
      ]
     },
     "execution_count": 39,
     "metadata": {},
     "output_type": "execute_result"
    }
   ],
   "source": [
    "arr[0:]"
   ]
  },
  {
   "cell_type": "code",
   "execution_count": 40,
   "id": "3f38947e",
   "metadata": {},
   "outputs": [
    {
     "data": {
      "text/plain": [
       "array([ 600,  700,  800,  900, 1000])"
      ]
     },
     "execution_count": 40,
     "metadata": {},
     "output_type": "execute_result"
    }
   ],
   "source": [
    "arr[5:]"
   ]
  },
  {
   "cell_type": "code",
   "execution_count": 41,
   "id": "7de1704c",
   "metadata": {},
   "outputs": [
    {
     "data": {
      "text/plain": [
       "array([100, 200, 300, 400, 500, 600, 700, 800])"
      ]
     },
     "execution_count": 41,
     "metadata": {},
     "output_type": "execute_result"
    }
   ],
   "source": [
    "arr[:8]"
   ]
  },
  {
   "cell_type": "code",
   "execution_count": 42,
   "id": "b4133012",
   "metadata": {},
   "outputs": [
    {
     "data": {
      "text/plain": [
       "array([1000,  900,  800,  700,  600,  500,  400,  300,  200,  100])"
      ]
     },
     "execution_count": 42,
     "metadata": {},
     "output_type": "execute_result"
    }
   ],
   "source": [
    "arr[::-1]"
   ]
  },
  {
   "cell_type": "code",
   "execution_count": 43,
   "id": "49d4bb0a",
   "metadata": {},
   "outputs": [
    {
     "data": {
      "text/plain": [
       "array([ 100,  200,  300,  400,  500,  600,  700,  800,  900, 1000])"
      ]
     },
     "execution_count": 43,
     "metadata": {},
     "output_type": "execute_result"
    }
   ],
   "source": [
    "arr"
   ]
  },
  {
   "cell_type": "code",
   "execution_count": 44,
   "id": "3f902c6c",
   "metadata": {},
   "outputs": [
    {
     "data": {
      "text/plain": [
       "array([600, 700, 800])"
      ]
     },
     "execution_count": 44,
     "metadata": {},
     "output_type": "execute_result"
    }
   ],
   "source": [
    "arr[-5:-2]"
   ]
  },
  {
   "cell_type": "code",
   "execution_count": 46,
   "id": "fa4f76b8",
   "metadata": {},
   "outputs": [
    {
     "data": {
      "text/plain": [
       "array([900, 800, 700])"
      ]
     },
     "execution_count": 46,
     "metadata": {},
     "output_type": "execute_result"
    }
   ],
   "source": [
    "arr[-2:-5:-1]"
   ]
  },
  {
   "cell_type": "code",
   "execution_count": 47,
   "id": "0a07c4bc",
   "metadata": {},
   "outputs": [
    {
     "data": {
      "text/plain": [
       "[1, 2]"
      ]
     },
     "execution_count": 47,
     "metadata": {},
     "output_type": "execute_result"
    }
   ],
   "source": [
    "[[1,2],[3,4]][0]"
   ]
  },
  {
   "cell_type": "code",
   "execution_count": 48,
   "id": "6e31739f",
   "metadata": {},
   "outputs": [
    {
     "data": {
      "text/plain": [
       "2"
      ]
     },
     "execution_count": 48,
     "metadata": {},
     "output_type": "execute_result"
    }
   ],
   "source": [
    "[[1,2],[3,4]][0][-1]"
   ]
  },
  {
   "cell_type": "code",
   "execution_count": 49,
   "id": "c77c5730",
   "metadata": {},
   "outputs": [
    {
     "name": "stdout",
     "output_type": "stream",
     "text": [
      "Array --> \n",
      "[[  1   2   3   4   5]\n",
      " [ 10  20  30  40  50]\n",
      " [100 200 300 400 500]]\n",
      "Number of dimensions = 2\n",
      "Length --> 3\n",
      "Shape of an array --> (3, 5)\n"
     ]
    }
   ],
   "source": [
    "arr = np.array([[1,2,3,4,5],[10,20,30,40,50],[100,200,300,400,500]],int)\n",
    "print(f\"Array --> \\n{arr}\")\n",
    "print(f\"Number of dimensions = {arr.ndim}\")\n",
    "print(f\"Length --> {len(arr)}\")\n",
    "print(f\"Shape of an array --> {arr.shape}\")"
   ]
  },
  {
   "cell_type": "code",
   "execution_count": 50,
   "id": "c0bf0d2a",
   "metadata": {},
   "outputs": [
    {
     "data": {
      "text/plain": [
       "array([1, 2, 3, 4, 5])"
      ]
     },
     "execution_count": 50,
     "metadata": {},
     "output_type": "execute_result"
    }
   ],
   "source": [
    "arr[0]"
   ]
  },
  {
   "cell_type": "code",
   "execution_count": 52,
   "id": "bbf94478",
   "metadata": {},
   "outputs": [
    {
     "data": {
      "text/plain": [
       "array([4, 5])"
      ]
     },
     "execution_count": 52,
     "metadata": {},
     "output_type": "execute_result"
    }
   ],
   "source": [
    "arr[0][-2:]"
   ]
  },
  {
   "cell_type": "code",
   "execution_count": 54,
   "id": "d914f888",
   "metadata": {},
   "outputs": [
    {
     "data": {
      "text/plain": [
       "array([20, 30, 40])"
      ]
     },
     "execution_count": 54,
     "metadata": {},
     "output_type": "execute_result"
    }
   ],
   "source": [
    "arr[1][1:4]"
   ]
  },
  {
   "cell_type": "code",
   "execution_count": 55,
   "id": "dd5600d4",
   "metadata": {},
   "outputs": [
    {
     "data": {
      "text/plain": [
       "array([[  1,   2,   3,   4,   5],\n",
       "       [ 10,  20,  30,  40,  50],\n",
       "       [100, 200, 300, 400, 500]])"
      ]
     },
     "execution_count": 55,
     "metadata": {},
     "output_type": "execute_result"
    }
   ],
   "source": [
    "arr"
   ]
  },
  {
   "cell_type": "code",
   "execution_count": 56,
   "id": "a425353a",
   "metadata": {},
   "outputs": [
    {
     "data": {
      "text/plain": [
       "array([[ 1,  2],\n",
       "       [10, 20]])"
      ]
     },
     "execution_count": 56,
     "metadata": {},
     "output_type": "execute_result"
    }
   ],
   "source": [
    "arr[0:2,0:2]"
   ]
  },
  {
   "cell_type": "code",
   "execution_count": 65,
   "id": "6c8f0ab8",
   "metadata": {},
   "outputs": [
    {
     "data": {
      "text/plain": [
       "array([[  1,   2,   3,   4],\n",
       "       [ 10,  20,  30,  40],\n",
       "       [100, 200, 300, 400]])"
      ]
     },
     "execution_count": 65,
     "metadata": {},
     "output_type": "execute_result"
    }
   ],
   "source": [
    "arr[0:3,0:4] "
   ]
  },
  {
   "cell_type": "code",
   "execution_count": 70,
   "id": "d0b86453",
   "metadata": {},
   "outputs": [
    {
     "data": {
      "text/plain": [
       "array([[ 40,  50],\n",
       "       [400, 500]])"
      ]
     },
     "execution_count": 70,
     "metadata": {},
     "output_type": "execute_result"
    }
   ],
   "source": [
    "arr[1:,3:]"
   ]
  },
  {
   "cell_type": "code",
   "execution_count": 71,
   "id": "aa563c8d",
   "metadata": {},
   "outputs": [
    {
     "data": {
      "text/plain": [
       "array([[ 30,  40,  50],\n",
       "       [300, 400, 500]])"
      ]
     },
     "execution_count": 71,
     "metadata": {},
     "output_type": "execute_result"
    }
   ],
   "source": [
    "arr[1:,2:]"
   ]
  },
  {
   "cell_type": "code",
   "execution_count": 80,
   "id": "1d5f109a",
   "metadata": {},
   "outputs": [
    {
     "name": "stdout",
     "output_type": "stream",
     "text": [
      "Array --> \n",
      "[[[   1    2    3    4    5]\n",
      "  [  10   20   30   40   50]\n",
      "  [ 100  200  300  400  500]]\n",
      "\n",
      " [[  11   22   33   44   55]\n",
      "  [ 110  220  330  440  550]\n",
      "  [1100 2200 3300 4400 5500]]]\n",
      "Number of dimensions = 3\n",
      "Length --> 2\n",
      "Shape of an array --> (2, 3, 5)\n"
     ]
    }
   ],
   "source": [
    "arr = np.array([[[1,2,3,4,5],[10,20,30,40,50],[100,200,300,400,500]],[[11,22,33,44,55],[110,220,330,440,550],[1100,2200,3300,4400,5500]]],int)\n",
    "print(f\"Array --> \\n{arr}\")\n",
    "print(f\"Number of dimensions = {arr.ndim}\")\n",
    "print(f\"Length --> {len(arr)}\")\n",
    "print(f\"Shape of an array --> {arr.shape}\")"
   ]
  },
  {
   "cell_type": "code",
   "execution_count": 81,
   "id": "dc55f45e",
   "metadata": {},
   "outputs": [
    {
     "data": {
      "text/plain": [
       "array([[  1,   2,   3,   4,   5],\n",
       "       [ 10,  20,  30,  40,  50],\n",
       "       [100, 200, 300, 400, 500]])"
      ]
     },
     "execution_count": 81,
     "metadata": {},
     "output_type": "execute_result"
    }
   ],
   "source": [
    "arr[0]"
   ]
  },
  {
   "cell_type": "code",
   "execution_count": 82,
   "id": "5e7ed2b1",
   "metadata": {},
   "outputs": [
    {
     "data": {
      "text/plain": [
       "array([[  11,   22,   33,   44,   55],\n",
       "       [ 110,  220,  330,  440,  550],\n",
       "       [1100, 2200, 3300, 4400, 5500]])"
      ]
     },
     "execution_count": 82,
     "metadata": {},
     "output_type": "execute_result"
    }
   ],
   "source": [
    "arr[1]"
   ]
  },
  {
   "cell_type": "code",
   "execution_count": 83,
   "id": "5ed054cf",
   "metadata": {},
   "outputs": [
    {
     "data": {
      "text/plain": [
       "1"
      ]
     },
     "execution_count": 83,
     "metadata": {},
     "output_type": "execute_result"
    }
   ],
   "source": [
    "arr[0,0,0]"
   ]
  },
  {
   "cell_type": "code",
   "execution_count": 84,
   "id": "55b199c7",
   "metadata": {},
   "outputs": [
    {
     "data": {
      "text/plain": [
       "5"
      ]
     },
     "execution_count": 84,
     "metadata": {},
     "output_type": "execute_result"
    }
   ],
   "source": [
    "arr[0,0,-1]"
   ]
  },
  {
   "cell_type": "code",
   "execution_count": 85,
   "id": "abebb1ce",
   "metadata": {},
   "outputs": [
    {
     "data": {
      "text/plain": [
       "55"
      ]
     },
     "execution_count": 85,
     "metadata": {},
     "output_type": "execute_result"
    }
   ],
   "source": [
    "arr[1,0,-1]"
   ]
  },
  {
   "cell_type": "code",
   "execution_count": 86,
   "id": "00ac1fd8",
   "metadata": {},
   "outputs": [
    {
     "data": {
      "text/plain": [
       "500"
      ]
     },
     "execution_count": 86,
     "metadata": {},
     "output_type": "execute_result"
    }
   ],
   "source": [
    "arr[0,2,-1]"
   ]
  },
  {
   "cell_type": "code",
   "execution_count": 87,
   "id": "2de02f32",
   "metadata": {},
   "outputs": [
    {
     "data": {
      "text/plain": [
       "array([[  3,   4],\n",
       "       [ 30,  40],\n",
       "       [300, 400]])"
      ]
     },
     "execution_count": 87,
     "metadata": {},
     "output_type": "execute_result"
    }
   ],
   "source": [
    "arr[0,:,2:4]"
   ]
  },
  {
   "cell_type": "code",
   "execution_count": 88,
   "id": "e8e6651a",
   "metadata": {},
   "outputs": [
    {
     "data": {
      "text/plain": [
       "array([[[   1,    2,    3,    4,    5],\n",
       "        [  10,   20,   30,   40,   50],\n",
       "        [ 100,  200,  300,  400,  500]],\n",
       "\n",
       "       [[  11,   22,   33,   44,   55],\n",
       "        [ 110,  220,  330,  440,  550],\n",
       "        [1100, 2200, 3300, 4400, 5500]]])"
      ]
     },
     "execution_count": 88,
     "metadata": {},
     "output_type": "execute_result"
    }
   ],
   "source": [
    "arr"
   ]
  },
  {
   "cell_type": "code",
   "execution_count": 91,
   "id": "abc814b7",
   "metadata": {},
   "outputs": [
    {
     "data": {
      "text/plain": [
       "array([ 330, 3300])"
      ]
     },
     "execution_count": 91,
     "metadata": {},
     "output_type": "execute_result"
    }
   ],
   "source": [
    "arr[1,1:,2]"
   ]
  },
  {
   "cell_type": "code",
   "execution_count": 92,
   "id": "aaf1d159",
   "metadata": {},
   "outputs": [
    {
     "data": {
      "text/plain": [
       "array([[ 330,  440],\n",
       "       [3300, 4400]])"
      ]
     },
     "execution_count": 92,
     "metadata": {},
     "output_type": "execute_result"
    }
   ],
   "source": [
    "arr[1,1:,2:4]"
   ]
  },
  {
   "cell_type": "code",
   "execution_count": 93,
   "id": "b2039e83",
   "metadata": {},
   "outputs": [
    {
     "data": {
      "text/plain": [
       "array([[[  30,   40],\n",
       "        [ 300,  400]],\n",
       "\n",
       "       [[ 330,  440],\n",
       "        [3300, 4400]]])"
      ]
     },
     "execution_count": 93,
     "metadata": {},
     "output_type": "execute_result"
    }
   ],
   "source": [
    "arr[:,1:,2:4]"
   ]
  },
  {
   "cell_type": "code",
   "execution_count": 98,
   "id": "9ca4635a",
   "metadata": {},
   "outputs": [
    {
     "data": {
      "text/plain": [
       "array([[[   1,    2,    3,    4,    5],\n",
       "        [  10,   20,   30,   40,   50],\n",
       "        [ 100,  200,  300,  400,  500]],\n",
       "\n",
       "       [[  11,   22,   33,   44,   55],\n",
       "        [ 110,  220,  330,  440,  550],\n",
       "        [1100, 2200, 3300, 4400, 5500]]])"
      ]
     },
     "execution_count": 98,
     "metadata": {},
     "output_type": "execute_result"
    }
   ],
   "source": [
    "arr[:,:,:]"
   ]
  },
  {
   "cell_type": "code",
   "execution_count": 95,
   "id": "158fd1fe",
   "metadata": {},
   "outputs": [
    {
     "data": {
      "text/plain": [
       "array([[   3,   30,  300],\n",
       "       [  33,  330, 3300]])"
      ]
     },
     "execution_count": 95,
     "metadata": {},
     "output_type": "execute_result"
    }
   ],
   "source": [
    "arr[:,:,2]"
   ]
  },
  {
   "cell_type": "code",
   "execution_count": 97,
   "id": "d0079a80",
   "metadata": {},
   "outputs": [
    {
     "data": {
      "text/plain": [
       "array([[   4,   40,  400],\n",
       "       [  44,  440, 4400]])"
      ]
     },
     "execution_count": 97,
     "metadata": {},
     "output_type": "execute_result"
    }
   ],
   "source": [
    "arr[:,:,-2]"
   ]
  },
  {
   "cell_type": "code",
   "execution_count": 99,
   "id": "1652cb63",
   "metadata": {},
   "outputs": [
    {
     "data": {
      "text/plain": [
       "array([[[   2,    3],\n",
       "        [  20,   30],\n",
       "        [ 200,  300]],\n",
       "\n",
       "       [[  22,   33],\n",
       "        [ 220,  330],\n",
       "        [2200, 3300]]])"
      ]
     },
     "execution_count": 99,
     "metadata": {},
     "output_type": "execute_result"
    }
   ],
   "source": [
    "arr[:,:,1:3]"
   ]
  },
  {
   "cell_type": "markdown",
   "id": "7a20403b",
   "metadata": {},
   "source": [
    "# Covert to n-D Array"
   ]
  },
  {
   "cell_type": "code",
   "execution_count": 100,
   "id": "490dd07b",
   "metadata": {},
   "outputs": [
    {
     "name": "stdout",
     "output_type": "stream",
     "text": [
      "Array --> \n",
      "[1 2 3 4 5]\n",
      "Number of Dimensions = 1\n",
      "Length --> 5\n",
      "Shape of an array --> (5,)\n"
     ]
    }
   ],
   "source": [
    "arr = np.array([1,2,3,4,5],int)\n",
    "print(f\"Array --> \\n{arr}\")\n",
    "print(f\"Number of Dimensions = {arr.ndim}\")\n",
    "print(f\"Length --> {len(arr)}\")\n",
    "print(f\"Shape of an array --> {arr.shape}\")"
   ]
  },
  {
   "cell_type": "code",
   "execution_count": 101,
   "id": "8d54abec",
   "metadata": {},
   "outputs": [
    {
     "name": "stdout",
     "output_type": "stream",
     "text": [
      "Array --> \n",
      "[1 2 3 4 5]\n",
      "Number of Dimensions = 1\n",
      "Length --> 5\n",
      "Shape of an array --> (5,)\n"
     ]
    }
   ],
   "source": [
    "arr = np.array([1,2,3,4,5],ndmin=1)\n",
    "print(f\"Array --> \\n{arr}\")\n",
    "print(f\"Number of Dimensions = {arr.ndim}\")\n",
    "print(f\"Length --> {len(arr)}\")\n",
    "print(f\"Shape of an array --> {arr.shape}\")"
   ]
  },
  {
   "cell_type": "code",
   "execution_count": 102,
   "id": "c976134f",
   "metadata": {},
   "outputs": [
    {
     "name": "stdout",
     "output_type": "stream",
     "text": [
      "Array --> \n",
      "[[1 2 3 4 5]]\n",
      "Number of Dimensions = 2\n",
      "Length --> 1\n",
      "Shape of an array --> (1, 5)\n"
     ]
    }
   ],
   "source": [
    "arr = np.array([1,2,3,4,5],ndmin=2)\n",
    "print(f\"Array --> \\n{arr}\")\n",
    "print(f\"Number of Dimensions = {arr.ndim}\")\n",
    "print(f\"Length --> {len(arr)}\")\n",
    "print(f\"Shape of an array --> {arr.shape}\")"
   ]
  },
  {
   "cell_type": "code",
   "execution_count": 103,
   "id": "cc4e35dc",
   "metadata": {},
   "outputs": [
    {
     "name": "stdout",
     "output_type": "stream",
     "text": [
      "Array --> \n",
      "[[[1 2 3 4 5]]]\n",
      "Number of Dimensions = 3\n",
      "Length --> 1\n",
      "Shape of an array --> (1, 1, 5)\n"
     ]
    }
   ],
   "source": [
    "arr = np.array([1,2,3,4,5],ndmin=3)\n",
    "print(f\"Array --> \\n{arr}\")\n",
    "print(f\"Number of Dimensions = {arr.ndim}\")\n",
    "print(f\"Length --> {len(arr)}\")\n",
    "print(f\"Shape of an array --> {arr.shape}\")"
   ]
  },
  {
   "cell_type": "code",
   "execution_count": 108,
   "id": "53472f20",
   "metadata": {},
   "outputs": [
    {
     "name": "stdout",
     "output_type": "stream",
     "text": [
      "Array --> \n",
      "[[[[[[[[[[[[[[[[[[[[[[[[[[[[[[[[1 2 3 4 5]]]]]]]]]]]]]]]]]]]]]]]]]]]]]]]]\n",
      "Number of Dimensions = 32\n",
      "Length --> 1\n",
      "Shape of an array --> (1, 1, 1, 1, 1, 1, 1, 1, 1, 1, 1, 1, 1, 1, 1, 1, 1, 1, 1, 1, 1, 1, 1, 1, 1, 1, 1, 1, 1, 1, 1, 5)\n"
     ]
    }
   ],
   "source": [
    "arr = np.array([1,2,3,4,5],ndmin=32)  # -----> max Dimensions = 32\n",
    "print(f\"Array --> \\n{arr}\")\n",
    "print(f\"Number of Dimensions = {arr.ndim}\")\n",
    "print(f\"Length --> {len(arr)}\")\n",
    "print(f\"Shape of an array --> {arr.shape}\")"
   ]
  },
  {
   "cell_type": "code",
   "execution_count": 110,
   "id": "c1c7fc67",
   "metadata": {},
   "outputs": [
    {
     "name": "stdout",
     "output_type": "stream",
     "text": [
      "Array --> \n",
      "[1 2 3 4 5]\n",
      "Number of Dimensions = 1\n",
      "Length --> 5\n",
      "Shape of an array --> (5,)\n"
     ]
    }
   ],
   "source": [
    "arr = np.array([1,2,3,4,5],ndmin=0) # Cant convert 1-d to 0-d\n",
    "print(f\"Array --> \\n{arr}\")\n",
    "print(f\"Number of Dimensions = {arr.ndim}\")\n",
    "print(f\"Length --> {len(arr)}\")\n",
    "print(f\"Shape of an array --> {arr.shape}\")"
   ]
  },
  {
   "cell_type": "code",
   "execution_count": 111,
   "id": "84ba3019",
   "metadata": {},
   "outputs": [
    {
     "name": "stdout",
     "output_type": "stream",
     "text": [
      "Array --> \n",
      "[1 2 3 4 5]\n",
      "Number of Dimensions = 1\n",
      "Length --> 5\n",
      "Shape of an array --> (5,)\n"
     ]
    }
   ],
   "source": [
    "arr = np.array([1,2,3,4,5])\n",
    "print(f\"Array --> \\n{arr}\")\n",
    "print(f\"Number of Dimensions = {arr.ndim}\")\n",
    "print(f\"Length --> {len(arr)}\")\n",
    "print(f\"Shape of an array --> {arr.shape}\")"
   ]
  },
  {
   "cell_type": "code",
   "execution_count": 115,
   "id": "92679409",
   "metadata": {},
   "outputs": [
    {
     "name": "stdout",
     "output_type": "stream",
     "text": [
      "Array --> \n",
      "[[1 2 3]\n",
      " [4 5 6]]\n",
      "Number of Dimensions = 2\n",
      "Length --> 2\n",
      "Shape of an array --> (2, 3)\n"
     ]
    }
   ],
   "source": [
    "arr = np.array([[1,2,3],[4,5,6]])\n",
    "print(f\"Array --> \\n{arr}\")\n",
    "print(f\"Number of Dimensions = {arr.ndim}\")\n",
    "print(f\"Length --> {len(arr)}\")\n",
    "print(f\"Shape of an array --> {arr.shape}\")"
   ]
  },
  {
   "cell_type": "code",
   "execution_count": 116,
   "id": "7b15804e",
   "metadata": {},
   "outputs": [
    {
     "name": "stdout",
     "output_type": "stream",
     "text": [
      "Array --> \n",
      "[[1 2 3]\n",
      " [4 5 6]]\n",
      "Number of Dimensions = 2\n",
      "Length --> 2\n",
      "Shape of an array --> (2, 3)\n"
     ]
    }
   ],
   "source": [
    "arr = np.array([[1,2,3],[4,5,6]],ndmin=1)\n",
    "print(f\"Array --> \\n{arr}\")\n",
    "print(f\"Number of Dimensions = {arr.ndim}\")\n",
    "print(f\"Length --> {len(arr)}\")\n",
    "print(f\"Shape of an array --> {arr.shape}\")"
   ]
  },
  {
   "cell_type": "code",
   "execution_count": 117,
   "id": "a45e4d43",
   "metadata": {},
   "outputs": [
    {
     "name": "stdout",
     "output_type": "stream",
     "text": [
      "Array --> \n",
      "[[[1 2 3]\n",
      "  [4 5 6]]]\n",
      "Number of Dimensions = 3\n",
      "Length --> 1\n",
      "Shape of an array --> (1, 2, 3)\n"
     ]
    }
   ],
   "source": [
    "arr = np.array([[1,2,3],[4,5,6]],ndmin=3)\n",
    "print(f\"Array --> \\n{arr}\")\n",
    "print(f\"Number of Dimensions = {arr.ndim}\")\n",
    "print(f\"Length --> {len(arr)}\")\n",
    "print(f\"Shape of an array --> {arr.shape}\")"
   ]
  },
  {
   "cell_type": "code",
   "execution_count": 118,
   "id": "92b75a1b",
   "metadata": {},
   "outputs": [
    {
     "data": {
      "text/plain": [
       "array([ 1,  2,  3,  4,  5,  6,  7,  8,  9, 10])"
      ]
     },
     "execution_count": 118,
     "metadata": {},
     "output_type": "execute_result"
    }
   ],
   "source": [
    "arr = np.array([1,2,3,4,5,6,7,8,9,10])\n",
    "arr"
   ]
  },
  {
   "cell_type": "code",
   "execution_count": 119,
   "id": "bbb80167",
   "metadata": {},
   "outputs": [
    {
     "data": {
      "text/plain": [
       "array([[ 1,  2,  3,  4,  5,  6,  7,  8,  9, 10]])"
      ]
     },
     "execution_count": 119,
     "metadata": {},
     "output_type": "execute_result"
    }
   ],
   "source": [
    "arr = np.array([1,2,3,4,5,6,7,8,9,10],ndmin=2)\n",
    "arr"
   ]
  },
  {
   "cell_type": "code",
   "execution_count": 120,
   "id": "326bb338",
   "metadata": {},
   "outputs": [
    {
     "data": {
      "text/plain": [
       "array([[[ 1,  2,  3,  4,  5,  6,  7,  8,  9, 10]]])"
      ]
     },
     "execution_count": 120,
     "metadata": {},
     "output_type": "execute_result"
    }
   ],
   "source": [
    "arr = np.array([1,2,3,4,5,6,7,8,9,10],ndmin=3)\n",
    "arr"
   ]
  },
  {
   "cell_type": "code",
   "execution_count": 121,
   "id": "cd3dcea0",
   "metadata": {},
   "outputs": [
    {
     "data": {
      "text/plain": [
       "array([[[[ 1,  2,  3,  4,  5,  6,  7,  8,  9, 10]]]])"
      ]
     },
     "execution_count": 121,
     "metadata": {},
     "output_type": "execute_result"
    }
   ],
   "source": [
    "arr = np.array([1,2,3,4,5,6,7,8,9,10],ndmin=4)\n",
    "arr"
   ]
  },
  {
   "cell_type": "markdown",
   "id": "0adcc0e3",
   "metadata": {},
   "source": [
    "# reshape()\n",
    "- reshape size must be multiple of elements in array"
   ]
  },
  {
   "cell_type": "code",
   "execution_count": 122,
   "id": "e253f749",
   "metadata": {},
   "outputs": [
    {
     "name": "stdout",
     "output_type": "stream",
     "text": [
      "Array --> \n",
      "[1 2 3 4 5 6]\n",
      "Number of Dimensions = 1\n",
      "Length --> 6\n",
      "Shape of an array --> (6,)\n"
     ]
    }
   ],
   "source": [
    "arr = np.array([1,2,3,4,5,6])\n",
    "print(f\"Array --> \\n{arr}\")\n",
    "print(f\"Number of Dimensions = {arr.ndim}\")\n",
    "print(f\"Length --> {len(arr)}\")\n",
    "print(f\"Shape of an array --> {arr.shape}\")"
   ]
  },
  {
   "cell_type": "code",
   "execution_count": 123,
   "id": "2c91fbcf",
   "metadata": {},
   "outputs": [
    {
     "data": {
      "text/plain": [
       "array([[1, 2, 3],\n",
       "       [4, 5, 6]])"
      ]
     },
     "execution_count": 123,
     "metadata": {},
     "output_type": "execute_result"
    }
   ],
   "source": [
    "arr.reshape(2,3)"
   ]
  },
  {
   "cell_type": "code",
   "execution_count": 124,
   "id": "cdfa514b",
   "metadata": {},
   "outputs": [
    {
     "data": {
      "text/plain": [
       "array([[1, 2],\n",
       "       [3, 4],\n",
       "       [5, 6]])"
      ]
     },
     "execution_count": 124,
     "metadata": {},
     "output_type": "execute_result"
    }
   ],
   "source": [
    "arr.reshape(3,2)"
   ]
  },
  {
   "cell_type": "code",
   "execution_count": 125,
   "id": "6b959114",
   "metadata": {},
   "outputs": [
    {
     "data": {
      "text/plain": [
       "array([1, 2, 3, 4, 5, 6])"
      ]
     },
     "execution_count": 125,
     "metadata": {},
     "output_type": "execute_result"
    }
   ],
   "source": [
    "arr"
   ]
  },
  {
   "cell_type": "code",
   "execution_count": 129,
   "id": "da514aca",
   "metadata": {},
   "outputs": [
    {
     "data": {
      "text/plain": [
       "array([[1],\n",
       "       [2],\n",
       "       [3],\n",
       "       [4],\n",
       "       [5],\n",
       "       [6]])"
      ]
     },
     "execution_count": 129,
     "metadata": {},
     "output_type": "execute_result"
    }
   ],
   "source": [
    "arr.reshape(6,1)"
   ]
  },
  {
   "cell_type": "code",
   "execution_count": 130,
   "id": "b014fc5e",
   "metadata": {},
   "outputs": [
    {
     "name": "stdout",
     "output_type": "stream",
     "text": [
      "Array --> \n",
      "[[1 2 3]\n",
      " [4 5 1]\n",
      " [2 3 4]\n",
      " [5 1 2]]\n",
      "Number of Dimensions = 2\n",
      "Length --> 4\n",
      "Shape of an array --> (4, 3)\n"
     ]
    }
   ],
   "source": [
    "arr = np.array([[1,2,3],[4,5,1],[2,3,4],[5,1,2]])\n",
    "print(f\"Array --> \\n{arr}\")\n",
    "print(f\"Number of Dimensions = {arr.ndim}\")\n",
    "print(f\"Length --> {len(arr)}\")\n",
    "print(f\"Shape of an array --> {arr.shape}\")"
   ]
  },
  {
   "cell_type": "code",
   "execution_count": 131,
   "id": "60784249",
   "metadata": {},
   "outputs": [
    {
     "data": {
      "text/plain": [
       "array([[1, 2],\n",
       "       [3, 4],\n",
       "       [5, 1],\n",
       "       [2, 3],\n",
       "       [4, 5],\n",
       "       [1, 2]])"
      ]
     },
     "execution_count": 131,
     "metadata": {},
     "output_type": "execute_result"
    }
   ],
   "source": [
    "arr.reshape(6,2)  "
   ]
  },
  {
   "cell_type": "code",
   "execution_count": 132,
   "id": "02ff3ae4",
   "metadata": {},
   "outputs": [
    {
     "data": {
      "text/plain": [
       "array([[1, 2, 3, 4],\n",
       "       [5, 1, 2, 3],\n",
       "       [4, 5, 1, 2]])"
      ]
     },
     "execution_count": 132,
     "metadata": {},
     "output_type": "execute_result"
    }
   ],
   "source": [
    "arr.reshape(3,4)"
   ]
  },
  {
   "cell_type": "code",
   "execution_count": 133,
   "id": "18662566",
   "metadata": {},
   "outputs": [
    {
     "data": {
      "text/plain": [
       "array([[1, 2, 3],\n",
       "       [4, 5, 1],\n",
       "       [2, 3, 4],\n",
       "       [5, 1, 2]])"
      ]
     },
     "execution_count": 133,
     "metadata": {},
     "output_type": "execute_result"
    }
   ],
   "source": [
    "arr.reshape(4,3)"
   ]
  },
  {
   "cell_type": "code",
   "execution_count": 134,
   "id": "32aac656",
   "metadata": {},
   "outputs": [
    {
     "data": {
      "text/plain": [
       "array([[1],\n",
       "       [2],\n",
       "       [3],\n",
       "       [4],\n",
       "       [5],\n",
       "       [1],\n",
       "       [2],\n",
       "       [3],\n",
       "       [4],\n",
       "       [5],\n",
       "       [1],\n",
       "       [2]])"
      ]
     },
     "execution_count": 134,
     "metadata": {},
     "output_type": "execute_result"
    }
   ],
   "source": [
    "arr.reshape(12,1)"
   ]
  },
  {
   "cell_type": "code",
   "execution_count": 135,
   "id": "11b6f4ba",
   "metadata": {},
   "outputs": [
    {
     "data": {
      "text/plain": [
       "array([[1, 2, 3, 4, 5, 1],\n",
       "       [2, 3, 4, 5, 1, 2]])"
      ]
     },
     "execution_count": 135,
     "metadata": {},
     "output_type": "execute_result"
    }
   ],
   "source": [
    "arr.reshape(2,6)  # 2*6 --> 12"
   ]
  },
  {
   "cell_type": "code",
   "execution_count": 136,
   "id": "f75b45f5",
   "metadata": {},
   "outputs": [
    {
     "ename": "ValueError",
     "evalue": "cannot reshape array of size 12 into shape (3,6)",
     "output_type": "error",
     "traceback": [
      "\u001b[1;31m---------------------------------------------------------------------------\u001b[0m",
      "\u001b[1;31mValueError\u001b[0m                                Traceback (most recent call last)",
      "Cell \u001b[1;32mIn [136], line 1\u001b[0m\n\u001b[1;32m----> 1\u001b[0m \u001b[43marr\u001b[49m\u001b[38;5;241;43m.\u001b[39;49m\u001b[43mreshape\u001b[49m\u001b[43m(\u001b[49m\u001b[38;5;241;43m3\u001b[39;49m\u001b[43m,\u001b[49m\u001b[38;5;241;43m6\u001b[39;49m\u001b[43m)\u001b[49m\n",
      "\u001b[1;31mValueError\u001b[0m: cannot reshape array of size 12 into shape (3,6)"
     ]
    }
   ],
   "source": [
    "arr.reshape(3,6)  # 3*6 --> 18 != 12"
   ]
  },
  {
   "cell_type": "markdown",
   "id": "0d5e0b2f",
   "metadata": {},
   "source": [
    "# 1-D to 3-D Coversion"
   ]
  },
  {
   "cell_type": "code",
   "execution_count": 137,
   "id": "4caa9bfd",
   "metadata": {},
   "outputs": [
    {
     "name": "stdout",
     "output_type": "stream",
     "text": [
      "Array --> \n",
      "[ 1  2  3  4  5  6  7  8  9 10 11 12]\n",
      "Number of Dimensions = 1\n",
      "Length --> 12\n",
      "Shape of an array --> (12,)\n"
     ]
    }
   ],
   "source": [
    "arr = np.array([1,2,3,4,5,6,7,8,9,10,11,12])\n",
    "print(f\"Array --> \\n{arr}\")\n",
    "print(f\"Number of Dimensions = {arr.ndim}\")\n",
    "print(f\"Length --> {len(arr)}\")\n",
    "print(f\"Shape of an array --> {arr.shape}\")"
   ]
  },
  {
   "cell_type": "code",
   "execution_count": 138,
   "id": "7bf19302",
   "metadata": {},
   "outputs": [
    {
     "data": {
      "text/plain": [
       "array([[[ 1,  2,  3],\n",
       "        [ 4,  5,  6]],\n",
       "\n",
       "       [[ 7,  8,  9],\n",
       "        [10, 11, 12]]])"
      ]
     },
     "execution_count": 138,
     "metadata": {},
     "output_type": "execute_result"
    }
   ],
   "source": [
    "arr.reshape(2,2,3)"
   ]
  },
  {
   "cell_type": "raw",
   "id": "ccf10abe",
   "metadata": {},
   "source": [
    "2,2,3\n",
    "2,3,2\n",
    "1,2,6\n",
    "6,2,1\n",
    "4,3,1\n",
    "3,4,1"
   ]
  },
  {
   "cell_type": "code",
   "execution_count": 139,
   "id": "10b23d28",
   "metadata": {},
   "outputs": [
    {
     "data": {
      "text/plain": [
       "array([[[ 1,  2],\n",
       "        [ 3,  4],\n",
       "        [ 5,  6]],\n",
       "\n",
       "       [[ 7,  8],\n",
       "        [ 9, 10],\n",
       "        [11, 12]]])"
      ]
     },
     "execution_count": 139,
     "metadata": {},
     "output_type": "execute_result"
    }
   ],
   "source": [
    "arr.reshape(2,3,2)"
   ]
  },
  {
   "cell_type": "code",
   "execution_count": 140,
   "id": "fa4978f5",
   "metadata": {},
   "outputs": [
    {
     "data": {
      "text/plain": [
       "array([[[ 1],\n",
       "        [ 2]],\n",
       "\n",
       "       [[ 3],\n",
       "        [ 4]],\n",
       "\n",
       "       [[ 5],\n",
       "        [ 6]],\n",
       "\n",
       "       [[ 7],\n",
       "        [ 8]],\n",
       "\n",
       "       [[ 9],\n",
       "        [10]],\n",
       "\n",
       "       [[11],\n",
       "        [12]]])"
      ]
     },
     "execution_count": 140,
     "metadata": {},
     "output_type": "execute_result"
    }
   ],
   "source": [
    "arr.reshape(6,2,1)"
   ]
  },
  {
   "cell_type": "code",
   "execution_count": 141,
   "id": "c7a8bd67",
   "metadata": {},
   "outputs": [
    {
     "data": {
      "text/plain": [
       "array([[[ 1,  2,  3,  4,  5,  6],\n",
       "        [ 7,  8,  9, 10, 11, 12]]])"
      ]
     },
     "execution_count": 141,
     "metadata": {},
     "output_type": "execute_result"
    }
   ],
   "source": [
    "arr.reshape(1,2,6)"
   ]
  },
  {
   "cell_type": "code",
   "execution_count": 142,
   "id": "2cf92223",
   "metadata": {},
   "outputs": [
    {
     "data": {
      "text/plain": [
       "array([[[ 1],\n",
       "        [ 2],\n",
       "        [ 3],\n",
       "        [ 4],\n",
       "        [ 5],\n",
       "        [ 6],\n",
       "        [ 7],\n",
       "        [ 8],\n",
       "        [ 9],\n",
       "        [10],\n",
       "        [11],\n",
       "        [12]]])"
      ]
     },
     "execution_count": 142,
     "metadata": {},
     "output_type": "execute_result"
    }
   ],
   "source": [
    "arr.reshape(1,12,1)"
   ]
  },
  {
   "cell_type": "code",
   "execution_count": 143,
   "id": "22463c05",
   "metadata": {},
   "outputs": [
    {
     "data": {
      "text/plain": [
       "array([[[ 1,  2,  3,  4,  5,  6,  7,  8,  9, 10, 11, 12]]])"
      ]
     },
     "execution_count": 143,
     "metadata": {},
     "output_type": "execute_result"
    }
   ],
   "source": [
    "arr.reshape(1,1,12)"
   ]
  },
  {
   "cell_type": "markdown",
   "id": "55c96bb3",
   "metadata": {},
   "source": [
    "# Accesing elements by for loop"
   ]
  },
  {
   "cell_type": "code",
   "execution_count": 144,
   "id": "06ed2547",
   "metadata": {},
   "outputs": [
    {
     "name": "stdout",
     "output_type": "stream",
     "text": [
      "Array --> \n",
      "[ 1  2  3  4  5  6  7  8  9 10 11 12]\n",
      "Number of Dimensions = 1\n",
      "Length --> 12\n",
      "Shape of an array --> (12,)\n"
     ]
    }
   ],
   "source": [
    "arr = np.array([1,2,3,4,5,6,7,8,9,10,11,12])\n",
    "print(f\"Array --> \\n{arr}\")\n",
    "print(f\"Number of Dimensions = {arr.ndim}\")\n",
    "print(f\"Length --> {len(arr)}\")\n",
    "print(f\"Shape of an array --> {arr.shape}\")"
   ]
  },
  {
   "cell_type": "code",
   "execution_count": 147,
   "id": "3cc43de7",
   "metadata": {
    "scrolled": true
   },
   "outputs": [
    {
     "name": "stdout",
     "output_type": "stream",
     "text": [
      "Array element --> 1\n",
      "Array element --> 2\n",
      "Array element --> 3\n",
      "Array element --> 4\n",
      "Array element --> 5\n",
      "Array element --> 6\n",
      "Array element --> 7\n",
      "Array element --> 8\n",
      "Array element --> 9\n",
      "Array element --> 10\n",
      "Array element --> 11\n",
      "Array element --> 12\n"
     ]
    }
   ],
   "source": [
    "for i in arr:\n",
    "    print(f\"Array element --> {i}\")"
   ]
  },
  {
   "cell_type": "code",
   "execution_count": 149,
   "id": "23fdbaf2",
   "metadata": {},
   "outputs": [
    {
     "name": "stdout",
     "output_type": "stream",
     "text": [
      "1\n",
      "2\n",
      "3\n",
      "4\n",
      "5\n",
      "6\n",
      "7\n",
      "8\n",
      "9\n",
      "10\n",
      "11\n",
      "12\n"
     ]
    }
   ],
   "source": [
    "li = [[1,2,3,4,5,6],[7,8,9,10,11,12]]\n",
    "for i in li:\n",
    "    for j in i:\n",
    "        print(j)"
   ]
  },
  {
   "cell_type": "code",
   "execution_count": 150,
   "id": "a7236f90",
   "metadata": {},
   "outputs": [
    {
     "name": "stdout",
     "output_type": "stream",
     "text": [
      "[1, 2, 3, 4, 5, 6]\n",
      "[7, 8, 9, 10, 11, 12]\n",
      "[1, 2, 3, 4, 5, 6]\n",
      "[7, 8, 9, 10, 11, 12]\n"
     ]
    }
   ],
   "source": [
    "li = [[[1,2,3,4,5,6],[7,8,9,10,11,12]],[[1,2,3,4,5,6],[7,8,9,10,11,12]]]\n",
    "for i in li:\n",
    "    for j in i:\n",
    "        print(j)"
   ]
  },
  {
   "cell_type": "code",
   "execution_count": 151,
   "id": "72278901",
   "metadata": {},
   "outputs": [
    {
     "name": "stdout",
     "output_type": "stream",
     "text": [
      "1\n",
      "2\n",
      "3\n",
      "4\n",
      "5\n",
      "6\n",
      "7\n",
      "8\n",
      "9\n",
      "10\n",
      "11\n",
      "12\n",
      "1\n",
      "2\n",
      "3\n",
      "4\n",
      "5\n",
      "6\n",
      "7\n",
      "8\n",
      "9\n",
      "10\n",
      "11\n",
      "12\n"
     ]
    }
   ],
   "source": [
    "li = [[[1,2,3,4,5,6],[7,8,9,10,11,12]],[[1,2,3,4,5,6],[7,8,9,10,11,12]]]\n",
    "for i in li:\n",
    "    for j in i:\n",
    "        for k in j:\n",
    "            print(k)"
   ]
  },
  {
   "cell_type": "markdown",
   "id": "8f594e66",
   "metadata": {},
   "source": [
    "# 2.np.nditer()"
   ]
  },
  {
   "cell_type": "code",
   "execution_count": 152,
   "id": "67e280b4",
   "metadata": {},
   "outputs": [
    {
     "data": {
      "text/plain": [
       "array([ 1,  2,  3,  4,  5,  6,  7,  8,  9, 10, 11, 12])"
      ]
     },
     "execution_count": 152,
     "metadata": {},
     "output_type": "execute_result"
    }
   ],
   "source": [
    "arr"
   ]
  },
  {
   "cell_type": "code",
   "execution_count": 153,
   "id": "0f84e8cd",
   "metadata": {},
   "outputs": [
    {
     "name": "stdout",
     "output_type": "stream",
     "text": [
      "1\n",
      "2\n",
      "3\n",
      "4\n",
      "5\n",
      "6\n",
      "7\n",
      "8\n",
      "9\n",
      "10\n",
      "11\n",
      "12\n"
     ]
    }
   ],
   "source": [
    "for i in np.nditer(arr):\n",
    "    print(i)"
   ]
  },
  {
   "cell_type": "code",
   "execution_count": 154,
   "id": "76c8d88e",
   "metadata": {},
   "outputs": [
    {
     "name": "stdout",
     "output_type": "stream",
     "text": [
      "1\n",
      "2\n",
      "3\n",
      "4\n",
      "5\n",
      "6\n",
      "7\n",
      "8\n",
      "9\n",
      "10\n",
      "11\n",
      "12\n",
      "1\n",
      "2\n",
      "3\n",
      "4\n",
      "5\n",
      "6\n",
      "7\n",
      "8\n",
      "9\n",
      "10\n",
      "11\n",
      "12\n"
     ]
    }
   ],
   "source": [
    "arr = np.array([[[1,2,3,4,5,6],[7,8,9,10,11,12]],[[1,2,3,4,5,6],[7,8,9,10,11,12]]])\n",
    "for i in np.nditer(arr):\n",
    "    print(i)"
   ]
  },
  {
   "cell_type": "code",
   "execution_count": 155,
   "id": "26bd84bd",
   "metadata": {},
   "outputs": [
    {
     "data": {
      "text/plain": [
       "<numpy.nditer at 0x18c0b24b5d0>"
      ]
     },
     "execution_count": 155,
     "metadata": {},
     "output_type": "execute_result"
    }
   ],
   "source": [
    "a = np.nditer(arr)\n",
    "a"
   ]
  },
  {
   "cell_type": "code",
   "execution_count": 156,
   "id": "68401a1a",
   "metadata": {},
   "outputs": [
    {
     "data": {
      "text/plain": [
       "array(1)"
      ]
     },
     "execution_count": 156,
     "metadata": {},
     "output_type": "execute_result"
    }
   ],
   "source": [
    "next(a)"
   ]
  },
  {
   "cell_type": "code",
   "execution_count": 157,
   "id": "40126e8f",
   "metadata": {},
   "outputs": [
    {
     "data": {
      "text/plain": [
       "array(2)"
      ]
     },
     "execution_count": 157,
     "metadata": {},
     "output_type": "execute_result"
    }
   ],
   "source": [
    "next(a)"
   ]
  },
  {
   "cell_type": "code",
   "execution_count": 158,
   "id": "b27e1d6b",
   "metadata": {},
   "outputs": [
    {
     "data": {
      "text/plain": [
       "array(3)"
      ]
     },
     "execution_count": 158,
     "metadata": {},
     "output_type": "execute_result"
    }
   ],
   "source": [
    "next(a)\n"
   ]
  },
  {
   "cell_type": "code",
   "execution_count": 159,
   "id": "6addc68b",
   "metadata": {},
   "outputs": [
    {
     "data": {
      "text/plain": [
       "array(4)"
      ]
     },
     "execution_count": 159,
     "metadata": {},
     "output_type": "execute_result"
    }
   ],
   "source": [
    "next(a)"
   ]
  },
  {
   "cell_type": "code",
   "execution_count": 160,
   "id": "b38157a6",
   "metadata": {},
   "outputs": [
    {
     "data": {
      "text/plain": [
       "array(5)"
      ]
     },
     "execution_count": 160,
     "metadata": {},
     "output_type": "execute_result"
    }
   ],
   "source": [
    "next(a)"
   ]
  },
  {
   "cell_type": "code",
   "execution_count": 161,
   "id": "2df28b00",
   "metadata": {},
   "outputs": [
    {
     "data": {
      "text/plain": [
       "array(6)"
      ]
     },
     "execution_count": 161,
     "metadata": {},
     "output_type": "execute_result"
    }
   ],
   "source": [
    "next(a)"
   ]
  },
  {
   "cell_type": "code",
   "execution_count": 162,
   "id": "2712996e",
   "metadata": {},
   "outputs": [
    {
     "data": {
      "text/plain": [
       "array(7)"
      ]
     },
     "execution_count": 162,
     "metadata": {},
     "output_type": "execute_result"
    }
   ],
   "source": [
    "next(a)"
   ]
  },
  {
   "cell_type": "code",
   "execution_count": 163,
   "id": "52bd732f",
   "metadata": {},
   "outputs": [
    {
     "data": {
      "text/plain": [
       "array(8)"
      ]
     },
     "execution_count": 163,
     "metadata": {},
     "output_type": "execute_result"
    }
   ],
   "source": [
    "next(a)\n"
   ]
  },
  {
   "cell_type": "code",
   "execution_count": 164,
   "id": "f3ac6fa1",
   "metadata": {},
   "outputs": [
    {
     "data": {
      "text/plain": [
       "array(9)"
      ]
     },
     "execution_count": 164,
     "metadata": {},
     "output_type": "execute_result"
    }
   ],
   "source": [
    "next(a)"
   ]
  },
  {
   "cell_type": "code",
   "execution_count": 165,
   "id": "429333cd",
   "metadata": {},
   "outputs": [
    {
     "data": {
      "text/plain": [
       "array(10)"
      ]
     },
     "execution_count": 165,
     "metadata": {},
     "output_type": "execute_result"
    }
   ],
   "source": [
    "next(a)"
   ]
  },
  {
   "cell_type": "code",
   "execution_count": 166,
   "id": "55c4f289",
   "metadata": {},
   "outputs": [
    {
     "data": {
      "text/plain": [
       "array(11)"
      ]
     },
     "execution_count": 166,
     "metadata": {},
     "output_type": "execute_result"
    }
   ],
   "source": [
    "next(a)"
   ]
  },
  {
   "cell_type": "code",
   "execution_count": 167,
   "id": "06688ce6",
   "metadata": {},
   "outputs": [
    {
     "data": {
      "text/plain": [
       "array(12)"
      ]
     },
     "execution_count": 167,
     "metadata": {},
     "output_type": "execute_result"
    }
   ],
   "source": [
    "next(a)"
   ]
  },
  {
   "cell_type": "code",
   "execution_count": 168,
   "id": "a6e5f1e3",
   "metadata": {},
   "outputs": [
    {
     "data": {
      "text/plain": [
       "array(1)"
      ]
     },
     "execution_count": 168,
     "metadata": {},
     "output_type": "execute_result"
    }
   ],
   "source": [
    "next(a)"
   ]
  },
  {
   "cell_type": "code",
   "execution_count": 169,
   "id": "0f71f809",
   "metadata": {},
   "outputs": [
    {
     "data": {
      "text/plain": [
       "array(2)"
      ]
     },
     "execution_count": 169,
     "metadata": {},
     "output_type": "execute_result"
    }
   ],
   "source": [
    "next(a)"
   ]
  },
  {
   "cell_type": "code",
   "execution_count": 170,
   "id": "cd560eaf",
   "metadata": {},
   "outputs": [
    {
     "data": {
      "text/plain": [
       "array(3)"
      ]
     },
     "execution_count": 170,
     "metadata": {},
     "output_type": "execute_result"
    }
   ],
   "source": [
    "next(a)"
   ]
  },
  {
   "cell_type": "code",
   "execution_count": 171,
   "id": "c02782f2",
   "metadata": {},
   "outputs": [
    {
     "data": {
      "text/plain": [
       "array(4)"
      ]
     },
     "execution_count": 171,
     "metadata": {},
     "output_type": "execute_result"
    }
   ],
   "source": [
    "next(a)"
   ]
  },
  {
   "cell_type": "code",
   "execution_count": 172,
   "id": "17503209",
   "metadata": {},
   "outputs": [
    {
     "data": {
      "text/plain": [
       "array(5)"
      ]
     },
     "execution_count": 172,
     "metadata": {},
     "output_type": "execute_result"
    }
   ],
   "source": [
    "next(a)"
   ]
  },
  {
   "cell_type": "code",
   "execution_count": 173,
   "id": "9ee68fef",
   "metadata": {},
   "outputs": [
    {
     "data": {
      "text/plain": [
       "array(6)"
      ]
     },
     "execution_count": 173,
     "metadata": {},
     "output_type": "execute_result"
    }
   ],
   "source": [
    "next(a)"
   ]
  },
  {
   "cell_type": "code",
   "execution_count": 174,
   "id": "f16868b4",
   "metadata": {},
   "outputs": [
    {
     "data": {
      "text/plain": [
       "array(7)"
      ]
     },
     "execution_count": 174,
     "metadata": {},
     "output_type": "execute_result"
    }
   ],
   "source": [
    "next(a)"
   ]
  },
  {
   "cell_type": "code",
   "execution_count": 175,
   "id": "7e889c96",
   "metadata": {},
   "outputs": [
    {
     "data": {
      "text/plain": [
       "array(8)"
      ]
     },
     "execution_count": 175,
     "metadata": {},
     "output_type": "execute_result"
    }
   ],
   "source": [
    "next(a)"
   ]
  },
  {
   "cell_type": "code",
   "execution_count": 176,
   "id": "7d7bea08",
   "metadata": {},
   "outputs": [
    {
     "data": {
      "text/plain": [
       "array(9)"
      ]
     },
     "execution_count": 176,
     "metadata": {},
     "output_type": "execute_result"
    }
   ],
   "source": [
    "next(a)"
   ]
  },
  {
   "cell_type": "code",
   "execution_count": 177,
   "id": "1760a3bf",
   "metadata": {},
   "outputs": [
    {
     "data": {
      "text/plain": [
       "array(10)"
      ]
     },
     "execution_count": 177,
     "metadata": {},
     "output_type": "execute_result"
    }
   ],
   "source": [
    "next(a)"
   ]
  },
  {
   "cell_type": "code",
   "execution_count": 178,
   "id": "8f813879",
   "metadata": {},
   "outputs": [
    {
     "data": {
      "text/plain": [
       "array(11)"
      ]
     },
     "execution_count": 178,
     "metadata": {},
     "output_type": "execute_result"
    }
   ],
   "source": [
    "next(a)"
   ]
  },
  {
   "cell_type": "code",
   "execution_count": 179,
   "id": "6bc584f9",
   "metadata": {},
   "outputs": [
    {
     "data": {
      "text/plain": [
       "array(12)"
      ]
     },
     "execution_count": 179,
     "metadata": {},
     "output_type": "execute_result"
    }
   ],
   "source": [
    "next(a)"
   ]
  },
  {
   "cell_type": "code",
   "execution_count": 180,
   "id": "67ea9bab",
   "metadata": {},
   "outputs": [
    {
     "ename": "StopIteration",
     "evalue": "",
     "output_type": "error",
     "traceback": [
      "\u001b[1;31m---------------------------------------------------------------------------\u001b[0m",
      "\u001b[1;31mStopIteration\u001b[0m                             Traceback (most recent call last)",
      "Cell \u001b[1;32mIn [180], line 1\u001b[0m\n\u001b[1;32m----> 1\u001b[0m \u001b[38;5;28;43mnext\u001b[39;49m\u001b[43m(\u001b[49m\u001b[43ma\u001b[49m\u001b[43m)\u001b[49m\n",
      "\u001b[1;31mStopIteration\u001b[0m: "
     ]
    }
   ],
   "source": [
    "next(a)"
   ]
  },
  {
   "cell_type": "markdown",
   "id": "6f2de1cc",
   "metadata": {},
   "source": [
    "# 3.np.ndenumerate()"
   ]
  },
  {
   "cell_type": "code",
   "execution_count": 181,
   "id": "f7dc7a81",
   "metadata": {},
   "outputs": [
    {
     "name": "stdout",
     "output_type": "stream",
     "text": [
      "0 1\n",
      "1 2\n",
      "2 3\n"
     ]
    }
   ],
   "source": [
    "for i,j in enumerate([1,2,3]):\n",
    "    print(i,j)"
   ]
  },
  {
   "cell_type": "code",
   "execution_count": 182,
   "id": "8ee4cf72",
   "metadata": {},
   "outputs": [
    {
     "data": {
      "text/plain": [
       "array([[[ 1,  2,  3,  4,  5,  6],\n",
       "        [ 7,  8,  9, 10, 11, 12]],\n",
       "\n",
       "       [[ 1,  2,  3,  4,  5,  6],\n",
       "        [ 7,  8,  9, 10, 11, 12]]])"
      ]
     },
     "execution_count": 182,
     "metadata": {},
     "output_type": "execute_result"
    }
   ],
   "source": [
    "arr"
   ]
  },
  {
   "cell_type": "code",
   "execution_count": 184,
   "id": "6914b254",
   "metadata": {},
   "outputs": [
    {
     "name": "stdout",
     "output_type": "stream",
     "text": [
      "0 [[ 1  2  3  4  5  6]\n",
      " [ 7  8  9 10 11 12]]\n",
      "1 [[ 1  2  3  4  5  6]\n",
      " [ 7  8  9 10 11 12]]\n"
     ]
    }
   ],
   "source": [
    "for i,j in enumerate(arr):\n",
    "    print(i,j)"
   ]
  },
  {
   "cell_type": "code",
   "execution_count": null,
   "id": "26d562d7",
   "metadata": {},
   "outputs": [],
   "source": []
  },
  {
   "cell_type": "code",
   "execution_count": 185,
   "id": "2ce047f0",
   "metadata": {},
   "outputs": [
    {
     "data": {
      "text/plain": [
       "array([[[ 1,  2,  3,  4,  5,  6],\n",
       "        [ 7,  8,  9, 10, 11, 12]],\n",
       "\n",
       "       [[ 1,  2,  3,  4,  5,  6],\n",
       "        [ 7,  8,  9, 10, 11, 12]]])"
      ]
     },
     "execution_count": 185,
     "metadata": {},
     "output_type": "execute_result"
    }
   ],
   "source": [
    "arr"
   ]
  },
  {
   "cell_type": "code",
   "execution_count": 186,
   "id": "495d4ca5",
   "metadata": {},
   "outputs": [
    {
     "name": "stdout",
     "output_type": "stream",
     "text": [
      "(0, 0, 0) 1\n",
      "(0, 0, 1) 2\n",
      "(0, 0, 2) 3\n",
      "(0, 0, 3) 4\n",
      "(0, 0, 4) 5\n",
      "(0, 0, 5) 6\n",
      "(0, 1, 0) 7\n",
      "(0, 1, 1) 8\n",
      "(0, 1, 2) 9\n",
      "(0, 1, 3) 10\n",
      "(0, 1, 4) 11\n",
      "(0, 1, 5) 12\n",
      "(1, 0, 0) 1\n",
      "(1, 0, 1) 2\n",
      "(1, 0, 2) 3\n",
      "(1, 0, 3) 4\n",
      "(1, 0, 4) 5\n",
      "(1, 0, 5) 6\n",
      "(1, 1, 0) 7\n",
      "(1, 1, 1) 8\n",
      "(1, 1, 2) 9\n",
      "(1, 1, 3) 10\n",
      "(1, 1, 4) 11\n",
      "(1, 1, 5) 12\n"
     ]
    }
   ],
   "source": [
    "for i,j in np.ndenumerate(arr):\n",
    "    print(i,j)"
   ]
  },
  {
   "cell_type": "markdown",
   "id": "96281738",
   "metadata": {},
   "source": [
    "# 4.zeros()\n",
    "- np.zeros(shape,dtype=float)\n",
    "- Return an array of zeros only\n",
    "- Weight initialization\n",
    "- Target Column creation"
   ]
  },
  {
   "cell_type": "code",
   "execution_count": 187,
   "id": "5ec88e83",
   "metadata": {},
   "outputs": [
    {
     "data": {
      "text/plain": [
       "array([0., 0., 0., 0., 0., 0., 0., 0., 0., 0.])"
      ]
     },
     "execution_count": 187,
     "metadata": {},
     "output_type": "execute_result"
    }
   ],
   "source": [
    "np.zeros(10)"
   ]
  },
  {
   "cell_type": "code",
   "execution_count": 188,
   "id": "f6f7521e",
   "metadata": {},
   "outputs": [
    {
     "data": {
      "text/plain": [
       "array([0, 0, 0, 0, 0, 0, 0, 0, 0, 0])"
      ]
     },
     "execution_count": 188,
     "metadata": {},
     "output_type": "execute_result"
    }
   ],
   "source": [
    "np.zeros(10,dtype=int)"
   ]
  },
  {
   "cell_type": "code",
   "execution_count": 189,
   "id": "ee11718e",
   "metadata": {},
   "outputs": [
    {
     "data": {
      "text/plain": [
       "array([0, 0, 0, 0, 0, 0, 0, 0, 0, 0, 0, 0, 0, 0, 0, 0, 0, 0, 0, 0, 0, 0,\n",
       "       0, 0, 0, 0, 0, 0, 0, 0, 0, 0, 0, 0, 0, 0, 0, 0, 0, 0, 0, 0, 0, 0,\n",
       "       0, 0, 0, 0, 0, 0, 0, 0, 0, 0, 0, 0, 0, 0, 0, 0, 0, 0, 0, 0, 0, 0,\n",
       "       0, 0, 0, 0, 0, 0, 0, 0, 0, 0, 0, 0, 0, 0, 0, 0, 0, 0, 0, 0, 0, 0,\n",
       "       0, 0, 0, 0, 0, 0, 0, 0, 0, 0, 0, 0])"
      ]
     },
     "execution_count": 189,
     "metadata": {},
     "output_type": "execute_result"
    }
   ],
   "source": [
    "np.zeros(100,dtype=int)"
   ]
  },
  {
   "cell_type": "code",
   "execution_count": 190,
   "id": "ba5af518",
   "metadata": {},
   "outputs": [],
   "source": [
    "import pandas as pd"
   ]
  },
  {
   "cell_type": "code",
   "execution_count": 191,
   "id": "079d7bb4",
   "metadata": {},
   "outputs": [
    {
     "data": {
      "text/html": [
       "<div>\n",
       "<style scoped>\n",
       "    .dataframe tbody tr th:only-of-type {\n",
       "        vertical-align: middle;\n",
       "    }\n",
       "\n",
       "    .dataframe tbody tr th {\n",
       "        vertical-align: top;\n",
       "    }\n",
       "\n",
       "    .dataframe thead th {\n",
       "        text-align: right;\n",
       "    }\n",
       "</style>\n",
       "<table border=\"1\" class=\"dataframe\">\n",
       "  <thead>\n",
       "    <tr style=\"text-align: right;\">\n",
       "      <th></th>\n",
       "      <th>Zeros_Column</th>\n",
       "    </tr>\n",
       "  </thead>\n",
       "  <tbody>\n",
       "    <tr>\n",
       "      <th>0</th>\n",
       "      <td>0</td>\n",
       "    </tr>\n",
       "    <tr>\n",
       "      <th>1</th>\n",
       "      <td>0</td>\n",
       "    </tr>\n",
       "    <tr>\n",
       "      <th>2</th>\n",
       "      <td>0</td>\n",
       "    </tr>\n",
       "    <tr>\n",
       "      <th>3</th>\n",
       "      <td>0</td>\n",
       "    </tr>\n",
       "    <tr>\n",
       "      <th>4</th>\n",
       "      <td>0</td>\n",
       "    </tr>\n",
       "    <tr>\n",
       "      <th>5</th>\n",
       "      <td>0</td>\n",
       "    </tr>\n",
       "    <tr>\n",
       "      <th>6</th>\n",
       "      <td>0</td>\n",
       "    </tr>\n",
       "    <tr>\n",
       "      <th>7</th>\n",
       "      <td>0</td>\n",
       "    </tr>\n",
       "    <tr>\n",
       "      <th>8</th>\n",
       "      <td>0</td>\n",
       "    </tr>\n",
       "    <tr>\n",
       "      <th>9</th>\n",
       "      <td>0</td>\n",
       "    </tr>\n",
       "  </tbody>\n",
       "</table>\n",
       "</div>"
      ],
      "text/plain": [
       "   Zeros_Column\n",
       "0             0\n",
       "1             0\n",
       "2             0\n",
       "3             0\n",
       "4             0\n",
       "5             0\n",
       "6             0\n",
       "7             0\n",
       "8             0\n",
       "9             0"
      ]
     },
     "execution_count": 191,
     "metadata": {},
     "output_type": "execute_result"
    }
   ],
   "source": [
    "df = pd.DataFrame(\n",
    "    {\n",
    "        \"Zeros_Column\" : np.zeros(10,int)\n",
    "    \n",
    "    }\n",
    ")\n",
    "df"
   ]
  },
  {
   "cell_type": "code",
   "execution_count": 193,
   "id": "4744f286",
   "metadata": {},
   "outputs": [
    {
     "data": {
      "text/plain": [
       "array([[0, 0, 0, 0, 0],\n",
       "       [0, 0, 0, 0, 0],\n",
       "       [0, 0, 0, 0, 0]])"
      ]
     },
     "execution_count": 193,
     "metadata": {},
     "output_type": "execute_result"
    }
   ],
   "source": [
    "arr = np.zeros((3,5),int)\n",
    "arr"
   ]
  },
  {
   "cell_type": "code",
   "execution_count": 195,
   "id": "0f3835e7",
   "metadata": {},
   "outputs": [
    {
     "data": {
      "text/html": [
       "<div>\n",
       "<style scoped>\n",
       "    .dataframe tbody tr th:only-of-type {\n",
       "        vertical-align: middle;\n",
       "    }\n",
       "\n",
       "    .dataframe tbody tr th {\n",
       "        vertical-align: top;\n",
       "    }\n",
       "\n",
       "    .dataframe thead th {\n",
       "        text-align: right;\n",
       "    }\n",
       "</style>\n",
       "<table border=\"1\" class=\"dataframe\">\n",
       "  <thead>\n",
       "    <tr style=\"text-align: right;\">\n",
       "      <th></th>\n",
       "      <th>0</th>\n",
       "      <th>1</th>\n",
       "      <th>2</th>\n",
       "      <th>3</th>\n",
       "      <th>4</th>\n",
       "    </tr>\n",
       "  </thead>\n",
       "  <tbody>\n",
       "    <tr>\n",
       "      <th>0</th>\n",
       "      <td>0</td>\n",
       "      <td>0</td>\n",
       "      <td>0</td>\n",
       "      <td>0</td>\n",
       "      <td>0</td>\n",
       "    </tr>\n",
       "    <tr>\n",
       "      <th>1</th>\n",
       "      <td>0</td>\n",
       "      <td>0</td>\n",
       "      <td>0</td>\n",
       "      <td>0</td>\n",
       "      <td>0</td>\n",
       "    </tr>\n",
       "    <tr>\n",
       "      <th>2</th>\n",
       "      <td>0</td>\n",
       "      <td>0</td>\n",
       "      <td>0</td>\n",
       "      <td>0</td>\n",
       "      <td>0</td>\n",
       "    </tr>\n",
       "  </tbody>\n",
       "</table>\n",
       "</div>"
      ],
      "text/plain": [
       "   0  1  2  3  4\n",
       "0  0  0  0  0  0\n",
       "1  0  0  0  0  0\n",
       "2  0  0  0  0  0"
      ]
     },
     "execution_count": 195,
     "metadata": {},
     "output_type": "execute_result"
    }
   ],
   "source": [
    "df = pd.DataFrame(arr)\n",
    "df"
   ]
  },
  {
   "cell_type": "markdown",
   "id": "f3175592",
   "metadata": {},
   "source": [
    "# 5.ones()\n",
    "- np.ones(shape,dtype=float)\n",
    "- return an array of ones only"
   ]
  },
  {
   "cell_type": "code",
   "execution_count": 198,
   "id": "f396ad17",
   "metadata": {},
   "outputs": [
    {
     "data": {
      "text/plain": [
       "array([1., 1., 1., 1., 1., 1., 1., 1., 1., 1.])"
      ]
     },
     "execution_count": 198,
     "metadata": {},
     "output_type": "execute_result"
    }
   ],
   "source": [
    "arr = np.ones(10,dtype=float)\n",
    "arr"
   ]
  },
  {
   "cell_type": "code",
   "execution_count": 199,
   "id": "1e7a4c03",
   "metadata": {},
   "outputs": [
    {
     "data": {
      "text/plain": [
       "array([1, 1, 1, 1, 1, 1, 1, 1, 1, 1])"
      ]
     },
     "execution_count": 199,
     "metadata": {},
     "output_type": "execute_result"
    }
   ],
   "source": [
    "arr = np.ones(10,dtype=int)\n",
    "arr"
   ]
  },
  {
   "cell_type": "code",
   "execution_count": 202,
   "id": "ddc98115",
   "metadata": {},
   "outputs": [
    {
     "data": {
      "text/html": [
       "<div>\n",
       "<style scoped>\n",
       "    .dataframe tbody tr th:only-of-type {\n",
       "        vertical-align: middle;\n",
       "    }\n",
       "\n",
       "    .dataframe tbody tr th {\n",
       "        vertical-align: top;\n",
       "    }\n",
       "\n",
       "    .dataframe thead th {\n",
       "        text-align: right;\n",
       "    }\n",
       "</style>\n",
       "<table border=\"1\" class=\"dataframe\">\n",
       "  <thead>\n",
       "    <tr style=\"text-align: right;\">\n",
       "      <th></th>\n",
       "      <th>Zeros_column</th>\n",
       "      <th>Ones_column</th>\n",
       "    </tr>\n",
       "  </thead>\n",
       "  <tbody>\n",
       "    <tr>\n",
       "      <th>0</th>\n",
       "      <td>0</td>\n",
       "      <td>1</td>\n",
       "    </tr>\n",
       "    <tr>\n",
       "      <th>1</th>\n",
       "      <td>0</td>\n",
       "      <td>1</td>\n",
       "    </tr>\n",
       "    <tr>\n",
       "      <th>2</th>\n",
       "      <td>0</td>\n",
       "      <td>1</td>\n",
       "    </tr>\n",
       "    <tr>\n",
       "      <th>3</th>\n",
       "      <td>0</td>\n",
       "      <td>1</td>\n",
       "    </tr>\n",
       "    <tr>\n",
       "      <th>4</th>\n",
       "      <td>0</td>\n",
       "      <td>1</td>\n",
       "    </tr>\n",
       "    <tr>\n",
       "      <th>5</th>\n",
       "      <td>0</td>\n",
       "      <td>1</td>\n",
       "    </tr>\n",
       "    <tr>\n",
       "      <th>6</th>\n",
       "      <td>0</td>\n",
       "      <td>1</td>\n",
       "    </tr>\n",
       "    <tr>\n",
       "      <th>7</th>\n",
       "      <td>0</td>\n",
       "      <td>1</td>\n",
       "    </tr>\n",
       "    <tr>\n",
       "      <th>8</th>\n",
       "      <td>0</td>\n",
       "      <td>1</td>\n",
       "    </tr>\n",
       "    <tr>\n",
       "      <th>9</th>\n",
       "      <td>0</td>\n",
       "      <td>1</td>\n",
       "    </tr>\n",
       "  </tbody>\n",
       "</table>\n",
       "</div>"
      ],
      "text/plain": [
       "   Zeros_column  Ones_column\n",
       "0             0            1\n",
       "1             0            1\n",
       "2             0            1\n",
       "3             0            1\n",
       "4             0            1\n",
       "5             0            1\n",
       "6             0            1\n",
       "7             0            1\n",
       "8             0            1\n",
       "9             0            1"
      ]
     },
     "execution_count": 202,
     "metadata": {},
     "output_type": "execute_result"
    }
   ],
   "source": [
    "df = pd.DataFrame(\n",
    "    {\n",
    "        \"Zeros_column\" : np.zeros(10,int),\n",
    "        \"Ones_column\"  : np.ones(10,int)\n",
    "    }\n",
    ")\n",
    "df"
   ]
  },
  {
   "cell_type": "code",
   "execution_count": 203,
   "id": "27417384",
   "metadata": {},
   "outputs": [
    {
     "data": {
      "text/html": [
       "<div>\n",
       "<style scoped>\n",
       "    .dataframe tbody tr th:only-of-type {\n",
       "        vertical-align: middle;\n",
       "    }\n",
       "\n",
       "    .dataframe tbody tr th {\n",
       "        vertical-align: top;\n",
       "    }\n",
       "\n",
       "    .dataframe thead th {\n",
       "        text-align: right;\n",
       "    }\n",
       "</style>\n",
       "<table border=\"1\" class=\"dataframe\">\n",
       "  <thead>\n",
       "    <tr style=\"text-align: right;\">\n",
       "      <th></th>\n",
       "      <th>0</th>\n",
       "      <th>1</th>\n",
       "      <th>2</th>\n",
       "      <th>3</th>\n",
       "      <th>4</th>\n",
       "    </tr>\n",
       "  </thead>\n",
       "  <tbody>\n",
       "    <tr>\n",
       "      <th>0</th>\n",
       "      <td>0</td>\n",
       "      <td>0</td>\n",
       "      <td>0</td>\n",
       "      <td>0</td>\n",
       "      <td>0</td>\n",
       "    </tr>\n",
       "    <tr>\n",
       "      <th>1</th>\n",
       "      <td>0</td>\n",
       "      <td>0</td>\n",
       "      <td>0</td>\n",
       "      <td>0</td>\n",
       "      <td>0</td>\n",
       "    </tr>\n",
       "    <tr>\n",
       "      <th>2</th>\n",
       "      <td>0</td>\n",
       "      <td>0</td>\n",
       "      <td>0</td>\n",
       "      <td>0</td>\n",
       "      <td>0</td>\n",
       "    </tr>\n",
       "  </tbody>\n",
       "</table>\n",
       "</div>"
      ],
      "text/plain": [
       "   0  1  2  3  4\n",
       "0  0  0  0  0  0\n",
       "1  0  0  0  0  0\n",
       "2  0  0  0  0  0"
      ]
     },
     "execution_count": 203,
     "metadata": {},
     "output_type": "execute_result"
    }
   ],
   "source": [
    "arr = np.zeros((3,5),int)\n",
    "pd.DataFrame(arr)"
   ]
  }
 ],
 "metadata": {
  "kernelspec": {
   "display_name": "Python 3 (ipykernel)",
   "language": "python",
   "name": "python3"
  },
  "language_info": {
   "codemirror_mode": {
    "name": "ipython",
    "version": 3
   },
   "file_extension": ".py",
   "mimetype": "text/x-python",
   "name": "python",
   "nbconvert_exporter": "python",
   "pygments_lexer": "ipython3",
   "version": "3.12.4"
  }
 },
 "nbformat": 4,
 "nbformat_minor": 5
}
