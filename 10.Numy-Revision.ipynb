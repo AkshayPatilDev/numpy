{
 "cells": [
  {
   "cell_type": "markdown",
   "id": "884e0d26",
   "metadata": {},
   "source": [
    "# Numpy-Revision\n",
    "- 1.np.array()\n",
    "- 2.array.ndim\n",
    "- 3.array.shape\n",
    "- 4.array.reshape()\n",
    "- 5.array.copy()\n",
    "- 6.np.nditer()\n",
    "- 7.np.ndenumerate()\n",
    "- 8.np.zeros()\n",
    "- 9.np.ones()\n",
    "- 10.np.arange()\n",
    "- 11.np.linspace()\n",
    "- 12.np.eye()\n",
    "- 13.np.identity()\n",
    "- 14.np.random()\n",
    "    - A.np.random.rand()\n",
    "    - B.np.random.randint()\n",
    "    - C.np.random.randn()\n",
    "    - D.np.random.ranf()\n",
    "- 15.np.sort()\n",
    "- 16.np.where()\n",
    "- 17.np.full()\n",
    "\n",
    "  "
   ]
  },
  {
   "cell_type": "markdown",
   "id": "c942d407",
   "metadata": {},
   "source": [
    "# Join Arrays\n",
    "- 1.np.append()\n",
    "- 2.np.concatenate()"
   ]
  },
  {
   "cell_type": "markdown",
   "id": "6f244997",
   "metadata": {},
   "source": [
    "# Numerical Operations\n",
    "- 1.np.ceil()\n",
    "- 2.np.floor()\n",
    "- 3.np.around()\n",
    "- 4.np.add()\n",
    "- 5.np.multiply()\n",
    "- 6.np.dot()\n",
    "- 7.np.sqrt()\n",
    "- 8.np.cbrt()\n",
    "- 9.np.sum()"
   ]
  },
  {
   "cell_type": "markdown",
   "id": "7f425960",
   "metadata": {},
   "source": [
    "# Statistics\n",
    "- 1.np.mean()\n",
    "- 2.np.median()\n",
    "- 3.form scipy import stats\n",
    "    - stats.mode(array)\n",
    "- 4.np.std()\n",
    "- 5.np.min()\n",
    "- 6.np.max()"
   ]
  },
  {
   "cell_type": "markdown",
   "id": "c89d2eb6",
   "metadata": {},
   "source": [
    "# Trigonometry\n",
    "- 1.np.sin()\n",
    "- 2.np.cos()\n",
    "- 3.np.tan()\n",
    "- 4.np.deg2rad()\n",
    "- 5.np.red2deg()\n",
    "- 6.np.pi"
   ]
  },
  {
   "cell_type": "markdown",
   "id": "9643d69b",
   "metadata": {},
   "source": [
    "# Log\n",
    "- 1.np.log()\n",
    "- 2.np.log2()\n",
    "- 3.np.log10()"
   ]
  },
  {
   "cell_type": "markdown",
   "id": "fd934f8d",
   "metadata": {},
   "source": [
    "# Linear Algebra\n",
    "- 1.np.linalg.solve()\n",
    "- 2.np.linalg.inv()"
   ]
  }
 ],
 "metadata": {
  "kernelspec": {
   "display_name": "Python 3 (ipykernel)",
   "language": "python",
   "name": "python3"
  },
  "language_info": {
   "codemirror_mode": {
    "name": "ipython",
    "version": 3
   },
   "file_extension": ".py",
   "mimetype": "text/x-python",
   "name": "python",
   "nbconvert_exporter": "python",
   "pygments_lexer": "ipython3",
   "version": "3.12.4"
  }
 },
 "nbformat": 4,
 "nbformat_minor": 5
}
