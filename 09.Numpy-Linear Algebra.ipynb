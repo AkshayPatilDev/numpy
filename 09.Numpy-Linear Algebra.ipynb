{
 "cells": [
  {
   "cell_type": "markdown",
   "id": "79ef6fe9",
   "metadata": {},
   "source": [
    "# Numpy-Linear Algebra"
   ]
  },
  {
   "cell_type": "raw",
   "id": "a1b93a95",
   "metadata": {},
   "source": [
    "2x + 3y = 25\n",
    "x + 2y =30"
   ]
  },
  {
   "cell_type": "raw",
   "id": "8962c48a",
   "metadata": {},
   "source": [
    "3x + 2y = 15\n",
    "4x + 6y = 30\n",
    "x = ?\n",
    "y = ?"
   ]
  },
  {
   "cell_type": "raw",
   "id": "868b01dd",
   "metadata": {},
   "source": [
    "[3,2]\n",
    "[4,6] = [15,30]"
   ]
  },
  {
   "cell_type": "code",
   "execution_count": 2,
   "id": "f8e04963",
   "metadata": {},
   "outputs": [],
   "source": [
    "import numpy as np"
   ]
  },
  {
   "cell_type": "code",
   "execution_count": 3,
   "id": "5e531644",
   "metadata": {},
   "outputs": [
    {
     "name": "stdout",
     "output_type": "stream",
     "text": [
      "Array 1 --> \n",
      "[[3 2]\n",
      " [4 6]]\n",
      "Array 2 --> \n",
      "[15 30]\n"
     ]
    }
   ],
   "source": [
    "arr1 = np.array([[3,2],[4,6]])\n",
    "print(f\"Array 1 --> \\n{arr1}\")\n",
    "arr2 = np.array([15,30])\n",
    "print(f\"Array 2 --> \\n{arr2}\")"
   ]
  },
  {
   "cell_type": "code",
   "execution_count": 4,
   "id": "e5caa7e0",
   "metadata": {},
   "outputs": [
    {
     "name": "stdout",
     "output_type": "stream",
     "text": [
      "Result --> [3. 3.]\n"
     ]
    }
   ],
   "source": [
    "res = np.linalg.solve(arr1,arr2)\n",
    "print(f\"Result --> {res}\")"
   ]
  },
  {
   "cell_type": "raw",
   "id": "1eeab2b5",
   "metadata": {},
   "source": [
    "3x + 5y + 10z = 20\n",
    "4x + 7y + 13z = 30\n",
    "2x + 17y + 3z = 40"
   ]
  },
  {
   "cell_type": "code",
   "execution_count": 5,
   "id": "5a8d05dc",
   "metadata": {},
   "outputs": [
    {
     "name": "stdout",
     "output_type": "stream",
     "text": [
      "Array 1 --> \n",
      "[[ 3  5 10]\n",
      " [ 4  7 13]\n",
      " [ 2 17  3]]\n",
      "Array 2 --> \n",
      "[20 30 40]\n"
     ]
    }
   ],
   "source": [
    "arr1 = np.array([[3,5,10],[4,7,13],[2,17,3]])\n",
    "print(f\"Array 1 --> \\n{arr1}\")\n",
    "arr2 = np.array([20,30,40])\n",
    "print(f\"Array 2 --> \\n{arr2}\")"
   ]
  },
  {
   "cell_type": "code",
   "execution_count": 7,
   "id": "8f433cff",
   "metadata": {},
   "outputs": [
    {
     "name": "stdout",
     "output_type": "stream",
     "text": [
      "Result --> [ 45.  -1. -11.]\n"
     ]
    }
   ],
   "source": [
    "res = np.linalg.solve(arr1,arr2)\n",
    "print(f\"Result --> {res}\")"
   ]
  },
  {
   "cell_type": "code",
   "execution_count": 8,
   "id": "e335edd5",
   "metadata": {},
   "outputs": [],
   "source": [
    "x = 45\n",
    "y = -1\n",
    "z = -11"
   ]
  },
  {
   "cell_type": "code",
   "execution_count": 9,
   "id": "ad7d7129",
   "metadata": {},
   "outputs": [
    {
     "data": {
      "text/plain": [
       "20"
      ]
     },
     "execution_count": 9,
     "metadata": {},
     "output_type": "execute_result"
    }
   ],
   "source": [
    "3*45 + 5*(-1) + 10*(-11)"
   ]
  },
  {
   "cell_type": "code",
   "execution_count": 11,
   "id": "9cf75771",
   "metadata": {},
   "outputs": [
    {
     "data": {
      "text/plain": [
       "20"
      ]
     },
     "execution_count": 11,
     "metadata": {},
     "output_type": "execute_result"
    }
   ],
   "source": [
    "3*x + 5*y + 10*z"
   ]
  },
  {
   "cell_type": "code",
   "execution_count": 12,
   "id": "5c8aac9e",
   "metadata": {},
   "outputs": [
    {
     "data": {
      "text/plain": [
       "30"
      ]
     },
     "execution_count": 12,
     "metadata": {},
     "output_type": "execute_result"
    }
   ],
   "source": [
    "4*x + 7*y + 13*z\n"
   ]
  },
  {
   "cell_type": "code",
   "execution_count": 13,
   "id": "e265c761",
   "metadata": {},
   "outputs": [
    {
     "data": {
      "text/plain": [
       "40"
      ]
     },
     "execution_count": 13,
     "metadata": {},
     "output_type": "execute_result"
    }
   ],
   "source": [
    "2*x + 17*y + 3*z"
   ]
  },
  {
   "cell_type": "markdown",
   "id": "73b6c4d2",
   "metadata": {},
   "source": [
    "# Inverse of Matrix"
   ]
  },
  {
   "cell_type": "code",
   "execution_count": 14,
   "id": "6fda600d",
   "metadata": {},
   "outputs": [
    {
     "data": {
      "text/plain": [
       "[[1, 2], [3, 4]]"
      ]
     },
     "execution_count": 14,
     "metadata": {},
     "output_type": "execute_result"
    }
   ],
   "source": [
    "[\n",
    "    [1,2],\n",
    "    [3,4]\n",
    "]"
   ]
  },
  {
   "cell_type": "code",
   "execution_count": 16,
   "id": "18ee6a75",
   "metadata": {},
   "outputs": [
    {
     "data": {
      "text/plain": [
       "array([[1, 2],\n",
       "       [3, 4]])"
      ]
     },
     "execution_count": 16,
     "metadata": {},
     "output_type": "execute_result"
    }
   ],
   "source": [
    "array1 = np.array([\n",
    "    [1,2],\n",
    "    [3,4]\n",
    "])\n",
    "array1"
   ]
  },
  {
   "cell_type": "code",
   "execution_count": 18,
   "id": "7d3dbe4a",
   "metadata": {},
   "outputs": [
    {
     "data": {
      "text/plain": [
       "array([[-2. ,  1. ],\n",
       "       [ 1.5, -0.5]])"
      ]
     },
     "execution_count": 18,
     "metadata": {},
     "output_type": "execute_result"
    }
   ],
   "source": [
    "np.linalg.inv(array1)"
   ]
  },
  {
   "cell_type": "markdown",
   "id": "3317e06a",
   "metadata": {},
   "source": [
    "# Copy of an Array"
   ]
  },
  {
   "cell_type": "code",
   "execution_count": 19,
   "id": "01061cd6",
   "metadata": {},
   "outputs": [
    {
     "data": {
      "text/plain": [
       "array([[ 3,  5, 10],\n",
       "       [ 4,  7, 13],\n",
       "       [ 2, 17,  3]])"
      ]
     },
     "execution_count": 19,
     "metadata": {},
     "output_type": "execute_result"
    }
   ],
   "source": [
    "arr1"
   ]
  },
  {
   "cell_type": "code",
   "execution_count": 20,
   "id": "21d52b1f",
   "metadata": {},
   "outputs": [],
   "source": [
    "arr2 = arr1"
   ]
  },
  {
   "cell_type": "code",
   "execution_count": 21,
   "id": "24821f4d",
   "metadata": {},
   "outputs": [
    {
     "data": {
      "text/plain": [
       "array([[ 3,  5, 10],\n",
       "       [ 4,  7, 13],\n",
       "       [ 2, 17,  3]])"
      ]
     },
     "execution_count": 21,
     "metadata": {},
     "output_type": "execute_result"
    }
   ],
   "source": [
    "arr2"
   ]
  },
  {
   "cell_type": "code",
   "execution_count": 23,
   "id": "8027632e",
   "metadata": {},
   "outputs": [],
   "source": [
    "arr2[0][1] = 500"
   ]
  },
  {
   "cell_type": "code",
   "execution_count": 24,
   "id": "e1975ce8",
   "metadata": {},
   "outputs": [
    {
     "data": {
      "text/plain": [
       "array([[  3, 500,  10],\n",
       "       [  4,   7,  13],\n",
       "       [  2,  17,   3]])"
      ]
     },
     "execution_count": 24,
     "metadata": {},
     "output_type": "execute_result"
    }
   ],
   "source": [
    "arr1"
   ]
  },
  {
   "cell_type": "code",
   "execution_count": 25,
   "id": "c9f6e8db",
   "metadata": {},
   "outputs": [],
   "source": [
    "arr2 =arr1.copy()"
   ]
  },
  {
   "cell_type": "code",
   "execution_count": 26,
   "id": "8934ef98",
   "metadata": {},
   "outputs": [
    {
     "data": {
      "text/plain": [
       "array([[  3, 500,  10],\n",
       "       [  4,   7,  13],\n",
       "       [  2,  17,   3]])"
      ]
     },
     "execution_count": 26,
     "metadata": {},
     "output_type": "execute_result"
    }
   ],
   "source": [
    "arr2"
   ]
  },
  {
   "cell_type": "code",
   "execution_count": 27,
   "id": "c53963ba",
   "metadata": {},
   "outputs": [],
   "source": [
    "arr2[0][1] = 5"
   ]
  },
  {
   "cell_type": "code",
   "execution_count": 28,
   "id": "090f55b2",
   "metadata": {},
   "outputs": [
    {
     "data": {
      "text/plain": [
       "array([[  3, 500,  10],\n",
       "       [  4,   7,  13],\n",
       "       [  2,  17,   3]])"
      ]
     },
     "execution_count": 28,
     "metadata": {},
     "output_type": "execute_result"
    }
   ],
   "source": [
    "arr1"
   ]
  },
  {
   "cell_type": "code",
   "execution_count": 29,
   "id": "e251156e",
   "metadata": {},
   "outputs": [
    {
     "data": {
      "text/plain": [
       "array([[ 3,  5, 10],\n",
       "       [ 4,  7, 13],\n",
       "       [ 2, 17,  3]])"
      ]
     },
     "execution_count": 29,
     "metadata": {},
     "output_type": "execute_result"
    }
   ],
   "source": [
    "arr2"
   ]
  }
 ],
 "metadata": {
  "kernelspec": {
   "display_name": "Python 3 (ipykernel)",
   "language": "python",
   "name": "python3"
  },
  "language_info": {
   "codemirror_mode": {
    "name": "ipython",
    "version": 3
   },
   "file_extension": ".py",
   "mimetype": "text/x-python",
   "name": "python",
   "nbconvert_exporter": "python",
   "pygments_lexer": "ipython3",
   "version": "3.12.4"
  }
 },
 "nbformat": 4,
 "nbformat_minor": 5
}
