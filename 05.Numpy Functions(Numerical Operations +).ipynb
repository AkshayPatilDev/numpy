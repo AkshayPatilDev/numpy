{
 "cells": [
  {
   "cell_type": "markdown",
   "id": "68fb6e1a",
   "metadata": {},
   "source": [
    "# Numpy Functions"
   ]
  },
  {
   "cell_type": "markdown",
   "id": "143aea14",
   "metadata": {},
   "source": [
    "### 13.np.ceil()\n",
    "- 3.1 --> 4\n",
    "- 3.3 --> 4\n",
    "- 5.9 --> 6\n",
    "- 9.5 --> 10"
   ]
  },
  {
   "cell_type": "code",
   "execution_count": 1,
   "id": "af498330",
   "metadata": {},
   "outputs": [],
   "source": [
    "import numpy as np"
   ]
  },
  {
   "cell_type": "code",
   "execution_count": 2,
   "id": "ca475cec",
   "metadata": {},
   "outputs": [
    {
     "data": {
      "text/plain": [
       "4.0"
      ]
     },
     "execution_count": 2,
     "metadata": {},
     "output_type": "execute_result"
    }
   ],
   "source": [
    "np.ceil(3.5)"
   ]
  },
  {
   "cell_type": "code",
   "execution_count": 3,
   "id": "e7131885",
   "metadata": {},
   "outputs": [
    {
     "data": {
      "text/plain": [
       "4.0"
      ]
     },
     "execution_count": 3,
     "metadata": {},
     "output_type": "execute_result"
    }
   ],
   "source": [
    "np.ceil(3.9)"
   ]
  },
  {
   "cell_type": "code",
   "execution_count": 4,
   "id": "8eb01726",
   "metadata": {},
   "outputs": [
    {
     "data": {
      "text/plain": [
       "4.0"
      ]
     },
     "execution_count": 4,
     "metadata": {},
     "output_type": "execute_result"
    }
   ],
   "source": [
    "np.ceil(3.1)"
   ]
  },
  {
   "cell_type": "code",
   "execution_count": 5,
   "id": "81020100",
   "metadata": {},
   "outputs": [
    {
     "data": {
      "text/plain": [
       "6.0"
      ]
     },
     "execution_count": 5,
     "metadata": {},
     "output_type": "execute_result"
    }
   ],
   "source": [
    "np.ceil(5.9)"
   ]
  },
  {
   "cell_type": "code",
   "execution_count": 6,
   "id": "e80004b9",
   "metadata": {},
   "outputs": [
    {
     "data": {
      "text/plain": [
       "9.0"
      ]
     },
     "execution_count": 6,
     "metadata": {},
     "output_type": "execute_result"
    }
   ],
   "source": [
    "np.ceil(9.0)"
   ]
  },
  {
   "cell_type": "code",
   "execution_count": 8,
   "id": "45eb625c",
   "metadata": {},
   "outputs": [
    {
     "data": {
      "text/plain": [
       "array([1., 2., 3., 4., 5.])"
      ]
     },
     "execution_count": 8,
     "metadata": {},
     "output_type": "execute_result"
    }
   ],
   "source": [
    "np.ceil(np.array([1,2,3,4,5]))"
   ]
  },
  {
   "cell_type": "code",
   "execution_count": 9,
   "id": "bb5bc7e2",
   "metadata": {},
   "outputs": [
    {
     "data": {
      "text/plain": [
       "array([1., 2., 3., 4., 6.])"
      ]
     },
     "execution_count": 9,
     "metadata": {},
     "output_type": "execute_result"
    }
   ],
   "source": [
    "np.ceil(np.array([1,2,3,4,5.5]))"
   ]
  },
  {
   "cell_type": "code",
   "execution_count": 10,
   "id": "92ae302e",
   "metadata": {},
   "outputs": [
    {
     "data": {
      "text/plain": [
       "array([2., 3., 4., 5., 6.])"
      ]
     },
     "execution_count": 10,
     "metadata": {},
     "output_type": "execute_result"
    }
   ],
   "source": [
    "np.ceil(np.array([1.1,2.2,3.3,4.4,5.5]))"
   ]
  },
  {
   "cell_type": "markdown",
   "id": "33e2ffa5",
   "metadata": {},
   "source": [
    "### 14. np.floor()"
   ]
  },
  {
   "cell_type": "code",
   "execution_count": 11,
   "id": "858f9873",
   "metadata": {},
   "outputs": [
    {
     "data": {
      "text/plain": [
       "2.5"
      ]
     },
     "execution_count": 11,
     "metadata": {},
     "output_type": "execute_result"
    }
   ],
   "source": [
    "5/2"
   ]
  },
  {
   "cell_type": "code",
   "execution_count": 12,
   "id": "a93d5aac",
   "metadata": {},
   "outputs": [
    {
     "data": {
      "text/plain": [
       "2"
      ]
     },
     "execution_count": 12,
     "metadata": {},
     "output_type": "execute_result"
    }
   ],
   "source": [
    "5//2"
   ]
  },
  {
   "cell_type": "code",
   "execution_count": 13,
   "id": "9ba210dc",
   "metadata": {},
   "outputs": [
    {
     "data": {
      "text/plain": [
       "2.0"
      ]
     },
     "execution_count": 13,
     "metadata": {},
     "output_type": "execute_result"
    }
   ],
   "source": [
    "np.floor(2.9)"
   ]
  },
  {
   "cell_type": "code",
   "execution_count": 14,
   "id": "11c7a6bf",
   "metadata": {},
   "outputs": [
    {
     "data": {
      "text/plain": [
       "5.0"
      ]
     },
     "execution_count": 14,
     "metadata": {},
     "output_type": "execute_result"
    }
   ],
   "source": [
    "np.floor(5.5)"
   ]
  },
  {
   "cell_type": "code",
   "execution_count": 15,
   "id": "ec7b5aa5",
   "metadata": {},
   "outputs": [
    {
     "data": {
      "text/plain": [
       "array([1., 2., 3., 4., 5.])"
      ]
     },
     "execution_count": 15,
     "metadata": {},
     "output_type": "execute_result"
    }
   ],
   "source": [
    "np.floor(np.array([1,2,3,4,5]))"
   ]
  },
  {
   "cell_type": "code",
   "execution_count": 16,
   "id": "02d9a1ad",
   "metadata": {},
   "outputs": [
    {
     "data": {
      "text/plain": [
       "array([1., 2., 3., 4., 5.])"
      ]
     },
     "execution_count": 16,
     "metadata": {},
     "output_type": "execute_result"
    }
   ],
   "source": [
    "np.floor(np.array([1,2,3,4,5.5]))"
   ]
  },
  {
   "cell_type": "code",
   "execution_count": 17,
   "id": "0d765012",
   "metadata": {},
   "outputs": [
    {
     "data": {
      "text/plain": [
       "array([1., 2., 3., 4., 5.])"
      ]
     },
     "execution_count": 17,
     "metadata": {},
     "output_type": "execute_result"
    }
   ],
   "source": [
    "np.floor(np.array([1.1,2.2,3.3,4.4,5.5]))"
   ]
  },
  {
   "cell_type": "markdown",
   "id": "165e1bf3",
   "metadata": {},
   "source": [
    "### 15. np.around()"
   ]
  },
  {
   "cell_type": "code",
   "execution_count": 19,
   "id": "dc23a69f",
   "metadata": {},
   "outputs": [
    {
     "data": {
      "text/plain": [
       "1.77"
      ]
     },
     "execution_count": 19,
     "metadata": {},
     "output_type": "execute_result"
    }
   ],
   "source": [
    "round(1.7654321,2)"
   ]
  },
  {
   "cell_type": "code",
   "execution_count": 20,
   "id": "95d6797e",
   "metadata": {},
   "outputs": [
    {
     "data": {
      "text/plain": [
       "1.76"
      ]
     },
     "execution_count": 20,
     "metadata": {},
     "output_type": "execute_result"
    }
   ],
   "source": [
    "round(1.764321,2)"
   ]
  },
  {
   "cell_type": "code",
   "execution_count": 21,
   "id": "40bed5d9",
   "metadata": {},
   "outputs": [
    {
     "data": {
      "text/plain": [
       "1.8"
      ]
     },
     "execution_count": 21,
     "metadata": {},
     "output_type": "execute_result"
    }
   ],
   "source": [
    "round(1.76,1)"
   ]
  },
  {
   "cell_type": "code",
   "execution_count": 22,
   "id": "68a7bbf2",
   "metadata": {},
   "outputs": [
    {
     "data": {
      "text/plain": [
       "array([1.765, 6.789, 2.455, 5.668])"
      ]
     },
     "execution_count": 22,
     "metadata": {},
     "output_type": "execute_result"
    }
   ],
   "source": [
    "np.around(np.array([1.7654321,6.7888978,2.4554332,5.667786]),3)"
   ]
  },
  {
   "cell_type": "markdown",
   "id": "526d2036",
   "metadata": {},
   "source": [
    "### 16. np.where()\n",
    "- np.where(condition)"
   ]
  },
  {
   "cell_type": "code",
   "execution_count": 23,
   "id": "314e2db4",
   "metadata": {},
   "outputs": [
    {
     "data": {
      "text/plain": [
       "[1, 10, 17, 22, 24]"
      ]
     },
     "execution_count": 23,
     "metadata": {},
     "output_type": "execute_result"
    }
   ],
   "source": [
    "str1 = \"Machine Learning and data science\"\n",
    "ind_li = [ind for ind,val in enumerate(str1.lower()) if val == \"a\"]\n",
    "ind_li"
   ]
  },
  {
   "cell_type": "code",
   "execution_count": 24,
   "id": "3987666a",
   "metadata": {},
   "outputs": [
    {
     "data": {
      "text/plain": [
       "array(['m', 'a', 'c', 'h', 'i', 'n', 'e', ' ', 'l', 'e', 'a', 'r', 'n',\n",
       "       'i', 'n', 'g', ' ', 'a', 'n', 'd', ' ', 'd', 'a', 't', 'a', ' ',\n",
       "       's', 'c', 'i', 'e', 'n', 'c', 'e'], dtype='<U1')"
      ]
     },
     "execution_count": 24,
     "metadata": {},
     "output_type": "execute_result"
    }
   ],
   "source": [
    "str_array = np.array(list(str1.lower()))\n",
    "str_array"
   ]
  },
  {
   "cell_type": "code",
   "execution_count": 25,
   "id": "d9eaf717",
   "metadata": {},
   "outputs": [
    {
     "data": {
      "text/plain": [
       "(array([ 1, 10, 17, 22, 24], dtype=int64),)"
      ]
     },
     "execution_count": 25,
     "metadata": {},
     "output_type": "execute_result"
    }
   ],
   "source": [
    "np.where(str_array == \"a\")"
   ]
  },
  {
   "cell_type": "code",
   "execution_count": 26,
   "id": "c5d134fb",
   "metadata": {},
   "outputs": [
    {
     "name": "stdout",
     "output_type": "stream",
     "text": [
      "[ 1 10 17 22 24]\n"
     ]
    }
   ],
   "source": [
    "for i in np.where(str_array == \"a\"):\n",
    "    print(i)"
   ]
  },
  {
   "cell_type": "code",
   "execution_count": 29,
   "id": "f38bad43",
   "metadata": {},
   "outputs": [
    {
     "data": {
      "text/plain": [
       "array([ 1, 10, 17, 22, 24], dtype=int64)"
      ]
     },
     "execution_count": 29,
     "metadata": {},
     "output_type": "execute_result"
    }
   ],
   "source": [
    "np.where(str_array == \"a\")[0]"
   ]
  },
  {
   "cell_type": "code",
   "execution_count": 30,
   "id": "f0906fde",
   "metadata": {},
   "outputs": [
    {
     "name": "stdout",
     "output_type": "stream",
     "text": [
      "1\n",
      "10\n",
      "17\n",
      "22\n",
      "24\n"
     ]
    }
   ],
   "source": [
    "for i in np.where(str_array == \"a\")[0]:\n",
    "    print(i)"
   ]
  },
  {
   "cell_type": "code",
   "execution_count": 31,
   "id": "7d91e2e5",
   "metadata": {},
   "outputs": [
    {
     "data": {
      "text/plain": [
       "[1, 10, 17, 22, 24]"
      ]
     },
     "execution_count": 31,
     "metadata": {},
     "output_type": "execute_result"
    }
   ],
   "source": [
    "list(np.where(str_array == \"a\")[0])"
   ]
  },
  {
   "cell_type": "code",
   "execution_count": 32,
   "id": "b943fe46",
   "metadata": {},
   "outputs": [
    {
     "data": {
      "text/plain": [
       "[1, 10, 17, 22, 24]"
      ]
     },
     "execution_count": 32,
     "metadata": {},
     "output_type": "execute_result"
    }
   ],
   "source": [
    "np.where(str_array == \"a\")[0].tolist()"
   ]
  },
  {
   "cell_type": "code",
   "execution_count": 33,
   "id": "0287ad44",
   "metadata": {},
   "outputs": [
    {
     "data": {
      "text/plain": [
       "(array([0, 2, 3, 4], dtype=int64),)"
      ]
     },
     "execution_count": 33,
     "metadata": {},
     "output_type": "execute_result"
    }
   ],
   "source": [
    "np.where(np.array([1,2,3,4,5]) != 2)"
   ]
  },
  {
   "cell_type": "code",
   "execution_count": 34,
   "id": "156f489a",
   "metadata": {},
   "outputs": [
    {
     "data": {
      "text/plain": [
       "(array([0, 2, 4], dtype=int64),)"
      ]
     },
     "execution_count": 34,
     "metadata": {},
     "output_type": "execute_result"
    }
   ],
   "source": [
    "np.where(np.array([1,2,3,4,5]) % 2)"
   ]
  },
  {
   "cell_type": "code",
   "execution_count": 35,
   "id": "703d12f5",
   "metadata": {},
   "outputs": [
    {
     "data": {
      "text/plain": [
       "array([1, 2, 3, 4, 5])"
      ]
     },
     "execution_count": 35,
     "metadata": {},
     "output_type": "execute_result"
    }
   ],
   "source": [
    "arr = np.array([1,2,3,4,5])\n",
    "arr"
   ]
  },
  {
   "cell_type": "code",
   "execution_count": 36,
   "id": "06609864",
   "metadata": {},
   "outputs": [
    {
     "data": {
      "text/plain": [
       "1"
      ]
     },
     "execution_count": 36,
     "metadata": {},
     "output_type": "execute_result"
    }
   ],
   "source": [
    "arr[0]"
   ]
  },
  {
   "cell_type": "code",
   "execution_count": 37,
   "id": "444f89ce",
   "metadata": {},
   "outputs": [
    {
     "data": {
      "text/plain": [
       "2"
      ]
     },
     "execution_count": 37,
     "metadata": {},
     "output_type": "execute_result"
    }
   ],
   "source": [
    "arr[1]"
   ]
  },
  {
   "cell_type": "code",
   "execution_count": 38,
   "id": "1b4dce2a",
   "metadata": {},
   "outputs": [
    {
     "data": {
      "text/plain": [
       "3"
      ]
     },
     "execution_count": 38,
     "metadata": {},
     "output_type": "execute_result"
    }
   ],
   "source": [
    "arr[2]"
   ]
  },
  {
   "cell_type": "code",
   "execution_count": 39,
   "id": "2a1479e9",
   "metadata": {},
   "outputs": [
    {
     "ename": "IndexError",
     "evalue": "too many indices for array: array is 1-dimensional, but 2 were indexed",
     "output_type": "error",
     "traceback": [
      "\u001b[1;31m---------------------------------------------------------------------------\u001b[0m",
      "\u001b[1;31mIndexError\u001b[0m                                Traceback (most recent call last)",
      "Cell \u001b[1;32mIn [39], line 1\u001b[0m\n\u001b[1;32m----> 1\u001b[0m \u001b[43marr\u001b[49m\u001b[43m[\u001b[49m\u001b[38;5;241;43m0\u001b[39;49m\u001b[43m,\u001b[49m\u001b[38;5;241;43m2\u001b[39;49m\u001b[43m]\u001b[49m\n",
      "\u001b[1;31mIndexError\u001b[0m: too many indices for array: array is 1-dimensional, but 2 were indexed"
     ]
    }
   ],
   "source": [
    "arr[0,2]"
   ]
  },
  {
   "cell_type": "code",
   "execution_count": 40,
   "id": "569e5a1e",
   "metadata": {},
   "outputs": [
    {
     "data": {
      "text/plain": [
       "[2, 3, 4]"
      ]
     },
     "execution_count": 40,
     "metadata": {},
     "output_type": "execute_result"
    }
   ],
   "source": [
    "np.where(np.array([1,2,3,4,5]) > 2)[0].tolist()"
   ]
  },
  {
   "cell_type": "markdown",
   "id": "8ed71c5e",
   "metadata": {},
   "source": [
    "## Converting array to list"
   ]
  },
  {
   "cell_type": "code",
   "execution_count": 41,
   "id": "40aab3d1",
   "metadata": {},
   "outputs": [
    {
     "data": {
      "text/plain": [
       "array([10, 20, 30, 40, 50, 60])"
      ]
     },
     "execution_count": 41,
     "metadata": {},
     "output_type": "execute_result"
    }
   ],
   "source": [
    "arr = np.array([10,20,30,40,50,60],int)\n",
    "arr"
   ]
  },
  {
   "cell_type": "code",
   "execution_count": 42,
   "id": "959574ef",
   "metadata": {},
   "outputs": [
    {
     "data": {
      "text/plain": [
       "numpy.ndarray"
      ]
     },
     "execution_count": 42,
     "metadata": {},
     "output_type": "execute_result"
    }
   ],
   "source": [
    "type(arr)"
   ]
  },
  {
   "cell_type": "code",
   "execution_count": 43,
   "id": "a4f37606",
   "metadata": {},
   "outputs": [
    {
     "data": {
      "text/plain": [
       "[10, 20, 30, 40, 50, 60]"
      ]
     },
     "execution_count": 43,
     "metadata": {},
     "output_type": "execute_result"
    }
   ],
   "source": [
    "list(arr)"
   ]
  },
  {
   "cell_type": "code",
   "execution_count": 44,
   "id": "49793cec",
   "metadata": {},
   "outputs": [
    {
     "data": {
      "text/plain": [
       "[10, 20, 30, 40, 50, 60]"
      ]
     },
     "execution_count": 44,
     "metadata": {},
     "output_type": "execute_result"
    }
   ],
   "source": [
    "arr.tolist()"
   ]
  },
  {
   "cell_type": "markdown",
   "id": "885bbea7",
   "metadata": {},
   "source": [
    "## Numerical Operations\n"
   ]
  },
  {
   "cell_type": "code",
   "execution_count": 45,
   "id": "48c35561",
   "metadata": {},
   "outputs": [
    {
     "data": {
      "text/plain": [
       "array([13, 14, 22, 13, 15])"
      ]
     },
     "execution_count": 45,
     "metadata": {},
     "output_type": "execute_result"
    }
   ],
   "source": [
    "arr = np.random.randint(10,25,size=5)\n",
    "arr"
   ]
  },
  {
   "cell_type": "code",
   "execution_count": 46,
   "id": "2b91506d",
   "metadata": {},
   "outputs": [
    {
     "data": {
      "text/plain": [
       "array([18, 19, 27, 18, 20])"
      ]
     },
     "execution_count": 46,
     "metadata": {},
     "output_type": "execute_result"
    }
   ],
   "source": [
    "arr + 5"
   ]
  },
  {
   "cell_type": "code",
   "execution_count": 47,
   "id": "98cae077",
   "metadata": {},
   "outputs": [
    {
     "data": {
      "text/plain": [
       "array([ 8,  9, 17,  8, 10])"
      ]
     },
     "execution_count": 47,
     "metadata": {},
     "output_type": "execute_result"
    }
   ],
   "source": [
    "arr - 5"
   ]
  },
  {
   "cell_type": "code",
   "execution_count": 48,
   "id": "e78626b0",
   "metadata": {},
   "outputs": [
    {
     "data": {
      "text/plain": [
       "array([26, 28, 44, 26, 30])"
      ]
     },
     "execution_count": 48,
     "metadata": {},
     "output_type": "execute_result"
    }
   ],
   "source": [
    "arr * 2"
   ]
  },
  {
   "cell_type": "code",
   "execution_count": 49,
   "id": "2c7ad764",
   "metadata": {},
   "outputs": [
    {
     "data": {
      "text/plain": [
       "array([ 6.5,  7. , 11. ,  6.5,  7.5])"
      ]
     },
     "execution_count": 49,
     "metadata": {},
     "output_type": "execute_result"
    }
   ],
   "source": [
    "arr / 2"
   ]
  },
  {
   "cell_type": "code",
   "execution_count": 50,
   "id": "c0fa4858",
   "metadata": {},
   "outputs": [
    {
     "data": {
      "text/plain": [
       "array([ 7.,  7., 11.,  7.,  8.])"
      ]
     },
     "execution_count": 50,
     "metadata": {},
     "output_type": "execute_result"
    }
   ],
   "source": [
    "np.ceil(arr / 2)"
   ]
  },
  {
   "cell_type": "code",
   "execution_count": 51,
   "id": "9c9b54fa",
   "metadata": {},
   "outputs": [
    {
     "data": {
      "text/plain": [
       "array([ 6.,  7., 11.,  6.,  7.])"
      ]
     },
     "execution_count": 51,
     "metadata": {},
     "output_type": "execute_result"
    }
   ],
   "source": [
    "np.floor(arr / 2)"
   ]
  },
  {
   "cell_type": "code",
   "execution_count": 52,
   "id": "118ef9af",
   "metadata": {},
   "outputs": [
    {
     "data": {
      "text/plain": [
       "array([ 6,  7, 11,  6,  7], dtype=int32)"
      ]
     },
     "execution_count": 52,
     "metadata": {},
     "output_type": "execute_result"
    }
   ],
   "source": [
    "arr // 2"
   ]
  },
  {
   "cell_type": "code",
   "execution_count": 53,
   "id": "6b7b0074",
   "metadata": {},
   "outputs": [
    {
     "data": {
      "text/plain": [
       "array([1, 0, 0, 1, 1], dtype=int32)"
      ]
     },
     "execution_count": 53,
     "metadata": {},
     "output_type": "execute_result"
    }
   ],
   "source": [
    "arr % 2"
   ]
  },
  {
   "cell_type": "code",
   "execution_count": 54,
   "id": "76c68197",
   "metadata": {},
   "outputs": [
    {
     "data": {
      "text/plain": [
       "array([169, 196, 484, 169, 225], dtype=int32)"
      ]
     },
     "execution_count": 54,
     "metadata": {},
     "output_type": "execute_result"
    }
   ],
   "source": [
    "arr ** 2"
   ]
  },
  {
   "cell_type": "code",
   "execution_count": 56,
   "id": "f89b70c4",
   "metadata": {},
   "outputs": [
    {
     "data": {
      "text/plain": [
       "array([ 2197,  2744, 10648,  2197,  3375], dtype=int32)"
      ]
     },
     "execution_count": 56,
     "metadata": {},
     "output_type": "execute_result"
    }
   ],
   "source": [
    "arr ** 3"
   ]
  },
  {
   "cell_type": "markdown",
   "id": "e205fdc5",
   "metadata": {},
   "source": [
    "## Matrix Addition"
   ]
  },
  {
   "cell_type": "code",
   "execution_count": 57,
   "id": "09e7c3f3",
   "metadata": {},
   "outputs": [
    {
     "data": {
      "text/plain": [
       "array([[1, 2],\n",
       "       [3, 4]])"
      ]
     },
     "execution_count": 57,
     "metadata": {},
     "output_type": "execute_result"
    }
   ],
   "source": [
    "arr1 = np.array([[1,2],[3,4]])\n",
    "arr1"
   ]
  },
  {
   "cell_type": "code",
   "execution_count": 58,
   "id": "d18b827b",
   "metadata": {},
   "outputs": [
    {
     "data": {
      "text/plain": [
       "array([[10, 20],\n",
       "       [30, 40]])"
      ]
     },
     "execution_count": 58,
     "metadata": {},
     "output_type": "execute_result"
    }
   ],
   "source": [
    "arr2 = np.array([[10,20],[30,40]])\n",
    "arr2"
   ]
  },
  {
   "cell_type": "code",
   "execution_count": 59,
   "id": "4001bfa4",
   "metadata": {},
   "outputs": [
    {
     "data": {
      "text/plain": [
       "array([[11, 22],\n",
       "       [33, 44]])"
      ]
     },
     "execution_count": 59,
     "metadata": {},
     "output_type": "execute_result"
    }
   ],
   "source": [
    "arr1 + arr2"
   ]
  },
  {
   "cell_type": "markdown",
   "id": "17b1a977",
   "metadata": {},
   "source": [
    "## np.add()"
   ]
  },
  {
   "cell_type": "code",
   "execution_count": 60,
   "id": "2c6d7388",
   "metadata": {},
   "outputs": [
    {
     "data": {
      "text/plain": [
       "array([[11, 22],\n",
       "       [33, 44]])"
      ]
     },
     "execution_count": 60,
     "metadata": {},
     "output_type": "execute_result"
    }
   ],
   "source": [
    "np.add(arr1,arr2)"
   ]
  },
  {
   "cell_type": "markdown",
   "id": "712e7427",
   "metadata": {},
   "source": [
    "## Matrix Multiplication"
   ]
  },
  {
   "cell_type": "code",
   "execution_count": 61,
   "id": "da058cd7",
   "metadata": {},
   "outputs": [
    {
     "data": {
      "text/plain": [
       "array([[1, 2],\n",
       "       [3, 4]])"
      ]
     },
     "execution_count": 61,
     "metadata": {},
     "output_type": "execute_result"
    }
   ],
   "source": [
    "arr1"
   ]
  },
  {
   "cell_type": "code",
   "execution_count": 62,
   "id": "19605c2d",
   "metadata": {},
   "outputs": [
    {
     "data": {
      "text/plain": [
       "array([[10, 20],\n",
       "       [30, 40]])"
      ]
     },
     "execution_count": 62,
     "metadata": {},
     "output_type": "execute_result"
    }
   ],
   "source": [
    "arr2"
   ]
  },
  {
   "cell_type": "code",
   "execution_count": 63,
   "id": "d429c4ce",
   "metadata": {},
   "outputs": [
    {
     "data": {
      "text/plain": [
       "array([[ 10,  40],\n",
       "       [ 90, 160]])"
      ]
     },
     "execution_count": 63,
     "metadata": {},
     "output_type": "execute_result"
    }
   ],
   "source": [
    "arr1 * arr2"
   ]
  },
  {
   "cell_type": "markdown",
   "id": "d562943b",
   "metadata": {},
   "source": [
    "## np.multiply()"
   ]
  },
  {
   "cell_type": "code",
   "execution_count": 64,
   "id": "d05bceff",
   "metadata": {},
   "outputs": [
    {
     "data": {
      "text/plain": [
       "array([[ 10,  40],\n",
       "       [ 90, 160]])"
      ]
     },
     "execution_count": 64,
     "metadata": {},
     "output_type": "execute_result"
    }
   ],
   "source": [
    "np.multiply(arr1,arr2)"
   ]
  },
  {
   "cell_type": "markdown",
   "id": "94339940",
   "metadata": {},
   "source": [
    "## Matrix Dot Product"
   ]
  },
  {
   "cell_type": "code",
   "execution_count": 65,
   "id": "146a16b2",
   "metadata": {},
   "outputs": [
    {
     "data": {
      "text/plain": [
       "array([[1, 2],\n",
       "       [3, 4]])"
      ]
     },
     "execution_count": 65,
     "metadata": {},
     "output_type": "execute_result"
    }
   ],
   "source": [
    "arr1"
   ]
  },
  {
   "cell_type": "code",
   "execution_count": 66,
   "id": "9833e49e",
   "metadata": {},
   "outputs": [
    {
     "data": {
      "text/plain": [
       "array([[10, 20],\n",
       "       [30, 40]])"
      ]
     },
     "execution_count": 66,
     "metadata": {},
     "output_type": "execute_result"
    }
   ],
   "source": [
    "arr2"
   ]
  },
  {
   "cell_type": "code",
   "execution_count": 67,
   "id": "e95a9c46",
   "metadata": {},
   "outputs": [
    {
     "data": {
      "text/plain": [
       "array([[ 70, 100],\n",
       "       [150, 220]])"
      ]
     },
     "execution_count": 67,
     "metadata": {},
     "output_type": "execute_result"
    }
   ],
   "source": [
    "np.dot(arr1,arr2)"
   ]
  }
 ],
 "metadata": {
  "kernelspec": {
   "display_name": "Python 3 (ipykernel)",
   "language": "python",
   "name": "python3"
  },
  "language_info": {
   "codemirror_mode": {
    "name": "ipython",
    "version": 3
   },
   "file_extension": ".py",
   "mimetype": "text/x-python",
   "name": "python",
   "nbconvert_exporter": "python",
   "pygments_lexer": "ipython3",
   "version": "3.12.4"
  }
 },
 "nbformat": 4,
 "nbformat_minor": 5
}
