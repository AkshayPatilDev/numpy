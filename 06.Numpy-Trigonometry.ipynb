{
 "cells": [
  {
   "cell_type": "markdown",
   "id": "9d8c8f4c",
   "metadata": {},
   "source": [
    "# Numpy-Trigonometry"
   ]
  },
  {
   "cell_type": "code",
   "execution_count": 1,
   "id": "af8539b8",
   "metadata": {},
   "outputs": [],
   "source": [
    "import numpy as np"
   ]
  },
  {
   "cell_type": "raw",
   "id": "a4c42cfe",
   "metadata": {},
   "source": [
    "sin = opp/hyp\n",
    "cos = adj/hyp\n",
    "tan = opp/adj\n",
    "cosec = 1/sin --- hyp/opp\n",
    "sec = 1/cos --- hyp/adj\n",
    "cot = 1/tan --- adj/opp"
   ]
  },
  {
   "cell_type": "code",
   "execution_count": 2,
   "id": "6ab53844",
   "metadata": {},
   "outputs": [],
   "source": [
    "pi_val = np.pi"
   ]
  },
  {
   "cell_type": "code",
   "execution_count": 3,
   "id": "a71d6bf4",
   "metadata": {},
   "outputs": [
    {
     "data": {
      "text/plain": [
       "'The value of pi --> 3.141592653589793'"
      ]
     },
     "execution_count": 3,
     "metadata": {},
     "output_type": "execute_result"
    }
   ],
   "source": [
    "f\"The value of pi --> {pi_val}\""
   ]
  },
  {
   "cell_type": "code",
   "execution_count": 5,
   "id": "0c37a537",
   "metadata": {},
   "outputs": [
    {
     "data": {
      "text/plain": [
       "0.49999999999999994"
      ]
     },
     "execution_count": 5,
     "metadata": {},
     "output_type": "execute_result"
    }
   ],
   "source": [
    "sin_30 = np.sin(pi_val / 6) #sin30\n",
    "sin_30"
   ]
  },
  {
   "cell_type": "code",
   "execution_count": 6,
   "id": "3e2bbd0e",
   "metadata": {},
   "outputs": [
    {
     "data": {
      "text/plain": [
       "0.7071067811865476"
      ]
     },
     "execution_count": 6,
     "metadata": {},
     "output_type": "execute_result"
    }
   ],
   "source": [
    "sin_45 = np.sin(pi_val / 4) #sin45\n",
    "sin_45"
   ]
  },
  {
   "cell_type": "code",
   "execution_count": 7,
   "id": "ae3fac2d",
   "metadata": {},
   "outputs": [
    {
     "data": {
      "text/plain": [
       "0.7071067811865475"
      ]
     },
     "execution_count": 7,
     "metadata": {},
     "output_type": "execute_result"
    }
   ],
   "source": [
    "1 / np.sqrt(2)"
   ]
  },
  {
   "cell_type": "code",
   "execution_count": 8,
   "id": "4e2a67c8",
   "metadata": {},
   "outputs": [
    {
     "data": {
      "text/plain": [
       "0.5000000000000001"
      ]
     },
     "execution_count": 8,
     "metadata": {},
     "output_type": "execute_result"
    }
   ],
   "source": [
    "cos_60 = np.cos(pi_val/3) #cos60\n",
    "cos_60"
   ]
  },
  {
   "cell_type": "markdown",
   "id": "3e3f82c6",
   "metadata": {},
   "source": [
    "# Degree to Redian"
   ]
  },
  {
   "cell_type": "code",
   "execution_count": 9,
   "id": "d420cdd9",
   "metadata": {},
   "outputs": [
    {
     "data": {
      "text/plain": [
       "0.5235987755982988"
      ]
     },
     "execution_count": 9,
     "metadata": {},
     "output_type": "execute_result"
    }
   ],
   "source": [
    "np.deg2rad(30)"
   ]
  },
  {
   "cell_type": "code",
   "execution_count": 10,
   "id": "b6342e65",
   "metadata": {},
   "outputs": [
    {
     "data": {
      "text/plain": [
       "1.5707963267948966"
      ]
     },
     "execution_count": 10,
     "metadata": {},
     "output_type": "execute_result"
    }
   ],
   "source": [
    "np.deg2rad(90)"
   ]
  },
  {
   "cell_type": "code",
   "execution_count": 12,
   "id": "cd1803bf",
   "metadata": {},
   "outputs": [
    {
     "data": {
      "text/plain": [
       "array([0.        , 0.52359878, 0.78539816, 1.04719755, 1.57079633])"
      ]
     },
     "execution_count": 12,
     "metadata": {},
     "output_type": "execute_result"
    }
   ],
   "source": [
    "rad_arr = np.deg2rad([0,30,45,60,90])\n",
    "rad_arr"
   ]
  },
  {
   "cell_type": "code",
   "execution_count": 13,
   "id": "40cdfd5d",
   "metadata": {},
   "outputs": [
    {
     "data": {
      "text/plain": [
       "array([0.        , 0.5       , 0.70710678, 0.8660254 , 1.        ])"
      ]
     },
     "execution_count": 13,
     "metadata": {},
     "output_type": "execute_result"
    }
   ],
   "source": [
    "np.sin(rad_arr)"
   ]
  },
  {
   "cell_type": "code",
   "execution_count": 14,
   "id": "0a7383d7",
   "metadata": {},
   "outputs": [
    {
     "data": {
      "text/plain": [
       "array([1.00000000e+00, 8.66025404e-01, 7.07106781e-01, 5.00000000e-01,\n",
       "       6.12323400e-17])"
      ]
     },
     "execution_count": 14,
     "metadata": {},
     "output_type": "execute_result"
    }
   ],
   "source": [
    "np.cos(rad_arr)"
   ]
  },
  {
   "cell_type": "code",
   "execution_count": 15,
   "id": "cb7536a5",
   "metadata": {},
   "outputs": [
    {
     "data": {
      "text/plain": [
       "array([0.00000000e+00, 5.77350269e-01, 1.00000000e+00, 1.73205081e+00,\n",
       "       1.63312394e+16])"
      ]
     },
     "execution_count": 15,
     "metadata": {},
     "output_type": "execute_result"
    }
   ],
   "source": [
    "np.tan(rad_arr)"
   ]
  },
  {
   "cell_type": "markdown",
   "id": "c4601498",
   "metadata": {},
   "source": [
    "# Radian to Degree"
   ]
  },
  {
   "cell_type": "code",
   "execution_count": 16,
   "id": "188c624a",
   "metadata": {},
   "outputs": [
    {
     "data": {
      "text/plain": [
       "array([ 0.        , 30.00000025, 44.99999981, 59.99999993, 90.00000018])"
      ]
     },
     "execution_count": 16,
     "metadata": {},
     "output_type": "execute_result"
    }
   ],
   "source": [
    "rad_val = np.array([0.        , 0.52359878, 0.78539816, 1.04719755, 1.57079633])\n",
    "degrees = np.rad2deg(rad_val)\n",
    "degrees"
   ]
  }
 ],
 "metadata": {
  "kernelspec": {
   "display_name": "Python 3 (ipykernel)",
   "language": "python",
   "name": "python3"
  },
  "language_info": {
   "codemirror_mode": {
    "name": "ipython",
    "version": 3
   },
   "file_extension": ".py",
   "mimetype": "text/x-python",
   "name": "python",
   "nbconvert_exporter": "python",
   "pygments_lexer": "ipython3",
   "version": "3.12.4"
  }
 },
 "nbformat": 4,
 "nbformat_minor": 5
}
